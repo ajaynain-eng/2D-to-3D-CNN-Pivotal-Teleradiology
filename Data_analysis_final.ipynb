{
  "nbformat": 4,
  "nbformat_minor": 0,
  "metadata": {
    "colab": {
      "name": "Data analysis final.ipynb",
      "provenance": [],
      "collapsed_sections": [],
      "mount_file_id": "17y6y9TH08vXcDP4YKkact7wPCdlxEGkQ",
      "authorship_tag": "ABX9TyO3tpkLpHlZ4Mlvm4Bs+vlg",
      "include_colab_link": true
    },
    "kernelspec": {
      "name": "python3",
      "display_name": "Python 3"
    },
    "language_info": {
      "name": "python"
    },
    "accelerator": "TPU"
  },
  "cells": [
    {
      "cell_type": "markdown",
      "metadata": {
        "id": "view-in-github",
        "colab_type": "text"
      },
      "source": [
        "<a href=\"https://colab.research.google.com/github/ajaynain-eng/2D-to-3D-CNN-Pivotal-Teleradiology/blob/main/Data_analysis_final.ipynb\" target=\"_parent\"><img src=\"https://colab.research.google.com/assets/colab-badge.svg\" alt=\"Open In Colab\"/></a>"
      ]
    },
    {
      "cell_type": "code",
      "metadata": {
        "id": "up335i2x1n3r"
      },
      "source": [
        " import os\n",
        " os.environ['KAGGLE_CONFIG_DIR'] = '/content'"
      ],
      "execution_count": 1,
      "outputs": []
    },
    {
      "cell_type": "code",
      "metadata": {
        "colab": {
          "base_uri": "https://localhost:8080/"
        },
        "id": "TkHgIzSE2EPO",
        "outputId": "21119fa8-7349-494e-c437-9d80bdfd0b0c"
      },
      "source": [
        "!kaggle datasets download -d ymirsky/medical-deepfakes-lung-cancer "
      ],
      "execution_count": 2,
      "outputs": [
        {
          "output_type": "stream",
          "text": [
            "Warning: Your Kaggle API key is readable by other users on this system! To fix this, you can run 'chmod 600 /content/kaggle.json'\n",
            "Downloading medical-deepfakes-lung-cancer.zip to /content\n",
            "100% 5.99G/5.99G [01:27<00:00, 61.9MB/s]\n",
            "100% 5.99G/5.99G [01:27<00:00, 73.5MB/s]\n"
          ],
          "name": "stdout"
        }
      ]
    },
    {
      "cell_type": "code",
      "metadata": {
        "id": "Sq4CpJxS2EY8"
      },
      "source": [
        "!pip install ktrain"
      ],
      "execution_count": null,
      "outputs": []
    },
    {
      "cell_type": "code",
      "metadata": {
        "id": "AwBjLBjw2EdN"
      },
      "source": [
        "!unzip \\*.zip && rm *.zip"
      ],
      "execution_count": null,
      "outputs": []
    },
    {
      "cell_type": "code",
      "metadata": {
        "colab": {
          "base_uri": "https://localhost:8080/"
        },
        "id": "2Syqodd52Efx",
        "outputId": "4e1fc1d0-1e28-4c36-c3d5-06d3d9b84299"
      },
      "source": [
        "!pip install pydicom"
      ],
      "execution_count": 5,
      "outputs": [
        {
          "output_type": "stream",
          "text": [
            "Collecting pydicom\n",
            "\u001b[?25l  Downloading https://files.pythonhosted.org/packages/f4/15/df16546bc59bfca390cf072d473fb2c8acd4231636f64356593a63137e55/pydicom-2.1.2-py3-none-any.whl (1.9MB)\n",
            "\u001b[K     |████████████████████████████████| 1.9MB 4.8MB/s \n",
            "\u001b[?25hInstalling collected packages: pydicom\n",
            "Successfully installed pydicom-2.1.2\n"
          ],
          "name": "stdout"
        }
      ]
    },
    {
      "cell_type": "code",
      "metadata": {
        "id": "U-u5tuRb2Eiz"
      },
      "source": [
        "# importing supporting libraries\n",
        "import pandas as pd                    # to create and read data frame and series\n",
        "import numpy as np                     # to work with array\n",
        "from matplotlib import pyplot as plt   # to plot figures\n",
        "import seaborn as sns                  # to plot interactive metric plot and heatmaps\n",
        "import cv2                             # to read and show image\n",
        "from skimage.transform import resize   # as we need to resize the image to reduce model complexity and get optimum accuracy"
      ],
      "execution_count": 6,
      "outputs": []
    },
    {
      "cell_type": "code",
      "metadata": {
        "id": "UQvfqZad2El9"
      },
      "source": [
        "import os\n",
        "import warnings\n",
        "import pydicom as dicom\n",
        "import glob"
      ],
      "execution_count": 7,
      "outputs": []
    },
    {
      "cell_type": "code",
      "metadata": {
        "id": "KyuQpGgyTS1-"
      },
      "source": [
        "import scipy.ndimage\n",
        "from skimage import measure, morphology\n",
        "from mpl_toolkits.mplot3d.art3d import Poly3DCollection"
      ],
      "execution_count": 8,
      "outputs": []
    },
    {
      "cell_type": "code",
      "metadata": {
        "id": "1nc5h7QW2Eon"
      },
      "source": [
        "# importing required CNN algorithms, optimizers and activation function\n",
        "import tensorflow as tf\n",
        "from tensorflow import keras\n",
        "#from keras.applications import VGG16\n",
        "from keras import Sequential\n",
        "from keras.layers import Conv1D, Conv2D, Conv3D, MaxPool3D, ZeroPadding3D, Dropout, BatchNormalization\n",
        "from keras.layers import Flatten, Dense, Input\n",
        "from keras.layers import LeakyReLU\n",
        "from keras.preprocessing.image import ImageDataGenerator\n",
        "from keras.optimizers import Adam, SGD\n",
        "from keras.models import Model\n",
        "from keras import callbacks\n",
        "# importing pretrained model VGG16 and VGG19\n",
        "from keras.applications.vgg16 import VGG16\n",
        "from keras.applications.vgg19 import VGG19"
      ],
      "execution_count": 9,
      "outputs": []
    },
    {
      "cell_type": "code",
      "metadata": {
        "id": "eJOX6Tqr2Esg"
      },
      "source": [
        "from skimage import measure\n",
        "from skimage.transform import resize\n",
        "from matplotlib.projections import Axes3D\n",
        "from plotly.figure_factory import create_trisurf\n",
        "from mpl_toolkits import mplot3d"
      ],
      "execution_count": 10,
      "outputs": []
    },
    {
      "cell_type": "code",
      "metadata": {
        "id": "we3XWPLx2Eyh"
      },
      "source": [
        "def transform_to_hu(medical_image, image):\n",
        "    intercept = medical_image.RescaleIntercept\n",
        "    slope = medical_image.RescaleSlope\n",
        "    hu_image = image * slope + intercept\n",
        "    return hu_image\n",
        "\n",
        "def window_image(image, window_center, window_width):\n",
        "    img_min = window_center - window_width // 2\n",
        "    img_max = window_center + window_width // 2\n",
        "    window_image = image.copy()\n",
        "    window_image[window_image < img_min] = img_min\n",
        "    window_image[window_image > img_max] = img_max\n",
        "    return window_image\n",
        "\n",
        "def crop_image(image, display=False):\n",
        "# Create a mask with the background pixels\n",
        "    mask = image == 0\n",
        "# Find the lung area\n",
        "    coords = np.array(np.nonzero(~mask))\n",
        "    top_left = np.min(coords, axis=1)\n",
        "    bottom_right = np.max(coords, axis=1)\n",
        "# Remove the background\n",
        "    croped_image = image[top_left[0]:bottom_right[0],\n",
        "                         top_left[1]:bottom_right[1]]\n",
        "    return croped_image\n",
        "\n",
        "def no_crop(medical_img):         # changes the medical image in pixel array and returns the original image\n",
        "    return medical_img.pixel_array\n",
        "\n",
        "def crop_the_image_1(medical_img):     # crop the image corresponding to HU range for lungs\n",
        "    temp_medical_img = medical_img\n",
        "    temp_img = temp_medical_img.pixel_array\n",
        "    hu_image = transform_to_hu(temp_medical_img,temp_img)\n",
        "    lung_image = window_image(hu_image, -500, 1500)\n",
        "    croped_img = crop_image(lung_image, display=False)\n",
        "    return croped_img"
      ],
      "execution_count": 11,
      "outputs": []
    },
    {
      "cell_type": "code",
      "metadata": {
        "id": "BxU_b6o52E0n"
      },
      "source": [
        "def get_data(pid, crop_function):         #  Selects and crops 110 slices and give 3D and 2D image data\n",
        "    files = glob.glob(\"/content/CT_Scans/EXP1_blind/\"+ pid +\"/*.dcm\")\n",
        "    slices = [dicom.read_file(i) for i in files]\n",
        "    slices = sorted(slices, key=lambda s: s.SliceLocation)\n",
        "    s = 0\n",
        "    views = np.empty([110,110,110])\n",
        "    x = (len(slices)-4)/109      # Select 110 slices\n",
        "    for i in range(110):\n",
        "        t = int(4+(x*i))\n",
        "        try:\n",
        "            t_img = crop_function(slices[t])\n",
        "            t_img = resize(t_img, (110,110))\n",
        "        except:\n",
        "            t_img = crop_function(slices[t-1])\n",
        "            t_img = resize(t_img, (110,110))\n",
        "            s = s + 1\n",
        "        views[:,:,i] = t_img          # 3D image array\n",
        "        i += 1\n",
        "    img_2d = views[55,:,:].T\n",
        "    img_2d = img_2d[::-1]           # 2D image array\n",
        "    print(s)     \n",
        "    return views, img_2d"
      ],
      "execution_count": 12,
      "outputs": []
    },
    {
      "cell_type": "code",
      "metadata": {
        "id": "PRSvn7gr2E4a"
      },
      "source": [
        "patients_id = os.listdir('/content/CT_Scans/EXP1_blind')"
      ],
      "execution_count": 13,
      "outputs": []
    },
    {
      "cell_type": "code",
      "metadata": {
        "colab": {
          "base_uri": "https://localhost:8080/"
        },
        "id": "nIZ_i-v22E7Y",
        "outputId": "04e4ba8f-1673-4a9e-eddb-6b7a578a0af9"
      },
      "source": [
        "f = patients_id.copy()\n",
        "g2d_0 = np.zeros((80,110,110))\n",
        "views_0 = np.zeros((80,110,110,110))\n",
        "fcount_0 = []\n",
        "for i,j in enumerate(f):\n",
        "    print(i)\n",
        "    img_3d, img_2d = get_data(j, no_crop)\n",
        "    g2d_0[i] = img_2d\n",
        "    views_0[i] = img_3d\n",
        "    #views_0[i] = selected_slices(j, no_crop)\n",
        "x_0 = g2d_0\n",
        "y_0 = views_0\n",
        "np.save('Data_out_0.npy', views_0)              # Temprory storing the data in drive\n",
        "np.save('Data_in_0.npy', g2d_0)"
      ],
      "execution_count": 14,
      "outputs": [
        {
          "output_type": "stream",
          "text": [
            "0\n",
            "1\n",
            "1\n",
            "1\n",
            "2\n",
            "1\n",
            "3\n",
            "1\n",
            "4\n",
            "0\n",
            "5\n",
            "1\n",
            "6\n",
            "1\n",
            "7\n",
            "1\n",
            "8\n",
            "1\n",
            "9\n",
            "1\n",
            "10\n",
            "1\n",
            "11\n",
            "1\n",
            "12\n",
            "1\n",
            "13\n",
            "1\n",
            "14\n",
            "1\n",
            "15\n",
            "1\n",
            "16\n",
            "1\n",
            "17\n",
            "1\n",
            "18\n",
            "1\n",
            "19\n",
            "1\n",
            "20\n",
            "1\n",
            "21\n",
            "1\n",
            "22\n",
            "1\n",
            "23\n",
            "1\n",
            "24\n",
            "1\n",
            "25\n",
            "1\n",
            "26\n",
            "1\n",
            "27\n",
            "1\n",
            "28\n",
            "1\n",
            "29\n",
            "1\n",
            "30\n",
            "1\n",
            "31\n",
            "1\n",
            "32\n",
            "1\n",
            "33\n",
            "1\n",
            "34\n",
            "1\n",
            "35\n",
            "1\n",
            "36\n",
            "1\n",
            "37\n",
            "1\n",
            "38\n",
            "1\n",
            "39\n",
            "1\n",
            "40\n",
            "1\n",
            "41\n",
            "1\n",
            "42\n",
            "1\n",
            "43\n",
            "1\n",
            "44\n",
            "0\n",
            "45\n",
            "1\n",
            "46\n",
            "0\n",
            "47\n",
            "1\n",
            "48\n",
            "1\n",
            "49\n",
            "1\n",
            "50\n",
            "1\n",
            "51\n",
            "1\n",
            "52\n",
            "0\n",
            "53\n",
            "1\n",
            "54\n",
            "1\n",
            "55\n",
            "1\n",
            "56\n",
            "1\n",
            "57\n",
            "1\n",
            "58\n",
            "1\n",
            "59\n",
            "0\n",
            "60\n",
            "1\n",
            "61\n",
            "1\n",
            "62\n",
            "1\n",
            "63\n",
            "1\n",
            "64\n",
            "1\n",
            "65\n",
            "1\n",
            "66\n",
            "1\n",
            "67\n",
            "1\n",
            "68\n",
            "1\n",
            "69\n",
            "1\n",
            "70\n",
            "1\n",
            "71\n",
            "1\n",
            "72\n",
            "1\n",
            "73\n",
            "1\n",
            "74\n",
            "1\n",
            "75\n",
            "1\n",
            "76\n",
            "0\n",
            "77\n",
            "1\n",
            "78\n",
            "1\n",
            "79\n",
            "1\n"
          ],
          "name": "stdout"
        }
      ]
    },
    {
      "cell_type": "code",
      "metadata": {
        "colab": {
          "base_uri": "https://localhost:8080/"
        },
        "id": "S6UOp6aW2E89",
        "outputId": "80137418-6c6e-40d0-8def-2c077d55b14a"
      },
      "source": [
        "f = patients_id.copy()\n",
        "g2d_1 = np.zeros((80,110,110))\n",
        "views_1 = np.zeros((80,110,110,110))\n",
        "for i,j in enumerate(f):\n",
        "    print(i)\n",
        "    img_3d, img_2d = get_data(j, crop_the_image_1)\n",
        "    g2d_1[i] = img_2d\n",
        "    views_1[i] = img_3d\n",
        "    #views_0[i] = selected_slices(j, no_crop)\n",
        "x_1 = g2d_1\n",
        "y_1 = views_1\n",
        "np.save('Data_out_1.npy', views_1)\n",
        "np.save('Data_in_1.npy', g2d_1)"
      ],
      "execution_count": 15,
      "outputs": [
        {
          "output_type": "stream",
          "text": [
            "0\n",
            "1\n",
            "1\n",
            "1\n",
            "2\n",
            "1\n",
            "3\n",
            "1\n",
            "4\n",
            "0\n",
            "5\n",
            "1\n",
            "6\n",
            "1\n",
            "7\n",
            "1\n",
            "8\n",
            "1\n",
            "9\n",
            "1\n",
            "10\n",
            "1\n",
            "11\n",
            "1\n",
            "12\n",
            "1\n",
            "13\n",
            "1\n",
            "14\n",
            "1\n",
            "15\n",
            "1\n",
            "16\n",
            "1\n",
            "17\n",
            "1\n",
            "18\n",
            "1\n",
            "19\n",
            "1\n",
            "20\n",
            "1\n",
            "21\n",
            "1\n",
            "22\n",
            "1\n",
            "23\n",
            "1\n",
            "24\n",
            "1\n",
            "25\n",
            "1\n",
            "26\n",
            "1\n",
            "27\n",
            "1\n",
            "28\n",
            "1\n",
            "29\n",
            "1\n",
            "30\n",
            "1\n",
            "31\n",
            "1\n",
            "32\n",
            "1\n",
            "33\n",
            "1\n",
            "34\n",
            "1\n",
            "35\n",
            "1\n",
            "36\n",
            "1\n",
            "37\n",
            "1\n",
            "38\n",
            "1\n",
            "39\n",
            "1\n",
            "40\n",
            "1\n",
            "41\n",
            "1\n",
            "42\n",
            "1\n",
            "43\n",
            "1\n",
            "44\n",
            "0\n",
            "45\n",
            "1\n",
            "46\n",
            "0\n",
            "47\n",
            "1\n",
            "48\n",
            "1\n",
            "49\n",
            "1\n",
            "50\n",
            "1\n",
            "51\n",
            "1\n",
            "52\n",
            "0\n",
            "53\n",
            "1\n",
            "54\n",
            "1\n",
            "55\n",
            "1\n",
            "56\n",
            "1\n",
            "57\n",
            "1\n",
            "58\n",
            "1\n",
            "59\n",
            "0\n",
            "60\n",
            "1\n",
            "61\n",
            "1\n",
            "62\n",
            "1\n",
            "63\n",
            "1\n",
            "64\n",
            "1\n",
            "65\n",
            "1\n",
            "66\n",
            "1\n",
            "67\n",
            "1\n",
            "68\n",
            "1\n",
            "69\n",
            "1\n",
            "70\n",
            "1\n",
            "71\n",
            "1\n",
            "72\n",
            "1\n",
            "73\n",
            "1\n",
            "74\n",
            "1\n",
            "75\n",
            "1\n",
            "76\n",
            "0\n",
            "77\n",
            "1\n",
            "78\n",
            "1\n",
            "79\n",
            "1\n"
          ],
          "name": "stdout"
        }
      ]
    },
    {
      "cell_type": "code",
      "metadata": {
        "id": "PM9ophsK2E_g"
      },
      "source": [
        "x_0 = np.load('/content/Data_in_0.npy')\n",
        "y_0 = np.load('/content/Data_out_0.npy')\n",
        "x_1 = np.load('/content/Data_in_1.npy')\n",
        "y_1 = np.load('/content/Data_out_1.npy')"
      ],
      "execution_count": 16,
      "outputs": []
    },
    {
      "cell_type": "code",
      "metadata": {
        "id": "rEY9lYdK2FCA"
      },
      "source": [
        "def plot_learning_curve(model, epochs):   \n",
        "    plt.figure(figsize=(15,6))\n",
        "    plt.plot(np.arange(0,epochs), model.history['accuracy'], color = 'green', label = 'train_accuracy')\n",
        "    plt.plot(np.arange(0,epochs), model.history['loss'], color = 'red', label = 'train_loss')\n",
        "    plt.plot(np.arange(0,epochs), model.history['val_accuracy'], color = 'blue', label = 'test_accuracy')\n",
        "    plt.plot(np.arange(0,epochs), model.history['val_loss'], color = 'black', label = 'test_loss')\n",
        "    plt.grid()\n",
        "    plt.xlabel('no. of epochs')\n",
        "    plt.ylabel('accuracy and loss')\n",
        "    plt.legend(loc = 'lower right')\n",
        "\n",
        "def plot_accuracy_curve(model, epochs):    \n",
        "    plt.figure(figsize=(15,6))\n",
        "    plt.plot(np.arange(0,epochs), model.history['accuracy'], color = 'green', label='accuracy')\n",
        "    plt.plot(np.arange(0,epochs), model.history['val_accuracy'], color = 'red', label = 'test accuracy')\n",
        "    plt.grid()\n",
        "    plt.legend(loc = 'lower right')"
      ],
      "execution_count": 17,
      "outputs": []
    },
    {
      "cell_type": "code",
      "metadata": {
        "id": "tKsisTHB2FEh"
      },
      "source": [
        "x_train_0 = x_0[:66]\n",
        "x_test_0 = x_0[65:]\n",
        "y_train_0 = y_0[:66]\n",
        "y_test_0 = y_0[65:]\n",
        "\n",
        "x0 = x_train_0[:,1,:]\n",
        "y0 = y_train_0[:,:,:,1]          # temp_x = x_0[:][:,1,:], temp_y = y_0[:][:,:,:,1]\n",
        "x_test0 = x_test_0[:,1,:]\n",
        "y_test0 = y_test_0[:,:,:,1]\n",
        "x_train_1 = x_1[:66]\n",
        "x_test_1 = x_1[65:]\n",
        "y_train_1 = y_1[:66]\n",
        "y_test_1 = y_1[65:]\n",
        "\n",
        "x1 = x_train_1[:,1,:]\n",
        "y1 = y_train_1[:,:,:,1]\n",
        "x_test1 = x_test_1[:,1,:]\n",
        "y_test1 = y_test_1[:,:,:,1]"
      ],
      "execution_count": 18,
      "outputs": []
    },
    {
      "cell_type": "code",
      "metadata": {
        "colab": {
          "base_uri": "https://localhost:8080/"
        },
        "id": "GLcrlamr2FH1",
        "outputId": "bdd95786-b5b7-4deb-c816-2583fe004656"
      },
      "source": [
        "x_test0 = x_test0.reshape(15,110,1)\n",
        "x0 = x0.reshape(66,110,1)\n",
        "\n",
        "x_test1 = x_test1.reshape(15,110,1)\n",
        "x1 = x1.reshape(66,110,1)\n",
        "\n",
        "x0.shape, y0.shape"
      ],
      "execution_count": 19,
      "outputs": [
        {
          "output_type": "execute_result",
          "data": {
            "text/plain": [
              "((66, 110, 1), (66, 110, 110))"
            ]
          },
          "metadata": {
            "tags": []
          },
          "execution_count": 19
        }
      ]
    },
    {
      "cell_type": "code",
      "metadata": {
        "colab": {
          "base_uri": "https://localhost:8080/"
        },
        "id": "HRveqJMVV1kR",
        "outputId": "1b0ad67b-2655-4624-cb22-14ce42dcefb2"
      },
      "source": [
        "y_0[0].shape"
      ],
      "execution_count": 20,
      "outputs": [
        {
          "output_type": "execute_result",
          "data": {
            "text/plain": [
              "(110, 110, 110)"
            ]
          },
          "metadata": {
            "tags": []
          },
          "execution_count": 20
        }
      ]
    },
    {
      "cell_type": "code",
      "metadata": {
        "id": "In_vWV3w2F6U"
      },
      "source": [
        "from sklearn.neighbors import KNeighborsRegressor\n",
        "from sklearn.ensemble import RandomForestRegressor\n",
        "from sklearn.linear_model import LinearRegression, Lasso\n",
        "from sklearn.neighbors import KNeighborsRegressor\n",
        "from sklearn.ensemble import RandomForestRegressor\n",
        "from sklearn.linear_model import LinearRegression, Lasso\n",
        "from sklearn.neighbors import KNeighborsRegressor\n",
        "from sklearn.model_selection import cross_val_score"
      ],
      "execution_count": 21,
      "outputs": []
    },
    {
      "cell_type": "code",
      "metadata": {
        "id": "CgZZnUYS9CFl"
      },
      "source": [
        "def get_correlation(data, threshold):\n",
        "    corr_col = set()\n",
        "    corr = data.corr()\n",
        "    for i in range(len(corr.columns)):\n",
        "        for j in range(i):\n",
        "            if abs(corr.iloc[i,j]) > threshold:  #if abs(corr.iloc[i,j]) > threshold:\n",
        "                corr_col.add(corr.columns[i])\n",
        "    return corr_col\n",
        "\n",
        "def get_uncorr_data(train_data, test_data, threshold):\n",
        "\n",
        "    corr_columns = get_correlation(pd.DataFrame(train_data), threshold)\n",
        "    print(f'there are {len(corr_columns)} correlated columns with correlation higher than {threshold}','\\n')\n",
        "\n",
        "    corrmat = pd.DataFrame(train_data).corr()\n",
        "\n",
        "    corrdata = corrmat.stack().sort_values(ascending = False)  #corrdata = corrmat.abs().stack().sort_values(ascending = False)\n",
        "\n",
        "    corrdata = corrdata[corrdata > threshold]\n",
        "    corrdata = corrdata[corrdata < 1]\n",
        "    corrdata = pd.DataFrame(corrdata).reset_index()\n",
        "    corrdata.columns = ['feature1','feature2', 'value']\n",
        "\n",
        "    grouped_column_list = []\n",
        "    correlated_group_list = []\n",
        "    for column in corrdata['feature1']:\n",
        "        if column not in grouped_column_list:\n",
        "            correlated_block = corrdata[corrdata.feature1 == column]\n",
        "            grouped_column_list = grouped_column_list + list(correlated_block.feature2.unique()) + [column]\n",
        "            correlated_group_list.append(correlated_block)\n",
        "\n",
        "    important_columns = []\n",
        "    for data in correlated_group_list:\n",
        "        columns = list(data.feature1.unique()) + list(data.feature2.unique())\n",
        "        important_columns.append(columns[0])\n",
        "\n",
        "    new_to_drop = list(corr_columns - set(important_columns))\n",
        "\n",
        "    l = new_to_drop\n",
        "\n",
        "    columns_to_drop = list()\n",
        "    for i in l:\n",
        "        if i not in [0,1,108,109]:\n",
        "            if (i-1 not in columns_to_drop and i+1 not in columns_to_drop):     ####\n",
        "                if (i-2 not in columns_to_drop and i+2 not in columns_to_drop):\n",
        "                    columns_to_drop.append(int(i))\n",
        "\n",
        "    print(f'total columns which were droped are {len(columns_to_drop)}')\n",
        "\n",
        "    col_to_drop_df = pd.concat([corrdata, pd.Series(columns_to_drop, name = 'column_to_drop')], axis = 1)\n",
        "\n",
        "    y_train_grouped_uncorr = pd.DataFrame(y0[0]).drop(columns_to_drop, axis = 1)\n",
        "    y_test_grouped_uncorr =pd.DataFrame(y_test0[0]).drop(columns_to_drop, axis = 1)\n",
        "    \n",
        "    return y_train_grouped_uncorr, y_test_grouped_uncorr, col_to_drop_df"
      ],
      "execution_count": 161,
      "outputs": []
    },
    {
      "cell_type": "code",
      "metadata": {
        "colab": {
          "base_uri": "https://localhost:8080/"
        },
        "id": "vZnYDy2q7Slb",
        "outputId": "7b972fc2-bd01-4cd5-e9c6-fe42c9270a2d"
      },
      "source": [
        "y_train_grouped_uncorr, y_test_grouped_uncorr, col_to_drop_df = get_uncorr_data(y0[0], y_test0[0], 0.96)"
      ],
      "execution_count": 162,
      "outputs": [
        {
          "output_type": "stream",
          "text": [
            "there are 104 correlated columns with correlation higher than 0.96 \n",
            "\n",
            "total columns which were droped are 31\n"
          ],
          "name": "stdout"
        }
      ]
    },
    {
      "cell_type": "code",
      "metadata": {
        "colab": {
          "base_uri": "https://localhost:8080/",
          "height": 965
        },
        "id": "GeVKURVOG2KH",
        "outputId": "be34f9bf-59e6-4ae4-9e97-bd4d95b3a15d"
      },
      "source": [
        "col_to_drop_df.dropna()"
      ],
      "execution_count": 24,
      "outputs": [
        {
          "output_type": "execute_result",
          "data": {
            "text/html": [
              "<div>\n",
              "<style scoped>\n",
              "    .dataframe tbody tr th:only-of-type {\n",
              "        vertical-align: middle;\n",
              "    }\n",
              "\n",
              "    .dataframe tbody tr th {\n",
              "        vertical-align: top;\n",
              "    }\n",
              "\n",
              "    .dataframe thead th {\n",
              "        text-align: right;\n",
              "    }\n",
              "</style>\n",
              "<table border=\"1\" class=\"dataframe\">\n",
              "  <thead>\n",
              "    <tr style=\"text-align: right;\">\n",
              "      <th></th>\n",
              "      <th>feature1</th>\n",
              "      <th>feature2</th>\n",
              "      <th>value</th>\n",
              "      <th>column_to_drop</th>\n",
              "    </tr>\n",
              "  </thead>\n",
              "  <tbody>\n",
              "    <tr>\n",
              "      <th>0</th>\n",
              "      <td>0</td>\n",
              "      <td>109</td>\n",
              "      <td>0.999921</td>\n",
              "      <td>6.0</td>\n",
              "    </tr>\n",
              "    <tr>\n",
              "      <th>1</th>\n",
              "      <td>109</td>\n",
              "      <td>0</td>\n",
              "      <td>0.999921</td>\n",
              "      <td>9.0</td>\n",
              "    </tr>\n",
              "    <tr>\n",
              "      <th>2</th>\n",
              "      <td>1</td>\n",
              "      <td>108</td>\n",
              "      <td>0.997669</td>\n",
              "      <td>12.0</td>\n",
              "    </tr>\n",
              "    <tr>\n",
              "      <th>3</th>\n",
              "      <td>108</td>\n",
              "      <td>1</td>\n",
              "      <td>0.997669</td>\n",
              "      <td>16.0</td>\n",
              "    </tr>\n",
              "    <tr>\n",
              "      <th>4</th>\n",
              "      <td>44</td>\n",
              "      <td>43</td>\n",
              "      <td>0.997449</td>\n",
              "      <td>19.0</td>\n",
              "    </tr>\n",
              "    <tr>\n",
              "      <th>5</th>\n",
              "      <td>43</td>\n",
              "      <td>44</td>\n",
              "      <td>0.997449</td>\n",
              "      <td>22.0</td>\n",
              "    </tr>\n",
              "    <tr>\n",
              "      <th>6</th>\n",
              "      <td>46</td>\n",
              "      <td>45</td>\n",
              "      <td>0.995738</td>\n",
              "      <td>25.0</td>\n",
              "    </tr>\n",
              "    <tr>\n",
              "      <th>7</th>\n",
              "      <td>45</td>\n",
              "      <td>46</td>\n",
              "      <td>0.995738</td>\n",
              "      <td>28.0</td>\n",
              "    </tr>\n",
              "    <tr>\n",
              "      <th>8</th>\n",
              "      <td>40</td>\n",
              "      <td>39</td>\n",
              "      <td>0.995547</td>\n",
              "      <td>31.0</td>\n",
              "    </tr>\n",
              "    <tr>\n",
              "      <th>9</th>\n",
              "      <td>39</td>\n",
              "      <td>40</td>\n",
              "      <td>0.995547</td>\n",
              "      <td>34.0</td>\n",
              "    </tr>\n",
              "    <tr>\n",
              "      <th>10</th>\n",
              "      <td>5</td>\n",
              "      <td>104</td>\n",
              "      <td>0.995479</td>\n",
              "      <td>37.0</td>\n",
              "    </tr>\n",
              "    <tr>\n",
              "      <th>11</th>\n",
              "      <td>104</td>\n",
              "      <td>5</td>\n",
              "      <td>0.995479</td>\n",
              "      <td>41.0</td>\n",
              "    </tr>\n",
              "    <tr>\n",
              "      <th>12</th>\n",
              "      <td>103</td>\n",
              "      <td>6</td>\n",
              "      <td>0.995177</td>\n",
              "      <td>45.0</td>\n",
              "    </tr>\n",
              "    <tr>\n",
              "      <th>13</th>\n",
              "      <td>6</td>\n",
              "      <td>103</td>\n",
              "      <td>0.995177</td>\n",
              "      <td>48.0</td>\n",
              "    </tr>\n",
              "    <tr>\n",
              "      <th>14</th>\n",
              "      <td>40</td>\n",
              "      <td>41</td>\n",
              "      <td>0.995128</td>\n",
              "      <td>51.0</td>\n",
              "    </tr>\n",
              "    <tr>\n",
              "      <th>15</th>\n",
              "      <td>41</td>\n",
              "      <td>40</td>\n",
              "      <td>0.995128</td>\n",
              "      <td>54.0</td>\n",
              "    </tr>\n",
              "    <tr>\n",
              "      <th>16</th>\n",
              "      <td>42</td>\n",
              "      <td>43</td>\n",
              "      <td>0.995104</td>\n",
              "      <td>58.0</td>\n",
              "    </tr>\n",
              "    <tr>\n",
              "      <th>17</th>\n",
              "      <td>43</td>\n",
              "      <td>42</td>\n",
              "      <td>0.995104</td>\n",
              "      <td>61.0</td>\n",
              "    </tr>\n",
              "    <tr>\n",
              "      <th>18</th>\n",
              "      <td>37</td>\n",
              "      <td>36</td>\n",
              "      <td>0.995095</td>\n",
              "      <td>65.0</td>\n",
              "    </tr>\n",
              "    <tr>\n",
              "      <th>19</th>\n",
              "      <td>36</td>\n",
              "      <td>37</td>\n",
              "      <td>0.995095</td>\n",
              "      <td>68.0</td>\n",
              "    </tr>\n",
              "    <tr>\n",
              "      <th>20</th>\n",
              "      <td>7</td>\n",
              "      <td>102</td>\n",
              "      <td>0.995069</td>\n",
              "      <td>71.0</td>\n",
              "    </tr>\n",
              "    <tr>\n",
              "      <th>21</th>\n",
              "      <td>102</td>\n",
              "      <td>7</td>\n",
              "      <td>0.995069</td>\n",
              "      <td>74.0</td>\n",
              "    </tr>\n",
              "    <tr>\n",
              "      <th>22</th>\n",
              "      <td>70</td>\n",
              "      <td>69</td>\n",
              "      <td>0.994968</td>\n",
              "      <td>77.0</td>\n",
              "    </tr>\n",
              "    <tr>\n",
              "      <th>23</th>\n",
              "      <td>69</td>\n",
              "      <td>70</td>\n",
              "      <td>0.994968</td>\n",
              "      <td>80.0</td>\n",
              "    </tr>\n",
              "    <tr>\n",
              "      <th>24</th>\n",
              "      <td>73</td>\n",
              "      <td>72</td>\n",
              "      <td>0.994356</td>\n",
              "      <td>83.0</td>\n",
              "    </tr>\n",
              "    <tr>\n",
              "      <th>25</th>\n",
              "      <td>72</td>\n",
              "      <td>73</td>\n",
              "      <td>0.994356</td>\n",
              "      <td>86.0</td>\n",
              "    </tr>\n",
              "    <tr>\n",
              "      <th>26</th>\n",
              "      <td>34</td>\n",
              "      <td>33</td>\n",
              "      <td>0.994337</td>\n",
              "      <td>89.0</td>\n",
              "    </tr>\n",
              "    <tr>\n",
              "      <th>27</th>\n",
              "      <td>33</td>\n",
              "      <td>34</td>\n",
              "      <td>0.994337</td>\n",
              "      <td>93.0</td>\n",
              "    </tr>\n",
              "    <tr>\n",
              "      <th>28</th>\n",
              "      <td>101</td>\n",
              "      <td>8</td>\n",
              "      <td>0.994260</td>\n",
              "      <td>96.0</td>\n",
              "    </tr>\n",
              "    <tr>\n",
              "      <th>29</th>\n",
              "      <td>8</td>\n",
              "      <td>101</td>\n",
              "      <td>0.994260</td>\n",
              "      <td>99.0</td>\n",
              "    </tr>\n",
              "    <tr>\n",
              "      <th>30</th>\n",
              "      <td>45</td>\n",
              "      <td>44</td>\n",
              "      <td>0.994223</td>\n",
              "      <td>102.0</td>\n",
              "    </tr>\n",
              "  </tbody>\n",
              "</table>\n",
              "</div>"
            ],
            "text/plain": [
              "    feature1  feature2     value  column_to_drop\n",
              "0          0       109  0.999921             6.0\n",
              "1        109         0  0.999921             9.0\n",
              "2          1       108  0.997669            12.0\n",
              "3        108         1  0.997669            16.0\n",
              "4         44        43  0.997449            19.0\n",
              "5         43        44  0.997449            22.0\n",
              "6         46        45  0.995738            25.0\n",
              "7         45        46  0.995738            28.0\n",
              "8         40        39  0.995547            31.0\n",
              "9         39        40  0.995547            34.0\n",
              "10         5       104  0.995479            37.0\n",
              "11       104         5  0.995479            41.0\n",
              "12       103         6  0.995177            45.0\n",
              "13         6       103  0.995177            48.0\n",
              "14        40        41  0.995128            51.0\n",
              "15        41        40  0.995128            54.0\n",
              "16        42        43  0.995104            58.0\n",
              "17        43        42  0.995104            61.0\n",
              "18        37        36  0.995095            65.0\n",
              "19        36        37  0.995095            68.0\n",
              "20         7       102  0.995069            71.0\n",
              "21       102         7  0.995069            74.0\n",
              "22        70        69  0.994968            77.0\n",
              "23        69        70  0.994968            80.0\n",
              "24        73        72  0.994356            83.0\n",
              "25        72        73  0.994356            86.0\n",
              "26        34        33  0.994337            89.0\n",
              "27        33        34  0.994337            93.0\n",
              "28       101         8  0.994260            96.0\n",
              "29         8       101  0.994260            99.0\n",
              "30        45        44  0.994223           102.0"
            ]
          },
          "metadata": {
            "tags": []
          },
          "execution_count": 24
        }
      ]
    },
    {
      "cell_type": "code",
      "metadata": {
        "id": "gPZbnpbhNH2e"
      },
      "source": [
        "col_to_drop = list(col_to_drop_df.dropna().sort_values(by = 'value', ascending=False)['column_to_drop'])"
      ],
      "execution_count": 25,
      "outputs": []
    },
    {
      "cell_type": "code",
      "metadata": {
        "colab": {
          "base_uri": "https://localhost:8080/"
        },
        "id": "Zw67__dwPcTn",
        "outputId": "e6b1a326-567b-4970-926f-e70767b6982c"
      },
      "source": [
        "col_to_drop = [int(i) for i in col_to_drop]\n",
        "col_to_drop.sort()\n",
        "len(col_to_drop)"
      ],
      "execution_count": 26,
      "outputs": [
        {
          "output_type": "execute_result",
          "data": {
            "text/plain": [
              "31"
            ]
          },
          "metadata": {
            "tags": []
          },
          "execution_count": 26
        }
      ]
    },
    {
      "cell_type": "code",
      "metadata": {
        "colab": {
          "base_uri": "https://localhost:8080/"
        },
        "id": "_Q-T8cOtQ4xY",
        "outputId": "e81fe099-b803-4551-c6ae-272b3f21b8a1"
      },
      "source": [
        "col_to_drop"
      ],
      "execution_count": 27,
      "outputs": [
        {
          "output_type": "execute_result",
          "data": {
            "text/plain": [
              "[6,\n",
              " 9,\n",
              " 12,\n",
              " 16,\n",
              " 19,\n",
              " 22,\n",
              " 25,\n",
              " 28,\n",
              " 31,\n",
              " 34,\n",
              " 37,\n",
              " 41,\n",
              " 45,\n",
              " 48,\n",
              " 51,\n",
              " 54,\n",
              " 58,\n",
              " 61,\n",
              " 65,\n",
              " 68,\n",
              " 71,\n",
              " 74,\n",
              " 77,\n",
              " 80,\n",
              " 83,\n",
              " 86,\n",
              " 89,\n",
              " 93,\n",
              " 96,\n",
              " 99,\n",
              " 102]"
            ]
          },
          "metadata": {
            "tags": []
          },
          "execution_count": 27
        }
      ]
    },
    {
      "cell_type": "code",
      "metadata": {
        "id": "6gY21I-ZVgfx"
      },
      "source": [
        "temp_x = x_0[:][:,1,:]\n",
        "temp_y = y_0[:][:,:,:,1]"
      ],
      "execution_count": 28,
      "outputs": []
    },
    {
      "cell_type": "code",
      "metadata": {
        "colab": {
          "base_uri": "https://localhost:8080/",
          "height": 513
        },
        "id": "xQ90r5xmKMYT",
        "outputId": "5167ab4c-bac8-4081-c1bb-c8d1800aa0d3"
      },
      "source": [
        "plt.figure(figsize = (20,8))\n",
        "corrmat = pd.DataFrame(y0[0]).corr()\n",
        "sns.heatmap(corrmat)"
      ],
      "execution_count": 29,
      "outputs": [
        {
          "output_type": "execute_result",
          "data": {
            "text/plain": [
              "<matplotlib.axes._subplots.AxesSubplot at 0x7f67b27a2b90>"
            ]
          },
          "metadata": {
            "tags": []
          },
          "execution_count": 29
        },
        {
          "output_type": "display_data",
          "data": {
            "image/png": "[encoded data removed]",
            "text/plain": [
              "<Figure size 1440x576 with 2 Axes>"
            ]
          },
          "metadata": {
            "tags": [],
            "needs_background": "light"
          }
        }
      ]
    },
    {
      "cell_type": "code",
      "metadata": {
        "id": "yg5cxqJuv7I2"
      },
      "source": [
        "imp_col = list()\n",
        "droped_col = list()\n",
        "l = y_train_grouped_uncorr.columns\n",
        "for i in np.arange(2,108):\n",
        "    if i not in l:\n",
        "        droped_col.append(i)\n",
        "        imp_col.append([i-2,i-1,i+1,i+2])"
      ],
      "execution_count": 30,
      "outputs": []
    },
    {
      "cell_type": "code",
      "metadata": {
        "colab": {
          "base_uri": "https://localhost:8080/"
        },
        "id": "_Qxbb0XVxIle",
        "outputId": "4d38a440-fd67-48d9-f524-81ae650a8e1e"
      },
      "source": [
        "len(imp_col)"
      ],
      "execution_count": 31,
      "outputs": [
        {
          "output_type": "execute_result",
          "data": {
            "text/plain": [
              "31"
            ]
          },
          "metadata": {
            "tags": []
          },
          "execution_count": 31
        }
      ]
    },
    {
      "cell_type": "code",
      "metadata": {
        "colab": {
          "base_uri": "https://localhost:8080/"
        },
        "id": "DB-AngpvMc7E",
        "outputId": "f35bcbb0-8739-443c-9225-f3b0f9632f47"
      },
      "source": [
        "imp_col"
      ],
      "execution_count": 166,
      "outputs": [
        {
          "output_type": "execute_result",
          "data": {
            "text/plain": [
              "[[4, 5, 7, 8],\n",
              " [7, 8, 10, 11],\n",
              " [10, 11, 13, 14],\n",
              " [14, 15, 17, 18],\n",
              " [17, 18, 20, 21],\n",
              " [20, 21, 23, 24],\n",
              " [23, 24, 26, 27],\n",
              " [26, 27, 29, 30],\n",
              " [29, 30, 32, 33],\n",
              " [32, 33, 35, 36],\n",
              " [35, 36, 38, 39],\n",
              " [39, 40, 42, 43],\n",
              " [43, 44, 46, 47],\n",
              " [46, 47, 49, 50],\n",
              " [49, 50, 52, 53],\n",
              " [52, 53, 55, 56],\n",
              " [56, 57, 59, 60],\n",
              " [59, 60, 62, 63],\n",
              " [63, 64, 66, 67],\n",
              " [66, 67, 69, 70],\n",
              " [69, 70, 72, 73],\n",
              " [72, 73, 75, 76],\n",
              " [75, 76, 78, 79],\n",
              " [78, 79, 81, 82],\n",
              " [81, 82, 84, 85],\n",
              " [84, 85, 87, 88],\n",
              " [87, 88, 90, 91],\n",
              " [91, 92, 94, 95],\n",
              " [94, 95, 97, 98],\n",
              " [97, 98, 100, 101],\n",
              " [100, 101, 103, 104]]"
            ]
          },
          "metadata": {
            "tags": []
          },
          "execution_count": 166
        }
      ]
    },
    {
      "cell_type": "code",
      "metadata": {
        "id": "lvqxbDE8vwEs"
      },
      "source": [
        "def get_cross_val_score(droped_col, imp_col,y_train_grouped_uncorr, y_test_grouped_uncorr, y_0, y0, y_test0):    \n",
        "    rf_score = list()\n",
        "    rf_score_mean = list()      # diff_1 = droped_col[i] - droped_col[i-1]\n",
        "    knn_score = list()          # diff_2 = droped_col[i+1] - droped_col[i] - 1\n",
        "    knn_score_mean = list()     # training_col = imp_col[diff_1:-diff_2]\n",
        "    knn_neighbors = list()\n",
        "    neighbors = 2\n",
        "    estimators = 60\n",
        "    for i, j in enumerate(droped_col):\n",
        "        rf = RandomForestRegressor(n_estimators=40, random_state=0)\n",
        "        rf.fit(y_train_grouped_uncorr[[j-1,j+1]] + y0[0][:,j:j+1], pd.DataFrame(y0[0])[j])\n",
        "        rf_score.append((rf.score(y_test_grouped_uncorr[[j-1,j+1]] + y_test0[0][:,j:j+1], pd.DataFrame(y_test0[0])[j]))*100)\n",
        "        rf_val_score = np.array(cross_val_score(rf, pd.DataFrame(y_0[0])[imp_col[i]] + y0[0][:,j:j+1], pd.DataFrame(y_0[0])[j]))\n",
        "        #rf_score += list(rf_val_score)*100\n",
        "        rf_score_mean.append(rf_val_score.mean()*100)\n",
        "        knn_val_score = cross_val_score(KNeighborsRegressor(n_neighbors=neighbors), pd.DataFrame(y_0[0])[imp_col[i]] + y_0[0][:,j:j+1], pd.DataFrame(y_0[0])[j])\n",
        "        mean = knn_val_score.mean()*100\n",
        "        m = list()\n",
        "        n = list()\n",
        "        p = list()\n",
        "        if mean < 0.95:\n",
        "            for k, o in enumerate([4, 6, 8, 10,12, 24]):\n",
        "                scr = cross_val_score(KNeighborsRegressor(n_neighbors=o), pd.DataFrame(y_0[0])[imp_col[i]] + y_0[0][:, j:j+1], pd.DataFrame(y_0[0])[j])\n",
        "                m.append(o)\n",
        "                n.append(scr.mean())\n",
        "                p.append(scr)\n",
        "            max_arg = np.array(n).argmax()\n",
        "            knn_neighbors.append(m[max_arg])\n",
        "            mean = n[max_arg]*100\n",
        "        else:\n",
        "            knn_neighbors.append(2)\n",
        "        knn_score_mean.append(mean)\n",
        "        #[try int(str(i)[:6]) except list(i)*100 for i in knn_val_score]\n",
        "    for i,j in enumerate(droped_col):\n",
        "        knn = KNeighborsRegressor(n_neighbors=knn_neighbors[i])\n",
        "        knn.fit(y_train_grouped_uncorr[[j-1,j+1]] + y0[0][:,j:j+1], pd.DataFrame(y0[0])[j])\n",
        "        knn_score.append((knn.score(y_test_grouped_uncorr[[j-1,j+1]] + y_test0[0][:,j:j+1], pd.DataFrame(y_test0[0])[j]))*100)\n",
        "        #rf.fit(y_train_grouped_uncorr[imp_col[i]] + y0[0][:,droped_col[i]:imp_col[i][1]], pd.DataFrame(y0[0])[droped_col[i]])      # + y0[0][:,3:4]\n",
        "        #score = rf.score(y_test_grouped_uncorr[imp_col[i]] + y_test0[0][:,droped_col[i]:imp_col[i][1]], pd.DataFrame(y_test0[0])[droped_col[i]])\n",
        "    return rf_score ,rf_score_mean, knn_score, knn_score_mean, knn_neighbors"
      ],
      "execution_count": 33,
      "outputs": []
    },
    {
      "cell_type": "code",
      "metadata": {
        "id": "nNy_hEdRswZP"
      },
      "source": [
        "rf_score ,rf_score_mean, knn_score, knn_score_mean, knn_neighbors = get_cross_val_score(droped_col, imp_col,y_train_grouped_uncorr, y_test_grouped_uncorr, y_0[:,:,:,1], y0, y_test0)"
      ],
      "execution_count": 34,
      "outputs": []
    },
    {
      "cell_type": "code",
      "metadata": {
        "colab": {
          "base_uri": "https://localhost:8080/"
        },
        "id": "jEmUmBX52IA7",
        "outputId": "5ab9eff3-bb55-40a3-f889-7c6cd2c278fa"
      },
      "source": [
        "len(rf_score), len(rf_score_mean), len(knn_score), len(knn_score_mean)"
      ],
      "execution_count": 35,
      "outputs": [
        {
          "output_type": "execute_result",
          "data": {
            "text/plain": [
              "(31, 31, 31, 31)"
            ]
          },
          "metadata": {
            "tags": []
          },
          "execution_count": 35
        }
      ]
    },
    {
      "cell_type": "code",
      "metadata": {
        "colab": {
          "base_uri": "https://localhost:8080/"
        },
        "id": "BaKik6Kzl400",
        "outputId": "b06a5f75-0d14-4750-d0bf-03eeed72ed29"
      },
      "source": [
        "y_train_grouped_uncorr.shape"
      ],
      "execution_count": 154,
      "outputs": [
        {
          "output_type": "execute_result",
          "data": {
            "text/plain": [
              "(110, 79)"
            ]
          },
          "metadata": {
            "tags": []
          },
          "execution_count": 154
        }
      ]
    },
    {
      "cell_type": "code",
      "metadata": {
        "id": "52Fa-BKX2VsF"
      },
      "source": [
        "rf_score_mean_new = [i for i in rf_score_mean if i>=0]"
      ],
      "execution_count": 36,
      "outputs": []
    },
    {
      "cell_type": "code",
      "metadata": {
        "colab": {
          "base_uri": "https://localhost:8080/"
        },
        "id": "pAQXXbsZ-PaS",
        "outputId": "df6e7fd8-47fc-42f0-c2ac-ec869efabfc1"
      },
      "source": [
        "len(rf_score_mean_new)"
      ],
      "execution_count": 37,
      "outputs": [
        {
          "output_type": "execute_result",
          "data": {
            "text/plain": [
              "27"
            ]
          },
          "metadata": {
            "tags": []
          },
          "execution_count": 37
        }
      ]
    },
    {
      "cell_type": "code",
      "metadata": {
        "colab": {
          "base_uri": "https://localhost:8080/",
          "height": 483
        },
        "id": "bzbVHtiasCUJ",
        "outputId": "b954b476-62fb-4b1f-9b55-d7215c35efad"
      },
      "source": [
        "plt.figure(figsize=(22,8))\n",
        "plt.plot(np.arange(0,len(rf_score)), rf_score, color = 'red', label = 'rf_score')\n",
        "plt.plot(np.arange(0,len(rf_score_mean_new)), rf_score_mean_new, color = 'orange', label = 'rf_score_mean')\n",
        "plt.plot(np.arange(0,len(knn_score)), knn_score, color = 'green', label = 'knn_score')\n",
        "plt.plot(np.arange(0,len(knn_score_mean)-2), knn_score_mean[2:], color = 'black', label = 'knn_score_mean')\n",
        "plt.legend()\n",
        "plt.grid()\n",
        "plt.show()"
      ],
      "execution_count": 38,
      "outputs": [
        {
          "output_type": "display_data",
          "data": {
            "image/png": "[encoded data removed]",
            "text/plain": [
              "<Figure size 1584x576 with 1 Axes>"
            ]
          },
          "metadata": {
            "tags": [],
            "needs_background": "light"
          }
        }
      ]
    },
    {
      "cell_type": "code",
      "metadata": {
        "colab": {
          "base_uri": "https://localhost:8080/"
        },
        "id": "ooy3FUGE_X_h",
        "outputId": "3f0a2bb2-f7f8-4b9f-eb7a-6e620d151696"
      },
      "source": [
        "for i in range(len(knn_score_mean)):\n",
        "    print(f'{rf_score_mean[i]} , {knn_score_mean[i]}')"
      ],
      "execution_count": 39,
      "outputs": [
        {
          "output_type": "stream",
          "text": [
            "-265.39552706340686 , 87.68086162960695\n",
            "-9.96803492974502e+24 , -6.926472749175961e+25\n",
            "54.30061441244772 , 36.877766100901226\n",
            "94.5966928065747 , 93.60678897204811\n",
            "81.83436441116238 , 80.54947597424494\n",
            "80.54972735863608 , 61.17919515704898\n",
            "86.45132582065959 , 83.44779147703638\n",
            "78.169853833926 , 80.11056581729484\n",
            "82.86941769730586 , 84.55202746177815\n",
            "93.23679018775411 , 93.51229716850442\n",
            "90.80126565983669 , 86.82810328567786\n",
            "87.75703435679813 , 88.49897426016122\n",
            "95.11819459252983 , 93.3923600925102\n",
            "90.28082143356492 , 88.11195198094225\n",
            "90.82123494454501 , 84.65752902736489\n",
            "75.1893266773184 , 70.70130220067696\n",
            "78.8814101901336 , 75.33283158225647\n",
            "75.44665585208385 , 74.540331517927\n",
            "60.86359758359849 , 55.53173616971239\n",
            "69.14047206817962 , 68.66985364827342\n",
            "85.19672196642836 , 83.0177555257434\n",
            "82.52579257238285 , 71.25096822113522\n",
            "96.47910952128187 , 94.56598454058354\n",
            "89.47207171042824 , 85.36991521478672\n",
            "78.68274914567569 , 74.97245514041904\n",
            "93.45315388911126 , 94.36746729926503\n",
            "77.48488941853915 , 92.49391763593948\n",
            "66.68984223594087 , 68.60800881128736\n",
            "-766.9160537612659 , 78.79862000579398\n",
            "75.64971600256085 , 53.37604845774688\n",
            "-215.29596881327828 , 91.31801803901759\n"
          ],
          "name": "stdout"
        }
      ]
    },
    {
      "cell_type": "code",
      "metadata": {
        "colab": {
          "base_uri": "https://localhost:8080/",
          "height": 483
        },
        "id": "51GhirV-9-2X",
        "outputId": "71328376-63d5-4913-f8a1-c87b088501d7"
      },
      "source": [
        "scr1 = list()\n",
        "droped_col_knn_score = list()\n",
        "droped_col_cross_knn_score = list()\n",
        "for j,i in enumerate(col_to_drop):\n",
        "    knn = KNeighborsRegressor(n_neighbors=2)\n",
        "    knn.fit(y_train_grouped_uncorr[[i-1,i+1]] + y0[0][:,i:i+1], pd.DataFrame(y0[0])[i])      # + y0[0][:,3:4]   + y0[0][:,4:5]\n",
        "    droped_col_knn_score.append(knn.score(y_test_grouped_uncorr[[i-1,i+1]] + y_test0[0][:,i:i+1], pd.DataFrame(y_test0[0])[i]))\n",
        "\n",
        "    knn = KNeighborsRegressor(n_neighbors=knn_neighbors[j])\n",
        "    knn.fit(pd.DataFrame(temp_x[:60])[[i-2,i-1,i+1,i+2]], pd.DataFrame(temp_x[:60])[i])             #  + pd.DataFrame(temp_x[:60])[i]\n",
        "    scr = list()\n",
        "    for j in range(1,6):\n",
        "        s1 = 16*(j-1)                                                                       # [s1:s2] \n",
        "        s2 = 16*j\n",
        "        scr.append(knn.score(pd.DataFrame(temp_x[s1:s2])[[i-2,i-1,i+1,i+2]], pd.DataFrame(temp_x[s1:s2])[i]))    #  + pd.DataFrame(temp_x[s1:s2])[i]\n",
        "    droped_col_cross_knn_score.append(np.array(scr).mean())\n",
        "    scr1.append(scr)\n",
        "plt.figure(figsize=(20,8))\n",
        "plt.plot(np.arange(0,len(droped_col_knn_score)), droped_col_knn_score, color = 'red', label = 'knn')\n",
        "plt.plot(np.arange(0,len(droped_col_cross_knn_score)), droped_col_cross_knn_score, color = 'green', label = 'cross_val_knn')\n",
        "plt.legend()\n",
        "plt.grid()"
      ],
      "execution_count": 40,
      "outputs": [
        {
          "output_type": "display_data",
          "data": {
            "image/png": "[encoded data removed]",
            "text/plain": [
              "<Figure size 1440x576 with 1 Axes>"
            ]
          },
          "metadata": {
            "tags": [],
            "needs_background": "light"
          }
        }
      ]
    },
    {
      "cell_type": "code",
      "metadata": {
        "colab": {
          "base_uri": "https://localhost:8080/"
        },
        "id": "UoB1jJcl00oY",
        "outputId": "dda9658b-763c-4fbf-d0a8-f2f39a0df1ab"
      },
      "source": [
        "for i in scr1:\n",
        "    print(i)"
      ],
      "execution_count": 41,
      "outputs": [
        {
          "output_type": "stream",
          "text": [
            "[0.8833591720871998, 0.9582529380462402, 0.9096837120232417, 0.9187834559285257, 0.3707618928823777]\n",
            "[0.7607851126292451, 0.7120161849926144, 0.4572178677175447, 0.7396021558491133, 0.7201173208784601]\n",
            "[0.3527811823283259, 0.6981848487833071, 0.6329344683842426, 0.6183192444452006, 0.6025120908312878]\n",
            "[0.971517942170779, 0.8883700119309271, 0.8899615063587817, 0.9144009388744008, 0.42754315032658563]\n",
            "[0.9483152622941498, 0.8394089930549964, 0.8249259597585121, 0.6888055153992995, 0.8175785274612442]\n",
            "[0.6504100091202575, 0.8003629126367653, 0.8564177776337856, 0.9032887888367921, 0.8832972945061567]\n",
            "[0.9552611007499311, 0.8635958294764122, 0.8595481432672285, 0.9241961550038097, 0.746030276572655]\n",
            "[0.32845310133970007, 0.9103224630383018, 0.8220829812448739, 0.66112944725455, 0.5877412978928053]\n",
            "[0.8836828489734287, 0.963491450999655, 0.7424884404882289, 0.9806851101306328, 0.9840501593992409]\n",
            "[0.8485088335022837, 0.9508534821872618, 0.7660877721789081, 0.9361308629504592, 0.8995665681412267]\n",
            "[0.9527258901136434, 0.9585419186909461, 0.7924312099138754, 0.977961114601413, 0.8517489122681269]\n",
            "[0.6434479265879972, 0.7500655381270772, 0.7656191439029253, 0.7507478092379668, 0.39324778418675954]\n",
            "[0.8207540622841897, 0.9412199634087185, 0.8514654550904915, 0.42199017510303105, 0.4813620246654494]\n",
            "[0.8060758647226983, 0.5375999395912328, 0.6238633532097249, 0.47149689194388533, 0.160778409262182]\n",
            "[0.9719913279397113, 0.9332462200620327, 0.740530781256374, 0.7404321865256542, 0.6320255523303968]\n",
            "[0.9827987776371205, 0.9440356097829177, 0.9253354092932398, 0.9534532713354761, 0.8583624086565554]\n",
            "[0.79257413983827, 0.7399559973094998, 0.9066816575157937, 0.706971571278801, 0.6896828137235809]\n",
            "[0.9373656689882606, 0.8966530796823212, 0.8461003623284231, 0.6248969062806089, 0.6560071647261811]\n",
            "[0.9493096709143729, 0.9405099103050104, 0.8280135867099512, 0.9111708029518159, 0.5643086048692312]\n",
            "[0.9794534596968507, 0.37888801425124696, 0.9466280994156816, 0.8690288433651303, 0.39827487006041107]\n",
            "[0.7135009414402627, 0.8880755470387285, 0.8587857930576476, 0.5724758268348221, 0.5486202095118087]\n",
            "[0.8135053155494438, 0.980818735865044, 0.9273483262990486, 0.6723548472046964, 0.8292784416745238]\n",
            "[0.9035125111010027, 0.8230111091046485, 0.8922713566349167, 0.9740165251395227, -0.21760112050061675]\n",
            "[0.8239019233551657, 0.84874413752418, 0.7302836617389838, 0.5437123141477405, 0.206574244401586]\n",
            "[0.9126110867462064, 0.939455454704549, 0.7627327354796561, 0.9472547761456696, 0.7407023659615941]\n",
            "[0.8797811259028555, 0.7192626764904351, 0.7129523977762129, 0.9364948210947455, 0.5343082440453493]\n",
            "[0.7734158592134188, 0.6347843565924178, 0.8671545286574348, 0.8945852383203549, 0.15777449194644566]\n",
            "[0.76353565764682, 0.8493902014519676, 0.9282935061235982, 0.8241453819713443, 0.5583515021687109]\n",
            "[0.7581776420066368, 0.9257675971171964, 0.8416542862429719, 0.8802647518644576, 0.49691197665252984]\n",
            "[0.3979099935323346, 0.41188178168703815, 0.5140698872735446, 0.6117076797019709, 0.3599366060335282]\n",
            "[0.8221939813793735, 0.8360638220424542, 0.829541736922231, 0.9068890491497021, 0.908867397056488]\n"
          ],
          "name": "stdout"
        }
      ]
    },
    {
      "cell_type": "code",
      "metadata": {
        "colab": {
          "base_uri": "https://localhost:8080/",
          "height": 483
        },
        "id": "bZ3msyWZ2lrw",
        "outputId": "d99ab184-0abf-4a01-c127-17c970346d1e"
      },
      "source": [
        "scr2 = list()\n",
        "droped_col_rf_score = list()\n",
        "droped_col_cross_rf_score = list()\n",
        "for i in col_to_drop:\n",
        "    rf = RandomForestRegressor(n_estimators=40, random_state=0)\n",
        "    rf.fit(y_train_grouped_uncorr[[i-1,i+1]] + y0[0][:,i:i+1], pd.DataFrame(y0[0])[i])      # + y0[0][:,3:4]   + y0[0][:,4:5]\n",
        "    droped_col_rf_score.append(rf.score(y_test_grouped_uncorr[[i-1,i+1]] + y_test0[0][:,i:i+1], pd.DataFrame(y_test0[0])[i]))\n",
        "\n",
        "    rf = RandomForestRegressor(n_estimators=60, random_state=0)\n",
        "    rf.fit(pd.DataFrame(temp_x[:60])[[i-2,i-1,i+1,i+2]], pd.DataFrame(temp_x[:60])[i])             #  + pd.DataFrame(temp_x[:60])[i]\n",
        "    scr = list()\n",
        "    for j in range(1,6):\n",
        "        s1 = 16*(j-1)                                                                       # [s1:s2] \n",
        "        s2 = 16*j\n",
        "        scr.append(rf.score(pd.DataFrame(temp_x[s1:s2])[[i-2,i-1,i+1,i+2]], pd.DataFrame(temp_x[s1:s2])[i]))    #  + pd.DataFrame(temp_x[s1:s2])[i]\n",
        "    droped_col_cross_rf_score.append(np.array(scr).mean())\n",
        "    scr2.append(scr)\n",
        "plt.figure(figsize=(20,8))\n",
        "plt.plot(np.arange(0,len(droped_col_rf_score)), droped_col_rf_score, color = 'red', label = 'randomforest')\n",
        "plt.plot(np.arange(0,len(droped_col_cross_rf_score)), droped_col_cross_rf_score, color = 'green', label = 'cross_val_randomforest')\n",
        "plt.legend()\n",
        "plt.grid()"
      ],
      "execution_count": 42,
      "outputs": [
        {
          "output_type": "display_data",
          "data": {
            "image/png": "[encoded data removed]",
            "text/plain": [
              "<Figure size 1440x576 with 1 Axes>"
            ]
          },
          "metadata": {
            "tags": [],
            "needs_background": "light"
          }
        }
      ]
    },
    {
      "cell_type": "code",
      "metadata": {
        "colab": {
          "base_uri": "https://localhost:8080/"
        },
        "id": "4VF8gmod3tVU",
        "outputId": "a6a1e2d7-cdba-4dba-8f42-0116ce31f9e0"
      },
      "source": [
        "for i in scr2:\n",
        "    print(i)"
      ],
      "execution_count": 43,
      "outputs": [
        {
          "output_type": "stream",
          "text": [
            "[0.9349979202056384, 0.9328953973559093, 0.9735378761436319, 0.8467303542441259, 0.36723031920052485]\n",
            "[0.9780353505964535, 0.9642173538765239, 0.9273467460317102, 0.9637056488144997, 0.6964227910798939]\n",
            "[0.933503266117915, 0.9727339194480787, 0.7055055376755353, 0.8754709142405774, 0.6889243613968441]\n",
            "[0.9453699473434939, 0.9486149775960953, 0.9197009764449906, 0.9525034800173757, 0.4530602912151974]\n",
            "[0.9743293484933957, 0.9406400607388086, 0.8999100968438963, 0.9439421850010513, 0.9067217760274169]\n",
            "[0.9133937952393256, 0.9652717357165684, 0.8976833872079725, 0.9814738717074298, 0.9146451577880202]\n",
            "[0.8969396134135542, 0.8744711210639632, 0.9203031955172192, 0.9790947780837143, 0.7959726797596263]\n",
            "[0.7099707861506857, 0.9387450532249395, 0.8874103648278526, 0.8061124141007082, 0.6772458467527951]\n",
            "[0.9533527740954642, 0.9708925045088324, 0.9459116034788259, 0.9793954276853265, 0.9084922262260635]\n",
            "[0.9515322530873456, 0.9804552381690019, 0.9369109735398601, 0.9821213913444209, 0.8993706028075615]\n",
            "[0.958279030728636, 0.9407042719405058, 0.9359297580406964, 0.9697874196800609, 0.7495400943095164]\n",
            "[0.9528288161610622, 0.9014361398813718, 0.9417195701177004, 0.8045405205274174, 0.36915357547435246]\n",
            "[0.8701967270562158, 0.9865774646192019, 0.9064067739246099, 0.3737190072054154, 0.6641449699170704]\n",
            "[0.8713922226651224, 0.9015164551127517, 0.9293398284793983, 0.7698200455632325, 0.0659327775561358]\n",
            "[0.9495538359093665, 0.9784935211323248, 0.902029387561657, 0.3768876537480935, 0.6497687719585357]\n",
            "[0.9831674021467427, 0.9889147167736271, 0.9489501043583533, 0.9510579307056627, 0.9515812409624201]\n",
            "[0.9698708219782145, 0.9154542063849038, 0.9406955939301093, 0.8416141580497792, 0.9318482820751308]\n",
            "[0.9785954012157386, 0.9347215830424237, 0.8808655042463243, 0.7643540065341253, 0.3891823035882457]\n",
            "[0.9739339133241152, 0.9957249541621912, 0.9486950767576647, 0.9604951370964429, 0.9545172277099314]\n",
            "[0.9021855654792259, 0.9093232165058786, 0.9531063257973496, 0.8784650278621601, 0.44562235107824644]\n",
            "[0.8879237976676935, 0.8192276357414864, 0.8812605439536846, 0.7575694923209355, 0.6325503852311098]\n",
            "[0.942191763692648, 0.9703529837818959, 0.9680239041887042, 0.9327664488537484, 0.7526015394064334]\n",
            "[0.9858534588687478, 0.9365632970681443, 0.9510707197021673, 0.9927720436039296, -0.33350382971481474]\n",
            "[0.9054316784793068, 0.9460279958058646, 0.9404840496263759, 0.8240806268657197, 0.32326158064357413]\n",
            "[0.9697625353730004, 0.988124147245487, 0.9265987800383257, 0.7434373594656841, 0.7041248305849334]\n",
            "[0.9523866738839762, 0.9418156078622262, 0.8537725413851224, 0.9716966892712031, 0.589279495430111]\n",
            "[0.9239792043000109, 0.8896439340214887, 0.8793875158519857, 0.8693261402534246, -0.06040068188165515]\n",
            "[0.9655755362897704, 0.9357282136942093, 0.8870245067218235, 0.9061099793871491, 0.6168606966792871]\n",
            "[0.948481517774609, 0.9608007667392029, 0.9417523886950144, 0.9066886213209373, 0.5549087987787111]\n",
            "[0.9523084917955541, 0.9157955923942258, 0.9560736314126799, 0.9648522719766938, 0.715918142113553]\n",
            "[0.9066967135424007, 0.9116886464273707, 0.906077394857072, 0.957904051277891, 0.8402754052033014]\n"
          ],
          "name": "stdout"
        }
      ]
    },
    {
      "cell_type": "code",
      "metadata": {
        "id": "oon_a_eH0Xy-"
      },
      "source": [
        "score_df = pd.DataFrame({'col_to_drop' : col_to_drop, 'rf_score' : rf_score, 'rf_score_mean' : rf_score_mean, 'knn_score' : knn_score, 'knn_score_mean' : knn_score_mean})"
      ],
      "execution_count": 44,
      "outputs": []
    },
    {
      "cell_type": "code",
      "metadata": {
        "colab": {
          "base_uri": "https://localhost:8080/",
          "height": 965
        },
        "id": "y_nF0iuB0X4B",
        "outputId": "bc8adbcb-c6cb-4f11-b7e4-f57ec8e10a85"
      },
      "source": [
        "score_df.sort_values(by='rf_score', ascending=False)"
      ],
      "execution_count": 45,
      "outputs": [
        {
          "output_type": "execute_result",
          "data": {
            "text/html": [
              "<div>\n",
              "<style scoped>\n",
              "    .dataframe tbody tr th:only-of-type {\n",
              "        vertical-align: middle;\n",
              "    }\n",
              "\n",
              "    .dataframe tbody tr th {\n",
              "        vertical-align: top;\n",
              "    }\n",
              "\n",
              "    .dataframe thead th {\n",
              "        text-align: right;\n",
              "    }\n",
              "</style>\n",
              "<table border=\"1\" class=\"dataframe\">\n",
              "  <thead>\n",
              "    <tr style=\"text-align: right;\">\n",
              "      <th></th>\n",
              "      <th>col_to_drop</th>\n",
              "      <th>rf_score</th>\n",
              "      <th>rf_score_mean</th>\n",
              "      <th>knn_score</th>\n",
              "      <th>knn_score_mean</th>\n",
              "    </tr>\n",
              "  </thead>\n",
              "  <tbody>\n",
              "    <tr>\n",
              "      <th>16</th>\n",
              "      <td>58</td>\n",
              "      <td>99.773285</td>\n",
              "      <td>7.888141e+01</td>\n",
              "      <td>99.756573</td>\n",
              "      <td>7.533283e+01</td>\n",
              "    </tr>\n",
              "    <tr>\n",
              "      <th>6</th>\n",
              "      <td>25</td>\n",
              "      <td>99.752608</td>\n",
              "      <td>8.645133e+01</td>\n",
              "      <td>97.966624</td>\n",
              "      <td>8.344779e+01</td>\n",
              "    </tr>\n",
              "    <tr>\n",
              "      <th>5</th>\n",
              "      <td>22</td>\n",
              "      <td>99.507528</td>\n",
              "      <td>8.054973e+01</td>\n",
              "      <td>98.755446</td>\n",
              "      <td>6.117920e+01</td>\n",
              "    </tr>\n",
              "    <tr>\n",
              "      <th>12</th>\n",
              "      <td>45</td>\n",
              "      <td>99.389461</td>\n",
              "      <td>9.511819e+01</td>\n",
              "      <td>98.168003</td>\n",
              "      <td>9.339236e+01</td>\n",
              "    </tr>\n",
              "    <tr>\n",
              "      <th>13</th>\n",
              "      <td>48</td>\n",
              "      <td>99.347988</td>\n",
              "      <td>9.028082e+01</td>\n",
              "      <td>99.397010</td>\n",
              "      <td>8.811195e+01</td>\n",
              "    </tr>\n",
              "    <tr>\n",
              "      <th>4</th>\n",
              "      <td>19</td>\n",
              "      <td>99.305098</td>\n",
              "      <td>8.183436e+01</td>\n",
              "      <td>89.228534</td>\n",
              "      <td>8.054948e+01</td>\n",
              "    </tr>\n",
              "    <tr>\n",
              "      <th>24</th>\n",
              "      <td>83</td>\n",
              "      <td>99.223928</td>\n",
              "      <td>7.868275e+01</td>\n",
              "      <td>96.018722</td>\n",
              "      <td>7.497246e+01</td>\n",
              "    </tr>\n",
              "    <tr>\n",
              "      <th>15</th>\n",
              "      <td>54</td>\n",
              "      <td>99.173768</td>\n",
              "      <td>7.518933e+01</td>\n",
              "      <td>99.081570</td>\n",
              "      <td>7.070130e+01</td>\n",
              "    </tr>\n",
              "    <tr>\n",
              "      <th>20</th>\n",
              "      <td>71</td>\n",
              "      <td>99.136147</td>\n",
              "      <td>8.519672e+01</td>\n",
              "      <td>98.759962</td>\n",
              "      <td>8.301776e+01</td>\n",
              "    </tr>\n",
              "    <tr>\n",
              "      <th>17</th>\n",
              "      <td>61</td>\n",
              "      <td>99.086354</td>\n",
              "      <td>7.544666e+01</td>\n",
              "      <td>98.687046</td>\n",
              "      <td>7.454033e+01</td>\n",
              "    </tr>\n",
              "    <tr>\n",
              "      <th>26</th>\n",
              "      <td>89</td>\n",
              "      <td>99.031001</td>\n",
              "      <td>7.748489e+01</td>\n",
              "      <td>85.987574</td>\n",
              "      <td>9.249392e+01</td>\n",
              "    </tr>\n",
              "    <tr>\n",
              "      <th>28</th>\n",
              "      <td>96</td>\n",
              "      <td>98.975531</td>\n",
              "      <td>-7.669161e+02</td>\n",
              "      <td>96.640590</td>\n",
              "      <td>7.879862e+01</td>\n",
              "    </tr>\n",
              "    <tr>\n",
              "      <th>25</th>\n",
              "      <td>86</td>\n",
              "      <td>98.909276</td>\n",
              "      <td>9.345315e+01</td>\n",
              "      <td>92.008236</td>\n",
              "      <td>9.436747e+01</td>\n",
              "    </tr>\n",
              "    <tr>\n",
              "      <th>9</th>\n",
              "      <td>34</td>\n",
              "      <td>98.794162</td>\n",
              "      <td>9.323679e+01</td>\n",
              "      <td>92.797484</td>\n",
              "      <td>9.351230e+01</td>\n",
              "    </tr>\n",
              "    <tr>\n",
              "      <th>14</th>\n",
              "      <td>51</td>\n",
              "      <td>98.638134</td>\n",
              "      <td>9.082123e+01</td>\n",
              "      <td>98.444878</td>\n",
              "      <td>8.465753e+01</td>\n",
              "    </tr>\n",
              "    <tr>\n",
              "      <th>8</th>\n",
              "      <td>31</td>\n",
              "      <td>98.485221</td>\n",
              "      <td>8.286942e+01</td>\n",
              "      <td>92.572191</td>\n",
              "      <td>8.455203e+01</td>\n",
              "    </tr>\n",
              "    <tr>\n",
              "      <th>19</th>\n",
              "      <td>68</td>\n",
              "      <td>98.426888</td>\n",
              "      <td>6.914047e+01</td>\n",
              "      <td>98.053035</td>\n",
              "      <td>6.866985e+01</td>\n",
              "    </tr>\n",
              "    <tr>\n",
              "      <th>21</th>\n",
              "      <td>74</td>\n",
              "      <td>98.262299</td>\n",
              "      <td>8.252579e+01</td>\n",
              "      <td>97.441074</td>\n",
              "      <td>7.125097e+01</td>\n",
              "    </tr>\n",
              "    <tr>\n",
              "      <th>18</th>\n",
              "      <td>65</td>\n",
              "      <td>98.006820</td>\n",
              "      <td>6.086360e+01</td>\n",
              "      <td>94.935735</td>\n",
              "      <td>5.553174e+01</td>\n",
              "    </tr>\n",
              "    <tr>\n",
              "      <th>30</th>\n",
              "      <td>102</td>\n",
              "      <td>98.000755</td>\n",
              "      <td>-2.152960e+02</td>\n",
              "      <td>86.851027</td>\n",
              "      <td>9.131802e+01</td>\n",
              "    </tr>\n",
              "    <tr>\n",
              "      <th>23</th>\n",
              "      <td>80</td>\n",
              "      <td>97.950884</td>\n",
              "      <td>8.947207e+01</td>\n",
              "      <td>90.781343</td>\n",
              "      <td>8.536992e+01</td>\n",
              "    </tr>\n",
              "    <tr>\n",
              "      <th>0</th>\n",
              "      <td>6</td>\n",
              "      <td>97.942613</td>\n",
              "      <td>-2.653955e+02</td>\n",
              "      <td>80.032223</td>\n",
              "      <td>8.768086e+01</td>\n",
              "    </tr>\n",
              "    <tr>\n",
              "      <th>27</th>\n",
              "      <td>93</td>\n",
              "      <td>97.882676</td>\n",
              "      <td>6.668984e+01</td>\n",
              "      <td>99.442265</td>\n",
              "      <td>6.860801e+01</td>\n",
              "    </tr>\n",
              "    <tr>\n",
              "      <th>2</th>\n",
              "      <td>12</td>\n",
              "      <td>97.882486</td>\n",
              "      <td>5.430061e+01</td>\n",
              "      <td>92.489271</td>\n",
              "      <td>3.687777e+01</td>\n",
              "    </tr>\n",
              "    <tr>\n",
              "      <th>7</th>\n",
              "      <td>28</td>\n",
              "      <td>97.876421</td>\n",
              "      <td>7.816985e+01</td>\n",
              "      <td>97.140303</td>\n",
              "      <td>8.011057e+01</td>\n",
              "    </tr>\n",
              "    <tr>\n",
              "      <th>11</th>\n",
              "      <td>41</td>\n",
              "      <td>97.728410</td>\n",
              "      <td>8.775703e+01</td>\n",
              "      <td>97.311804</td>\n",
              "      <td>8.849897e+01</td>\n",
              "    </tr>\n",
              "    <tr>\n",
              "      <th>22</th>\n",
              "      <td>77</td>\n",
              "      <td>97.312881</td>\n",
              "      <td>9.647911e+01</td>\n",
              "      <td>95.599740</td>\n",
              "      <td>9.456598e+01</td>\n",
              "    </tr>\n",
              "    <tr>\n",
              "      <th>1</th>\n",
              "      <td>9</td>\n",
              "      <td>97.110253</td>\n",
              "      <td>-9.968035e+24</td>\n",
              "      <td>85.208881</td>\n",
              "      <td>-6.926473e+25</td>\n",
              "    </tr>\n",
              "    <tr>\n",
              "      <th>10</th>\n",
              "      <td>37</td>\n",
              "      <td>97.088805</td>\n",
              "      <td>9.080127e+01</td>\n",
              "      <td>96.074792</td>\n",
              "      <td>8.682810e+01</td>\n",
              "    </tr>\n",
              "    <tr>\n",
              "      <th>3</th>\n",
              "      <td>16</td>\n",
              "      <td>93.109318</td>\n",
              "      <td>9.459669e+01</td>\n",
              "      <td>98.089397</td>\n",
              "      <td>9.360679e+01</td>\n",
              "    </tr>\n",
              "    <tr>\n",
              "      <th>29</th>\n",
              "      <td>99</td>\n",
              "      <td>85.066173</td>\n",
              "      <td>7.564972e+01</td>\n",
              "      <td>60.863206</td>\n",
              "      <td>5.337605e+01</td>\n",
              "    </tr>\n",
              "  </tbody>\n",
              "</table>\n",
              "</div>"
            ],
            "text/plain": [
              "    col_to_drop   rf_score  rf_score_mean  knn_score  knn_score_mean\n",
              "16           58  99.773285   7.888141e+01  99.756573    7.533283e+01\n",
              "6            25  99.752608   8.645133e+01  97.966624    8.344779e+01\n",
              "5            22  99.507528   8.054973e+01  98.755446    6.117920e+01\n",
              "12           45  99.389461   9.511819e+01  98.168003    9.339236e+01\n",
              "13           48  99.347988   9.028082e+01  99.397010    8.811195e+01\n",
              "4            19  99.305098   8.183436e+01  89.228534    8.054948e+01\n",
              "24           83  99.223928   7.868275e+01  96.018722    7.497246e+01\n",
              "15           54  99.173768   7.518933e+01  99.081570    7.070130e+01\n",
              "20           71  99.136147   8.519672e+01  98.759962    8.301776e+01\n",
              "17           61  99.086354   7.544666e+01  98.687046    7.454033e+01\n",
              "26           89  99.031001   7.748489e+01  85.987574    9.249392e+01\n",
              "28           96  98.975531  -7.669161e+02  96.640590    7.879862e+01\n",
              "25           86  98.909276   9.345315e+01  92.008236    9.436747e+01\n",
              "9            34  98.794162   9.323679e+01  92.797484    9.351230e+01\n",
              "14           51  98.638134   9.082123e+01  98.444878    8.465753e+01\n",
              "8            31  98.485221   8.286942e+01  92.572191    8.455203e+01\n",
              "19           68  98.426888   6.914047e+01  98.053035    6.866985e+01\n",
              "21           74  98.262299   8.252579e+01  97.441074    7.125097e+01\n",
              "18           65  98.006820   6.086360e+01  94.935735    5.553174e+01\n",
              "30          102  98.000755  -2.152960e+02  86.851027    9.131802e+01\n",
              "23           80  97.950884   8.947207e+01  90.781343    8.536992e+01\n",
              "0             6  97.942613  -2.653955e+02  80.032223    8.768086e+01\n",
              "27           93  97.882676   6.668984e+01  99.442265    6.860801e+01\n",
              "2            12  97.882486   5.430061e+01  92.489271    3.687777e+01\n",
              "7            28  97.876421   7.816985e+01  97.140303    8.011057e+01\n",
              "11           41  97.728410   8.775703e+01  97.311804    8.849897e+01\n",
              "22           77  97.312881   9.647911e+01  95.599740    9.456598e+01\n",
              "1             9  97.110253  -9.968035e+24  85.208881   -6.926473e+25\n",
              "10           37  97.088805   9.080127e+01  96.074792    8.682810e+01\n",
              "3            16  93.109318   9.459669e+01  98.089397    9.360679e+01\n",
              "29           99  85.066173   7.564972e+01  60.863206    5.337605e+01"
            ]
          },
          "metadata": {
            "tags": []
          },
          "execution_count": 45
        }
      ]
    },
    {
      "cell_type": "code",
      "metadata": {
        "colab": {
          "base_uri": "https://localhost:8080/",
          "height": 965
        },
        "id": "SMbrwlbpAiuS",
        "outputId": "901a20fc-76f2-4b04-db41-5fb349eba25b"
      },
      "source": [
        "pd.concat([col_to_drop_df.dropna()['value'], score_df], axis = 1)"
      ],
      "execution_count": 46,
      "outputs": [
        {
          "output_type": "execute_result",
          "data": {
            "text/html": [
              "<div>\n",
              "<style scoped>\n",
              "    .dataframe tbody tr th:only-of-type {\n",
              "        vertical-align: middle;\n",
              "    }\n",
              "\n",
              "    .dataframe tbody tr th {\n",
              "        vertical-align: top;\n",
              "    }\n",
              "\n",
              "    .dataframe thead th {\n",
              "        text-align: right;\n",
              "    }\n",
              "</style>\n",
              "<table border=\"1\" class=\"dataframe\">\n",
              "  <thead>\n",
              "    <tr style=\"text-align: right;\">\n",
              "      <th></th>\n",
              "      <th>value</th>\n",
              "      <th>col_to_drop</th>\n",
              "      <th>rf_score</th>\n",
              "      <th>rf_score_mean</th>\n",
              "      <th>knn_score</th>\n",
              "      <th>knn_score_mean</th>\n",
              "    </tr>\n",
              "  </thead>\n",
              "  <tbody>\n",
              "    <tr>\n",
              "      <th>0</th>\n",
              "      <td>0.999921</td>\n",
              "      <td>6</td>\n",
              "      <td>97.942613</td>\n",
              "      <td>-2.653955e+02</td>\n",
              "      <td>80.032223</td>\n",
              "      <td>8.768086e+01</td>\n",
              "    </tr>\n",
              "    <tr>\n",
              "      <th>1</th>\n",
              "      <td>0.999921</td>\n",
              "      <td>9</td>\n",
              "      <td>97.110253</td>\n",
              "      <td>-9.968035e+24</td>\n",
              "      <td>85.208881</td>\n",
              "      <td>-6.926473e+25</td>\n",
              "    </tr>\n",
              "    <tr>\n",
              "      <th>2</th>\n",
              "      <td>0.997669</td>\n",
              "      <td>12</td>\n",
              "      <td>97.882486</td>\n",
              "      <td>5.430061e+01</td>\n",
              "      <td>92.489271</td>\n",
              "      <td>3.687777e+01</td>\n",
              "    </tr>\n",
              "    <tr>\n",
              "      <th>3</th>\n",
              "      <td>0.997669</td>\n",
              "      <td>16</td>\n",
              "      <td>93.109318</td>\n",
              "      <td>9.459669e+01</td>\n",
              "      <td>98.089397</td>\n",
              "      <td>9.360679e+01</td>\n",
              "    </tr>\n",
              "    <tr>\n",
              "      <th>4</th>\n",
              "      <td>0.997449</td>\n",
              "      <td>19</td>\n",
              "      <td>99.305098</td>\n",
              "      <td>8.183436e+01</td>\n",
              "      <td>89.228534</td>\n",
              "      <td>8.054948e+01</td>\n",
              "    </tr>\n",
              "    <tr>\n",
              "      <th>5</th>\n",
              "      <td>0.997449</td>\n",
              "      <td>22</td>\n",
              "      <td>99.507528</td>\n",
              "      <td>8.054973e+01</td>\n",
              "      <td>98.755446</td>\n",
              "      <td>6.117920e+01</td>\n",
              "    </tr>\n",
              "    <tr>\n",
              "      <th>6</th>\n",
              "      <td>0.995738</td>\n",
              "      <td>25</td>\n",
              "      <td>99.752608</td>\n",
              "      <td>8.645133e+01</td>\n",
              "      <td>97.966624</td>\n",
              "      <td>8.344779e+01</td>\n",
              "    </tr>\n",
              "    <tr>\n",
              "      <th>7</th>\n",
              "      <td>0.995738</td>\n",
              "      <td>28</td>\n",
              "      <td>97.876421</td>\n",
              "      <td>7.816985e+01</td>\n",
              "      <td>97.140303</td>\n",
              "      <td>8.011057e+01</td>\n",
              "    </tr>\n",
              "    <tr>\n",
              "      <th>8</th>\n",
              "      <td>0.995547</td>\n",
              "      <td>31</td>\n",
              "      <td>98.485221</td>\n",
              "      <td>8.286942e+01</td>\n",
              "      <td>92.572191</td>\n",
              "      <td>8.455203e+01</td>\n",
              "    </tr>\n",
              "    <tr>\n",
              "      <th>9</th>\n",
              "      <td>0.995547</td>\n",
              "      <td>34</td>\n",
              "      <td>98.794162</td>\n",
              "      <td>9.323679e+01</td>\n",
              "      <td>92.797484</td>\n",
              "      <td>9.351230e+01</td>\n",
              "    </tr>\n",
              "    <tr>\n",
              "      <th>10</th>\n",
              "      <td>0.995479</td>\n",
              "      <td>37</td>\n",
              "      <td>97.088805</td>\n",
              "      <td>9.080127e+01</td>\n",
              "      <td>96.074792</td>\n",
              "      <td>8.682810e+01</td>\n",
              "    </tr>\n",
              "    <tr>\n",
              "      <th>11</th>\n",
              "      <td>0.995479</td>\n",
              "      <td>41</td>\n",
              "      <td>97.728410</td>\n",
              "      <td>8.775703e+01</td>\n",
              "      <td>97.311804</td>\n",
              "      <td>8.849897e+01</td>\n",
              "    </tr>\n",
              "    <tr>\n",
              "      <th>12</th>\n",
              "      <td>0.995177</td>\n",
              "      <td>45</td>\n",
              "      <td>99.389461</td>\n",
              "      <td>9.511819e+01</td>\n",
              "      <td>98.168003</td>\n",
              "      <td>9.339236e+01</td>\n",
              "    </tr>\n",
              "    <tr>\n",
              "      <th>13</th>\n",
              "      <td>0.995177</td>\n",
              "      <td>48</td>\n",
              "      <td>99.347988</td>\n",
              "      <td>9.028082e+01</td>\n",
              "      <td>99.397010</td>\n",
              "      <td>8.811195e+01</td>\n",
              "    </tr>\n",
              "    <tr>\n",
              "      <th>14</th>\n",
              "      <td>0.995128</td>\n",
              "      <td>51</td>\n",
              "      <td>98.638134</td>\n",
              "      <td>9.082123e+01</td>\n",
              "      <td>98.444878</td>\n",
              "      <td>8.465753e+01</td>\n",
              "    </tr>\n",
              "    <tr>\n",
              "      <th>15</th>\n",
              "      <td>0.995128</td>\n",
              "      <td>54</td>\n",
              "      <td>99.173768</td>\n",
              "      <td>7.518933e+01</td>\n",
              "      <td>99.081570</td>\n",
              "      <td>7.070130e+01</td>\n",
              "    </tr>\n",
              "    <tr>\n",
              "      <th>16</th>\n",
              "      <td>0.995104</td>\n",
              "      <td>58</td>\n",
              "      <td>99.773285</td>\n",
              "      <td>7.888141e+01</td>\n",
              "      <td>99.756573</td>\n",
              "      <td>7.533283e+01</td>\n",
              "    </tr>\n",
              "    <tr>\n",
              "      <th>17</th>\n",
              "      <td>0.995104</td>\n",
              "      <td>61</td>\n",
              "      <td>99.086354</td>\n",
              "      <td>7.544666e+01</td>\n",
              "      <td>98.687046</td>\n",
              "      <td>7.454033e+01</td>\n",
              "    </tr>\n",
              "    <tr>\n",
              "      <th>18</th>\n",
              "      <td>0.995095</td>\n",
              "      <td>65</td>\n",
              "      <td>98.006820</td>\n",
              "      <td>6.086360e+01</td>\n",
              "      <td>94.935735</td>\n",
              "      <td>5.553174e+01</td>\n",
              "    </tr>\n",
              "    <tr>\n",
              "      <th>19</th>\n",
              "      <td>0.995095</td>\n",
              "      <td>68</td>\n",
              "      <td>98.426888</td>\n",
              "      <td>6.914047e+01</td>\n",
              "      <td>98.053035</td>\n",
              "      <td>6.866985e+01</td>\n",
              "    </tr>\n",
              "    <tr>\n",
              "      <th>20</th>\n",
              "      <td>0.995069</td>\n",
              "      <td>71</td>\n",
              "      <td>99.136147</td>\n",
              "      <td>8.519672e+01</td>\n",
              "      <td>98.759962</td>\n",
              "      <td>8.301776e+01</td>\n",
              "    </tr>\n",
              "    <tr>\n",
              "      <th>21</th>\n",
              "      <td>0.995069</td>\n",
              "      <td>74</td>\n",
              "      <td>98.262299</td>\n",
              "      <td>8.252579e+01</td>\n",
              "      <td>97.441074</td>\n",
              "      <td>7.125097e+01</td>\n",
              "    </tr>\n",
              "    <tr>\n",
              "      <th>22</th>\n",
              "      <td>0.994968</td>\n",
              "      <td>77</td>\n",
              "      <td>97.312881</td>\n",
              "      <td>9.647911e+01</td>\n",
              "      <td>95.599740</td>\n",
              "      <td>9.456598e+01</td>\n",
              "    </tr>\n",
              "    <tr>\n",
              "      <th>23</th>\n",
              "      <td>0.994968</td>\n",
              "      <td>80</td>\n",
              "      <td>97.950884</td>\n",
              "      <td>8.947207e+01</td>\n",
              "      <td>90.781343</td>\n",
              "      <td>8.536992e+01</td>\n",
              "    </tr>\n",
              "    <tr>\n",
              "      <th>24</th>\n",
              "      <td>0.994356</td>\n",
              "      <td>83</td>\n",
              "      <td>99.223928</td>\n",
              "      <td>7.868275e+01</td>\n",
              "      <td>96.018722</td>\n",
              "      <td>7.497246e+01</td>\n",
              "    </tr>\n",
              "    <tr>\n",
              "      <th>25</th>\n",
              "      <td>0.994356</td>\n",
              "      <td>86</td>\n",
              "      <td>98.909276</td>\n",
              "      <td>9.345315e+01</td>\n",
              "      <td>92.008236</td>\n",
              "      <td>9.436747e+01</td>\n",
              "    </tr>\n",
              "    <tr>\n",
              "      <th>26</th>\n",
              "      <td>0.994337</td>\n",
              "      <td>89</td>\n",
              "      <td>99.031001</td>\n",
              "      <td>7.748489e+01</td>\n",
              "      <td>85.987574</td>\n",
              "      <td>9.249392e+01</td>\n",
              "    </tr>\n",
              "    <tr>\n",
              "      <th>27</th>\n",
              "      <td>0.994337</td>\n",
              "      <td>93</td>\n",
              "      <td>97.882676</td>\n",
              "      <td>6.668984e+01</td>\n",
              "      <td>99.442265</td>\n",
              "      <td>6.860801e+01</td>\n",
              "    </tr>\n",
              "    <tr>\n",
              "      <th>28</th>\n",
              "      <td>0.994260</td>\n",
              "      <td>96</td>\n",
              "      <td>98.975531</td>\n",
              "      <td>-7.669161e+02</td>\n",
              "      <td>96.640590</td>\n",
              "      <td>7.879862e+01</td>\n",
              "    </tr>\n",
              "    <tr>\n",
              "      <th>29</th>\n",
              "      <td>0.994260</td>\n",
              "      <td>99</td>\n",
              "      <td>85.066173</td>\n",
              "      <td>7.564972e+01</td>\n",
              "      <td>60.863206</td>\n",
              "      <td>5.337605e+01</td>\n",
              "    </tr>\n",
              "    <tr>\n",
              "      <th>30</th>\n",
              "      <td>0.994223</td>\n",
              "      <td>102</td>\n",
              "      <td>98.000755</td>\n",
              "      <td>-2.152960e+02</td>\n",
              "      <td>86.851027</td>\n",
              "      <td>9.131802e+01</td>\n",
              "    </tr>\n",
              "  </tbody>\n",
              "</table>\n",
              "</div>"
            ],
            "text/plain": [
              "       value  col_to_drop   rf_score  rf_score_mean  knn_score  knn_score_mean\n",
              "0   0.999921            6  97.942613  -2.653955e+02  80.032223    8.768086e+01\n",
              "1   0.999921            9  97.110253  -9.968035e+24  85.208881   -6.926473e+25\n",
              "2   0.997669           12  97.882486   5.430061e+01  92.489271    3.687777e+01\n",
              "3   0.997669           16  93.109318   9.459669e+01  98.089397    9.360679e+01\n",
              "4   0.997449           19  99.305098   8.183436e+01  89.228534    8.054948e+01\n",
              "5   0.997449           22  99.507528   8.054973e+01  98.755446    6.117920e+01\n",
              "6   0.995738           25  99.752608   8.645133e+01  97.966624    8.344779e+01\n",
              "7   0.995738           28  97.876421   7.816985e+01  97.140303    8.011057e+01\n",
              "8   0.995547           31  98.485221   8.286942e+01  92.572191    8.455203e+01\n",
              "9   0.995547           34  98.794162   9.323679e+01  92.797484    9.351230e+01\n",
              "10  0.995479           37  97.088805   9.080127e+01  96.074792    8.682810e+01\n",
              "11  0.995479           41  97.728410   8.775703e+01  97.311804    8.849897e+01\n",
              "12  0.995177           45  99.389461   9.511819e+01  98.168003    9.339236e+01\n",
              "13  0.995177           48  99.347988   9.028082e+01  99.397010    8.811195e+01\n",
              "14  0.995128           51  98.638134   9.082123e+01  98.444878    8.465753e+01\n",
              "15  0.995128           54  99.173768   7.518933e+01  99.081570    7.070130e+01\n",
              "16  0.995104           58  99.773285   7.888141e+01  99.756573    7.533283e+01\n",
              "17  0.995104           61  99.086354   7.544666e+01  98.687046    7.454033e+01\n",
              "18  0.995095           65  98.006820   6.086360e+01  94.935735    5.553174e+01\n",
              "19  0.995095           68  98.426888   6.914047e+01  98.053035    6.866985e+01\n",
              "20  0.995069           71  99.136147   8.519672e+01  98.759962    8.301776e+01\n",
              "21  0.995069           74  98.262299   8.252579e+01  97.441074    7.125097e+01\n",
              "22  0.994968           77  97.312881   9.647911e+01  95.599740    9.456598e+01\n",
              "23  0.994968           80  97.950884   8.947207e+01  90.781343    8.536992e+01\n",
              "24  0.994356           83  99.223928   7.868275e+01  96.018722    7.497246e+01\n",
              "25  0.994356           86  98.909276   9.345315e+01  92.008236    9.436747e+01\n",
              "26  0.994337           89  99.031001   7.748489e+01  85.987574    9.249392e+01\n",
              "27  0.994337           93  97.882676   6.668984e+01  99.442265    6.860801e+01\n",
              "28  0.994260           96  98.975531  -7.669161e+02  96.640590    7.879862e+01\n",
              "29  0.994260           99  85.066173   7.564972e+01  60.863206    5.337605e+01\n",
              "30  0.994223          102  98.000755  -2.152960e+02  86.851027    9.131802e+01"
            ]
          },
          "metadata": {
            "tags": []
          },
          "execution_count": 46
        }
      ]
    },
    {
      "cell_type": "code",
      "metadata": {
        "id": "lqQexELZ0YPe"
      },
      "source": [
        "l1 = list(score_df.sort_values(by='rf_score_mean', ascending=False)['col_to_drop'])\n",
        "l2 = list(score_df.sort_values(by='rf_score', ascending=False)['col_to_drop'])\n",
        "l3 = list(score_df.sort_values(by='knn_score_mean', ascending=False)['col_to_drop'])\n",
        "l4 = list(score_df.sort_values(by='knn_score', ascending=False)['col_to_drop'])"
      ],
      "execution_count": 48,
      "outputs": []
    },
    {
      "cell_type": "code",
      "metadata": {
        "colab": {
          "base_uri": "https://localhost:8080/",
          "height": 965
        },
        "id": "OsY_ulHU0YZS",
        "outputId": "11be0963-b96c-415c-9f34-81f608fee9c8"
      },
      "source": [
        "pd.DataFrame({'drop_by_rf_mean': l1, 'drop_by_rf' : l2, 'drop_by_knn_mean' : l3, 'drop_by_knn' : l4})"
      ],
      "execution_count": 49,
      "outputs": [
        {
          "output_type": "execute_result",
          "data": {
            "text/html": [
              "<div>\n",
              "<style scoped>\n",
              "    .dataframe tbody tr th:only-of-type {\n",
              "        vertical-align: middle;\n",
              "    }\n",
              "\n",
              "    .dataframe tbody tr th {\n",
              "        vertical-align: top;\n",
              "    }\n",
              "\n",
              "    .dataframe thead th {\n",
              "        text-align: right;\n",
              "    }\n",
              "</style>\n",
              "<table border=\"1\" class=\"dataframe\">\n",
              "  <thead>\n",
              "    <tr style=\"text-align: right;\">\n",
              "      <th></th>\n",
              "      <th>drop_by_rf_mean</th>\n",
              "      <th>drop_by_rf</th>\n",
              "      <th>drop_by_knn_mean</th>\n",
              "      <th>drop_by_knn</th>\n",
              "    </tr>\n",
              "  </thead>\n",
              "  <tbody>\n",
              "    <tr>\n",
              "      <th>0</th>\n",
              "      <td>77</td>\n",
              "      <td>58</td>\n",
              "      <td>77</td>\n",
              "      <td>58</td>\n",
              "    </tr>\n",
              "    <tr>\n",
              "      <th>1</th>\n",
              "      <td>45</td>\n",
              "      <td>25</td>\n",
              "      <td>86</td>\n",
              "      <td>93</td>\n",
              "    </tr>\n",
              "    <tr>\n",
              "      <th>2</th>\n",
              "      <td>16</td>\n",
              "      <td>22</td>\n",
              "      <td>16</td>\n",
              "      <td>48</td>\n",
              "    </tr>\n",
              "    <tr>\n",
              "      <th>3</th>\n",
              "      <td>86</td>\n",
              "      <td>45</td>\n",
              "      <td>34</td>\n",
              "      <td>54</td>\n",
              "    </tr>\n",
              "    <tr>\n",
              "      <th>4</th>\n",
              "      <td>34</td>\n",
              "      <td>48</td>\n",
              "      <td>45</td>\n",
              "      <td>71</td>\n",
              "    </tr>\n",
              "    <tr>\n",
              "      <th>5</th>\n",
              "      <td>51</td>\n",
              "      <td>19</td>\n",
              "      <td>89</td>\n",
              "      <td>22</td>\n",
              "    </tr>\n",
              "    <tr>\n",
              "      <th>6</th>\n",
              "      <td>37</td>\n",
              "      <td>83</td>\n",
              "      <td>102</td>\n",
              "      <td>61</td>\n",
              "    </tr>\n",
              "    <tr>\n",
              "      <th>7</th>\n",
              "      <td>48</td>\n",
              "      <td>54</td>\n",
              "      <td>41</td>\n",
              "      <td>51</td>\n",
              "    </tr>\n",
              "    <tr>\n",
              "      <th>8</th>\n",
              "      <td>80</td>\n",
              "      <td>71</td>\n",
              "      <td>48</td>\n",
              "      <td>45</td>\n",
              "    </tr>\n",
              "    <tr>\n",
              "      <th>9</th>\n",
              "      <td>41</td>\n",
              "      <td>61</td>\n",
              "      <td>6</td>\n",
              "      <td>16</td>\n",
              "    </tr>\n",
              "    <tr>\n",
              "      <th>10</th>\n",
              "      <td>25</td>\n",
              "      <td>89</td>\n",
              "      <td>37</td>\n",
              "      <td>68</td>\n",
              "    </tr>\n",
              "    <tr>\n",
              "      <th>11</th>\n",
              "      <td>71</td>\n",
              "      <td>96</td>\n",
              "      <td>80</td>\n",
              "      <td>25</td>\n",
              "    </tr>\n",
              "    <tr>\n",
              "      <th>12</th>\n",
              "      <td>31</td>\n",
              "      <td>86</td>\n",
              "      <td>51</td>\n",
              "      <td>74</td>\n",
              "    </tr>\n",
              "    <tr>\n",
              "      <th>13</th>\n",
              "      <td>74</td>\n",
              "      <td>34</td>\n",
              "      <td>31</td>\n",
              "      <td>41</td>\n",
              "    </tr>\n",
              "    <tr>\n",
              "      <th>14</th>\n",
              "      <td>19</td>\n",
              "      <td>51</td>\n",
              "      <td>25</td>\n",
              "      <td>28</td>\n",
              "    </tr>\n",
              "    <tr>\n",
              "      <th>15</th>\n",
              "      <td>22</td>\n",
              "      <td>31</td>\n",
              "      <td>71</td>\n",
              "      <td>96</td>\n",
              "    </tr>\n",
              "    <tr>\n",
              "      <th>16</th>\n",
              "      <td>58</td>\n",
              "      <td>68</td>\n",
              "      <td>19</td>\n",
              "      <td>37</td>\n",
              "    </tr>\n",
              "    <tr>\n",
              "      <th>17</th>\n",
              "      <td>83</td>\n",
              "      <td>74</td>\n",
              "      <td>28</td>\n",
              "      <td>83</td>\n",
              "    </tr>\n",
              "    <tr>\n",
              "      <th>18</th>\n",
              "      <td>28</td>\n",
              "      <td>65</td>\n",
              "      <td>96</td>\n",
              "      <td>77</td>\n",
              "    </tr>\n",
              "    <tr>\n",
              "      <th>19</th>\n",
              "      <td>89</td>\n",
              "      <td>102</td>\n",
              "      <td>58</td>\n",
              "      <td>65</td>\n",
              "    </tr>\n",
              "    <tr>\n",
              "      <th>20</th>\n",
              "      <td>99</td>\n",
              "      <td>80</td>\n",
              "      <td>83</td>\n",
              "      <td>34</td>\n",
              "    </tr>\n",
              "    <tr>\n",
              "      <th>21</th>\n",
              "      <td>61</td>\n",
              "      <td>6</td>\n",
              "      <td>61</td>\n",
              "      <td>31</td>\n",
              "    </tr>\n",
              "    <tr>\n",
              "      <th>22</th>\n",
              "      <td>54</td>\n",
              "      <td>93</td>\n",
              "      <td>74</td>\n",
              "      <td>12</td>\n",
              "    </tr>\n",
              "    <tr>\n",
              "      <th>23</th>\n",
              "      <td>68</td>\n",
              "      <td>12</td>\n",
              "      <td>54</td>\n",
              "      <td>86</td>\n",
              "    </tr>\n",
              "    <tr>\n",
              "      <th>24</th>\n",
              "      <td>93</td>\n",
              "      <td>28</td>\n",
              "      <td>68</td>\n",
              "      <td>80</td>\n",
              "    </tr>\n",
              "    <tr>\n",
              "      <th>25</th>\n",
              "      <td>65</td>\n",
              "      <td>41</td>\n",
              "      <td>93</td>\n",
              "      <td>19</td>\n",
              "    </tr>\n",
              "    <tr>\n",
              "      <th>26</th>\n",
              "      <td>12</td>\n",
              "      <td>77</td>\n",
              "      <td>22</td>\n",
              "      <td>102</td>\n",
              "    </tr>\n",
              "    <tr>\n",
              "      <th>27</th>\n",
              "      <td>102</td>\n",
              "      <td>9</td>\n",
              "      <td>65</td>\n",
              "      <td>89</td>\n",
              "    </tr>\n",
              "    <tr>\n",
              "      <th>28</th>\n",
              "      <td>6</td>\n",
              "      <td>37</td>\n",
              "      <td>99</td>\n",
              "      <td>9</td>\n",
              "    </tr>\n",
              "    <tr>\n",
              "      <th>29</th>\n",
              "      <td>96</td>\n",
              "      <td>16</td>\n",
              "      <td>12</td>\n",
              "      <td>6</td>\n",
              "    </tr>\n",
              "    <tr>\n",
              "      <th>30</th>\n",
              "      <td>9</td>\n",
              "      <td>99</td>\n",
              "      <td>9</td>\n",
              "      <td>99</td>\n",
              "    </tr>\n",
              "  </tbody>\n",
              "</table>\n",
              "</div>"
            ],
            "text/plain": [
              "    drop_by_rf_mean  drop_by_rf  drop_by_knn_mean  drop_by_knn\n",
              "0                77          58                77           58\n",
              "1                45          25                86           93\n",
              "2                16          22                16           48\n",
              "3                86          45                34           54\n",
              "4                34          48                45           71\n",
              "5                51          19                89           22\n",
              "6                37          83               102           61\n",
              "7                48          54                41           51\n",
              "8                80          71                48           45\n",
              "9                41          61                 6           16\n",
              "10               25          89                37           68\n",
              "11               71          96                80           25\n",
              "12               31          86                51           74\n",
              "13               74          34                31           41\n",
              "14               19          51                25           28\n",
              "15               22          31                71           96\n",
              "16               58          68                19           37\n",
              "17               83          74                28           83\n",
              "18               28          65                96           77\n",
              "19               89         102                58           65\n",
              "20               99          80                83           34\n",
              "21               61           6                61           31\n",
              "22               54          93                74           12\n",
              "23               68          12                54           86\n",
              "24               93          28                68           80\n",
              "25               65          41                93           19\n",
              "26               12          77                22          102\n",
              "27              102           9                65           89\n",
              "28                6          37                99            9\n",
              "29               96          16                12            6\n",
              "30                9          99                 9           99"
            ]
          },
          "metadata": {
            "tags": []
          },
          "execution_count": 49
        }
      ]
    },
    {
      "cell_type": "markdown",
      "metadata": {
        "id": "UJIQ2akv_cXn"
      },
      "source": [
        "it should be wise to drop correlated colunms based on mean knn score as knn represents the how closely the nearby pixels are to each other."
      ]
    },
    {
      "cell_type": "code",
      "metadata": {
        "colab": {
          "base_uri": "https://localhost:8080/"
        },
        "id": "N87y3LIiACtk",
        "outputId": "3661ef47-632a-43be-9943-a2b8e401c786"
      },
      "source": [
        "droped_col = list(score_df.sort_values(by='knn_score_mean', ascending=False)['col_to_drop'])[:22]\n",
        "droped_col.sort()\n",
        "droped_col"
      ],
      "execution_count": 50,
      "outputs": [
        {
          "output_type": "execute_result",
          "data": {
            "text/plain": [
              "[6,\n",
              " 16,\n",
              " 19,\n",
              " 25,\n",
              " 28,\n",
              " 31,\n",
              " 34,\n",
              " 37,\n",
              " 41,\n",
              " 45,\n",
              " 48,\n",
              " 51,\n",
              " 58,\n",
              " 61,\n",
              " 71,\n",
              " 77,\n",
              " 80,\n",
              " 83,\n",
              " 86,\n",
              " 89,\n",
              " 96,\n",
              " 102]"
            ]
          },
          "metadata": {
            "tags": []
          },
          "execution_count": 50
        }
      ]
    },
    {
      "cell_type": "code",
      "metadata": {
        "id": "kuuKSaVxmPap"
      },
      "source": [
        "y_train_grouped_uncorr = pd.DataFrame(y0[0]).drop(droped_col, axis = 1)\n",
        "y_test_grouped_uncorr =pd.DataFrame(y_test0[0]).drop(droped_col, axis = 1)"
      ],
      "execution_count": 155,
      "outputs": []
    },
    {
      "cell_type": "code",
      "metadata": {
        "colab": {
          "base_uri": "https://localhost:8080/"
        },
        "id": "dCu5HUOTmW1b",
        "outputId": "8f25abae-a69b-4ef6-95a0-d519074f8723"
      },
      "source": [
        "y_train_grouped_uncorr.shape, y_test_grouped_uncorr.shape"
      ],
      "execution_count": 156,
      "outputs": [
        {
          "output_type": "execute_result",
          "data": {
            "text/plain": [
              "((110, 88), (110, 88))"
            ]
          },
          "metadata": {
            "tags": []
          },
          "execution_count": 156
        }
      ]
    },
    {
      "cell_type": "code",
      "metadata": {
        "id": "PEJ9kBylWK8q"
      },
      "source": [
        "from skimage import measure"
      ],
      "execution_count": 51,
      "outputs": []
    },
    {
      "cell_type": "code",
      "metadata": {
        "colab": {
          "base_uri": "https://localhost:8080/",
          "height": 542
        },
        "id": "apnocLKeW2FY",
        "outputId": "8cd16c7a-39e6-46d2-e677-ca94f0703a31"
      },
      "source": [
        "def load_scan(path):\n",
        "    slices = [dicom.read_file(path + '/' + s) for s in os.listdir(path)]\n",
        "    slices.sort(key = lambda x: float(x.ImagePositionPatient[2]))\n",
        "    try:\n",
        "        slice_thickness = np.abs(slices[0].ImagePositionPatient[2] - slices[1].ImagePositionPatient[2])\n",
        "    except:\n",
        "        slice_thickness = np.abs(slices[0].SliceLocation - slices[1].SliceLocation)\n",
        "        \n",
        "    for s in slices:\n",
        "        s.SliceThickness = slice_thickness\n",
        "        \n",
        "    return slices\n",
        "\n",
        "def get_pixels_hu(slices):\n",
        "    image = np.stack([s.pixel_array for s in slices])\n",
        "    # Convert to int16 (from sometimes int16), \n",
        "    # should be possible as values should always be low enough (<32k)\n",
        "    image = image.astype(np.int16)\n",
        "\n",
        "    # Set outside-of-scan pixels to 0\n",
        "    # The intercept is usually -1024, so air is approximately 0\n",
        "    image[image == -2000] = 0\n",
        "    \n",
        "    # Convert to Hounsfield units (HU)\n",
        "    for slice_number in range(len(slices)):\n",
        "        \n",
        "        intercept = slices[slice_number].RescaleIntercept\n",
        "        slope = slices[slice_number].RescaleSlope\n",
        "        \n",
        "        if slope != 1:\n",
        "            image[slice_number] = slope * image[slice_number].astype(np.float64)\n",
        "            image[slice_number] = image[slice_number].astype(np.int16)\n",
        "            \n",
        "        image[slice_number] += np.int16(intercept)\n",
        "    \n",
        "    return np.array(image, dtype=np.int16)\n",
        "\n",
        "\n",
        "INPUT_FOLDER = '/content/CT_Scans/EXP1_blind/'\n",
        "patients = os.listdir(INPUT_FOLDER)\n",
        "patients.sort()\n",
        "\n",
        "first_patient = load_scan(INPUT_FOLDER + patients[0])     # /content/CT_Scans/EXP1_blind/1003\n",
        "first_patient_pixels = get_pixels_hu(first_patient)\n",
        "plt.hist(first_patient_pixels.flatten(), bins=80, color='c')\n",
        "plt.xlabel(\"Hounsfield Units (HU)\")\n",
        "plt.ylabel(\"Frequency\")\n",
        "plt.show()\n",
        "\n",
        "# Show some slice in the middle\n",
        "plt.imshow(first_patient_pixels[80], cmap=plt.cm.gray)\n",
        "plt.show()\n"
      ],
      "execution_count": 52,
      "outputs": [
        {
          "output_type": "display_data",
          "data": {
            "image/png": "[encoded data removed]",
            "text/plain": [
              "<Figure size 432x288 with 1 Axes>"
            ]
          },
          "metadata": {
            "tags": [],
            "needs_background": "light"
          }
        },
        {
          "output_type": "display_data",
          "data": {
            "image/png": "[encoded data removed]",
            "text/plain": [
              "<Figure size 432x288 with 1 Axes>"
            ]
          },
          "metadata": {
            "tags": [],
            "needs_background": "light"
          }
        }
      ]
    },
    {
      "cell_type": "code",
      "metadata": {
        "id": "_Kkc1N38r_KY"
      },
      "source": [
        ""
      ],
      "execution_count": 52,
      "outputs": []
    },
    {
      "cell_type": "code",
      "metadata": {
        "id": "9ZXYmygYMCJD"
      },
      "source": [
        "\n",
        "def resample(image, scan, new_spacing=[1,1,1]):\n",
        "    # Determine current pixel spacing\n",
        "    spacing = np.empty((1,3))\n",
        "    spacing[0,0] = float(scan[0].SliceThickness)\n",
        "    spacing[0,1] = scan[0].PixelSpacing[0]\n",
        "    spacing[0,2] = scan[0].PixelSpacing[1]\n",
        "\n",
        "    resize_factor = spacing / new_spacing\n",
        "    new_real_shape = image.shape * resize_factor\n",
        "    new_shape = np.round(new_real_shape)\n",
        "    real_resize_factor = new_shape / image.shape\n",
        "    new_spacing = spacing / real_resize_factor\n",
        "    \n",
        "    image = scipy.ndimage.interpolation.zoom(image, real_resize_factor, mode='nearest')\n",
        "    \n",
        "    return image, new_spacing\n",
        "\n",
        "def plot_3d(image, threshold=-300):\n",
        "    \n",
        "    # Position the scan upright, \n",
        "    # so the head of the patient would be at the top facing the camera\n",
        "    p = image.transpose(2,1,0)\n",
        "    \n",
        "    verts, faces = measure.marching_cubes_classic(p, threshold)\n",
        "\n",
        "    fig = plt.figure(figsize=(10, 10))\n",
        "    ax = fig.add_subplot(111, projection='3d')\n",
        "\n",
        "    # Fancy indexing: `verts[faces]` to generate a collection of triangles\n",
        "    mesh = Poly3DCollection(verts[faces], alpha=0.70)\n",
        "    face_color = [0.45, 0.45, 0.75]\n",
        "    mesh.set_facecolor(face_color)\n",
        "    ax.add_collection3d(mesh)\n",
        "\n",
        "    ax.set_xlim(0, p.shape[0])\n",
        "    ax.set_ylim(0, p.shape[1])\n",
        "    ax.set_zlim(0, p.shape[2])\n",
        "\n",
        "    plt.show()"
      ],
      "execution_count": 53,
      "outputs": []
    },
    {
      "cell_type": "code",
      "metadata": {
        "colab": {
          "base_uri": "https://localhost:8080/"
        },
        "id": "VlcSZXOvZ9SY",
        "outputId": "784525d1-4c0c-44dc-fbb7-07e9c70414ea"
      },
      "source": [
        "first_patient[0].PixelSpacing    #  (first_patient[0].SliceThickness) + first_patient[0].PixelSpacing"
      ],
      "execution_count": 54,
      "outputs": [
        {
          "output_type": "execute_result",
          "data": {
            "text/plain": [
              "[0.703125, 0.703125]"
            ]
          },
          "metadata": {
            "tags": []
          },
          "execution_count": 54
        }
      ]
    },
    {
      "cell_type": "code",
      "metadata": {
        "colab": {
          "base_uri": "https://localhost:8080/"
        },
        "id": "s1kld7-5cBgR",
        "outputId": "66f56270-e52e-45ff-e495-43e62d4183d0"
      },
      "source": [
        "arr = np.empty((1,3))\n",
        "arr[0,0] = float(first_patient[0].SliceThickness)\n",
        "arr[0,1] = first_patient[0].PixelSpacing[0]\n",
        "arr[0,2] = first_patient[0].PixelSpacing[1]\n",
        "arr"
      ],
      "execution_count": 55,
      "outputs": [
        {
          "output_type": "execute_result",
          "data": {
            "text/plain": [
              "array([[0.625   , 0.703125, 0.703125]])"
            ]
          },
          "metadata": {
            "tags": []
          },
          "execution_count": 55
        }
      ]
    },
    {
      "cell_type": "code",
      "metadata": {
        "id": "oic3uysEMl3-"
      },
      "source": [
        "#pix_resampled, spacing = resample(first_patient_pixels, first_patient, [1,1,1])"
      ],
      "execution_count": 56,
      "outputs": []
    },
    {
      "cell_type": "code",
      "metadata": {
        "id": "WQhbbtHuMl7b"
      },
      "source": [
        "#plot_3d(pix_resampled, 400)"
      ],
      "execution_count": 58,
      "outputs": []
    },
    {
      "cell_type": "code",
      "metadata": {
        "colab": {
          "base_uri": "https://localhost:8080/",
          "height": 402
        },
        "id": "SHshV6wY69kA",
        "outputId": "85b50a4e-6efd-4ede-9308-3d521cd1de0a"
      },
      "source": [
        "pd.read_csv('/content/Response EXP1 - AI_instances.csv')"
      ],
      "execution_count": 59,
      "outputs": [
        {
          "output_type": "execute_result",
          "data": {
            "text/html": [
              "<div>\n",
              "<style scoped>\n",
              "    .dataframe tbody tr th:only-of-type {\n",
              "        vertical-align: middle;\n",
              "    }\n",
              "\n",
              "    .dataframe tbody tr th {\n",
              "        vertical-align: top;\n",
              "    }\n",
              "\n",
              "    .dataframe thead th {\n",
              "        text-align: right;\n",
              "    }\n",
              "</style>\n",
              "<table border=\"1\" class=\"dataframe\">\n",
              "  <thead>\n",
              "    <tr style=\"text-align: right;\">\n",
              "      <th></th>\n",
              "      <th>type</th>\n",
              "      <th>uuid</th>\n",
              "      <th>slice</th>\n",
              "      <th>x</th>\n",
              "      <th>y</th>\n",
              "      <th>detected</th>\n",
              "      <th>detected_diam</th>\n",
              "      <th>label</th>\n",
              "    </tr>\n",
              "  </thead>\n",
              "  <tbody>\n",
              "    <tr>\n",
              "      <th>0</th>\n",
              "      <td>FB</td>\n",
              "      <td>1280</td>\n",
              "      <td>100</td>\n",
              "      <td>323</td>\n",
              "      <td>381</td>\n",
              "      <td>False</td>\n",
              "      <td>0.000000</td>\n",
              "      <td>True</td>\n",
              "    </tr>\n",
              "    <tr>\n",
              "      <th>1</th>\n",
              "      <td>FB</td>\n",
              "      <td>1009</td>\n",
              "      <td>76</td>\n",
              "      <td>354</td>\n",
              "      <td>288</td>\n",
              "      <td>False</td>\n",
              "      <td>0.000000</td>\n",
              "      <td>True</td>\n",
              "    </tr>\n",
              "    <tr>\n",
              "      <th>2</th>\n",
              "      <td>FB</td>\n",
              "      <td>7794</td>\n",
              "      <td>79</td>\n",
              "      <td>163</td>\n",
              "      <td>191</td>\n",
              "      <td>False</td>\n",
              "      <td>0.000000</td>\n",
              "      <td>True</td>\n",
              "    </tr>\n",
              "    <tr>\n",
              "      <th>3</th>\n",
              "      <td>FB</td>\n",
              "      <td>7794</td>\n",
              "      <td>94</td>\n",
              "      <td>338</td>\n",
              "      <td>243</td>\n",
              "      <td>False</td>\n",
              "      <td>0.000000</td>\n",
              "      <td>True</td>\n",
              "    </tr>\n",
              "    <tr>\n",
              "      <th>4</th>\n",
              "      <td>FB</td>\n",
              "      <td>2997</td>\n",
              "      <td>45</td>\n",
              "      <td>156</td>\n",
              "      <td>135</td>\n",
              "      <td>False</td>\n",
              "      <td>0.000000</td>\n",
              "      <td>True</td>\n",
              "    </tr>\n",
              "    <tr>\n",
              "      <th>...</th>\n",
              "      <td>...</td>\n",
              "      <td>...</td>\n",
              "      <td>...</td>\n",
              "      <td>...</td>\n",
              "      <td>...</td>\n",
              "      <td>...</td>\n",
              "      <td>...</td>\n",
              "      <td>...</td>\n",
              "    </tr>\n",
              "    <tr>\n",
              "      <th>128</th>\n",
              "      <td>TM</td>\n",
              "      <td>7507</td>\n",
              "      <td>201</td>\n",
              "      <td>316</td>\n",
              "      <td>362</td>\n",
              "      <td>True</td>\n",
              "      <td>8.464684</td>\n",
              "      <td>True</td>\n",
              "    </tr>\n",
              "    <tr>\n",
              "      <th>129</th>\n",
              "      <td>TM</td>\n",
              "      <td>7507</td>\n",
              "      <td>319</td>\n",
              "      <td>125</td>\n",
              "      <td>323</td>\n",
              "      <td>True</td>\n",
              "      <td>14.526845</td>\n",
              "      <td>True</td>\n",
              "    </tr>\n",
              "    <tr>\n",
              "      <th>130</th>\n",
              "      <td>TM</td>\n",
              "      <td>2190</td>\n",
              "      <td>48</td>\n",
              "      <td>147</td>\n",
              "      <td>379</td>\n",
              "      <td>True</td>\n",
              "      <td>8.705275</td>\n",
              "      <td>True</td>\n",
              "    </tr>\n",
              "    <tr>\n",
              "      <th>131</th>\n",
              "      <td>TM</td>\n",
              "      <td>2190</td>\n",
              "      <td>213</td>\n",
              "      <td>141</td>\n",
              "      <td>336</td>\n",
              "      <td>True</td>\n",
              "      <td>18.149607</td>\n",
              "      <td>True</td>\n",
              "    </tr>\n",
              "    <tr>\n",
              "      <th>132</th>\n",
              "      <td>TM</td>\n",
              "      <td>3025</td>\n",
              "      <td>165</td>\n",
              "      <td>198</td>\n",
              "      <td>331</td>\n",
              "      <td>True</td>\n",
              "      <td>17.337188</td>\n",
              "      <td>True</td>\n",
              "    </tr>\n",
              "  </tbody>\n",
              "</table>\n",
              "<p>133 rows × 8 columns</p>\n",
              "</div>"
            ],
            "text/plain": [
              "    type  uuid  slice    x    y  detected  detected_diam  label\n",
              "0     FB  1280    100  323  381     False       0.000000   True\n",
              "1     FB  1009     76  354  288     False       0.000000   True\n",
              "2     FB  7794     79  163  191     False       0.000000   True\n",
              "3     FB  7794     94  338  243     False       0.000000   True\n",
              "4     FB  2997     45  156  135     False       0.000000   True\n",
              "..   ...   ...    ...  ...  ...       ...            ...    ...\n",
              "128   TM  7507    201  316  362      True       8.464684   True\n",
              "129   TM  7507    319  125  323      True      14.526845   True\n",
              "130   TM  2190     48  147  379      True       8.705275   True\n",
              "131   TM  2190    213  141  336      True      18.149607   True\n",
              "132   TM  3025    165  198  331      True      17.337188   True\n",
              "\n",
              "[133 rows x 8 columns]"
            ]
          },
          "metadata": {
            "tags": []
          },
          "execution_count": 59
        }
      ]
    },
    {
      "cell_type": "code",
      "metadata": {
        "colab": {
          "base_uri": "https://localhost:8080/",
          "height": 638
        },
        "id": "uVXKezet3y25",
        "outputId": "117ffc64-0345-4be7-95d2-02fceda0a892"
      },
      "source": [
        "fig, axe  = plt.subplots(3,8,sharex=True, sharey=True, figsize = (24,8))\n",
        "plt.xlabel('columns')\n",
        "plt.ylabel('accuracy')\n",
        "for i in range(3):\n",
        "    for j in range(8):\n",
        "        s = i*8 + j\n",
        "        if s < 22:\n",
        "            axe[i,j].plot(scr1[s], color = 'red', label = 'knn')\n",
        "            axe[i,j].plot(scr2[s], color = 'green', label = 'random forest')\n",
        "            fig.tight_layout()\n",
        "plt.legend()"
      ],
      "execution_count": 60,
      "outputs": [
        {
          "output_type": "stream",
          "text": [
            "No handles with labels found to put in legend.\n"
          ],
          "name": "stderr"
        },
        {
          "output_type": "execute_result",
          "data": {
            "text/plain": [
              "<matplotlib.legend.Legend at 0x7f67a12e2b90>"
            ]
          },
          "metadata": {
            "tags": []
          },
          "execution_count": 60
        },
        {
          "output_type": "display_data",
          "data": {
            "image/png": "[encoded data removed]",
            "text/plain": [
              "<Figure size 1728x576 with 24 Axes>"
            ]
          },
          "metadata": {
            "tags": [],
            "needs_background": "light"
          }
        }
      ]
    },
    {
      "cell_type": "code",
      "metadata": {
        "colab": {
          "base_uri": "https://localhost:8080/",
          "height": 422
        },
        "id": "aLRKxUdZY-Ud",
        "outputId": "6fb29e19-98e4-4203-9334-4adfc195f075"
      },
      "source": [
        "pd.DataFrame(temp_x).drop(col_to_drop, axis = 1) #+ pd.DataFrame(temp_x)[col_to_drop]"
      ],
      "execution_count": 61,
      "outputs": [
        {
          "output_type": "execute_result",
          "data": {
            "text/html": [
              "<div>\n",
              "<style scoped>\n",
              "    .dataframe tbody tr th:only-of-type {\n",
              "        vertical-align: middle;\n",
              "    }\n",
              "\n",
              "    .dataframe tbody tr th {\n",
              "        vertical-align: top;\n",
              "    }\n",
              "\n",
              "    .dataframe thead th {\n",
              "        text-align: right;\n",
              "    }\n",
              "</style>\n",
              "<table border=\"1\" class=\"dataframe\">\n",
              "  <thead>\n",
              "    <tr style=\"text-align: right;\">\n",
              "      <th></th>\n",
              "      <th>0</th>\n",
              "      <th>1</th>\n",
              "      <th>2</th>\n",
              "      <th>3</th>\n",
              "      <th>4</th>\n",
              "      <th>5</th>\n",
              "      <th>7</th>\n",
              "      <th>8</th>\n",
              "      <th>10</th>\n",
              "      <th>11</th>\n",
              "      <th>13</th>\n",
              "      <th>14</th>\n",
              "      <th>15</th>\n",
              "      <th>17</th>\n",
              "      <th>18</th>\n",
              "      <th>20</th>\n",
              "      <th>21</th>\n",
              "      <th>23</th>\n",
              "      <th>24</th>\n",
              "      <th>26</th>\n",
              "      <th>27</th>\n",
              "      <th>29</th>\n",
              "      <th>30</th>\n",
              "      <th>32</th>\n",
              "      <th>33</th>\n",
              "      <th>35</th>\n",
              "      <th>36</th>\n",
              "      <th>38</th>\n",
              "      <th>39</th>\n",
              "      <th>40</th>\n",
              "      <th>42</th>\n",
              "      <th>43</th>\n",
              "      <th>44</th>\n",
              "      <th>46</th>\n",
              "      <th>47</th>\n",
              "      <th>49</th>\n",
              "      <th>50</th>\n",
              "      <th>52</th>\n",
              "      <th>53</th>\n",
              "      <th>55</th>\n",
              "      <th>56</th>\n",
              "      <th>57</th>\n",
              "      <th>59</th>\n",
              "      <th>60</th>\n",
              "      <th>62</th>\n",
              "      <th>63</th>\n",
              "      <th>64</th>\n",
              "      <th>66</th>\n",
              "      <th>67</th>\n",
              "      <th>69</th>\n",
              "      <th>70</th>\n",
              "      <th>72</th>\n",
              "      <th>73</th>\n",
              "      <th>75</th>\n",
              "      <th>76</th>\n",
              "      <th>78</th>\n",
              "      <th>79</th>\n",
              "      <th>81</th>\n",
              "      <th>82</th>\n",
              "      <th>84</th>\n",
              "      <th>85</th>\n",
              "      <th>87</th>\n",
              "      <th>88</th>\n",
              "      <th>90</th>\n",
              "      <th>91</th>\n",
              "      <th>92</th>\n",
              "      <th>94</th>\n",
              "      <th>95</th>\n",
              "      <th>97</th>\n",
              "      <th>98</th>\n",
              "      <th>100</th>\n",
              "      <th>101</th>\n",
              "      <th>103</th>\n",
              "      <th>104</th>\n",
              "      <th>105</th>\n",
              "      <th>106</th>\n",
              "      <th>107</th>\n",
              "      <th>108</th>\n",
              "      <th>109</th>\n",
              "    </tr>\n",
              "  </thead>\n",
              "  <tbody>\n",
              "    <tr>\n",
              "      <th>0</th>\n",
              "      <td>0.000199</td>\n",
              "      <td>-0.000783</td>\n",
              "      <td>0.002232</td>\n",
              "      <td>0.019688</td>\n",
              "      <td>0.004395</td>\n",
              "      <td>-0.001918</td>\n",
              "      <td>-0.003166</td>\n",
              "      <td>0.000162</td>\n",
              "      <td>0.006726</td>\n",
              "      <td>0.001537</td>\n",
              "      <td>0.001377</td>\n",
              "      <td>0.003164</td>\n",
              "      <td>0.002628</td>\n",
              "      <td>-0.001690</td>\n",
              "      <td>-0.004945</td>\n",
              "      <td>-0.004066</td>\n",
              "      <td>-0.002400</td>\n",
              "      <td>-0.001626</td>\n",
              "      <td>-0.003164</td>\n",
              "      <td>-0.002995</td>\n",
              "      <td>-0.004318</td>\n",
              "      <td>-0.003508</td>\n",
              "      <td>-0.002824</td>\n",
              "      <td>-0.003241</td>\n",
              "      <td>-0.003292</td>\n",
              "      <td>-0.000607</td>\n",
              "      <td>-0.000564</td>\n",
              "      <td>-0.001641</td>\n",
              "      <td>-0.001171</td>\n",
              "      <td>-0.000973</td>\n",
              "      <td>-0.001693</td>\n",
              "      <td>-0.003139</td>\n",
              "      <td>-0.001782</td>\n",
              "      <td>0.000805</td>\n",
              "      <td>0.002743</td>\n",
              "      <td>0.022224</td>\n",
              "      <td>0.021833</td>\n",
              "      <td>0.018496</td>\n",
              "      <td>0.018688</td>\n",
              "      <td>0.000907</td>\n",
              "      <td>0.000073</td>\n",
              "      <td>0.000335</td>\n",
              "      <td>0.001618</td>\n",
              "      <td>-0.001571</td>\n",
              "      <td>-0.002254</td>\n",
              "      <td>0.000021</td>\n",
              "      <td>0.001905</td>\n",
              "      <td>0.001977</td>\n",
              "      <td>0.000864</td>\n",
              "      <td>0.020237</td>\n",
              "      <td>0.017605</td>\n",
              "      <td>0.013535</td>\n",
              "      <td>0.015555</td>\n",
              "      <td>-0.000632</td>\n",
              "      <td>-0.000916</td>\n",
              "      <td>0.001171</td>\n",
              "      <td>0.000051</td>\n",
              "      <td>-0.000487</td>\n",
              "      <td>-0.002750</td>\n",
              "      <td>-0.003569</td>\n",
              "      <td>-0.003024</td>\n",
              "      <td>-0.002066</td>\n",
              "      <td>0.001053</td>\n",
              "      <td>0.002317</td>\n",
              "      <td>0.002163</td>\n",
              "      <td>0.002257</td>\n",
              "      <td>-0.003089</td>\n",
              "      <td>-0.003250</td>\n",
              "      <td>-0.003181</td>\n",
              "      <td>-0.003106</td>\n",
              "      <td>-0.003437</td>\n",
              "      <td>-0.003265</td>\n",
              "      <td>-0.002974</td>\n",
              "      <td>-0.002901</td>\n",
              "      <td>-0.002457</td>\n",
              "      <td>-0.002405</td>\n",
              "      <td>-0.014649</td>\n",
              "      <td>-0.026646</td>\n",
              "      <td>-0.026996</td>\n",
              "    </tr>\n",
              "    <tr>\n",
              "      <th>1</th>\n",
              "      <td>-0.002519</td>\n",
              "      <td>-0.002807</td>\n",
              "      <td>-0.003137</td>\n",
              "      <td>-0.003431</td>\n",
              "      <td>-0.003614</td>\n",
              "      <td>-0.003847</td>\n",
              "      <td>-0.002113</td>\n",
              "      <td>-0.001310</td>\n",
              "      <td>0.011701</td>\n",
              "      <td>0.037473</td>\n",
              "      <td>0.007919</td>\n",
              "      <td>-0.003599</td>\n",
              "      <td>-0.003040</td>\n",
              "      <td>-0.002616</td>\n",
              "      <td>-0.000719</td>\n",
              "      <td>0.000315</td>\n",
              "      <td>-0.000317</td>\n",
              "      <td>-0.000266</td>\n",
              "      <td>0.000294</td>\n",
              "      <td>0.002455</td>\n",
              "      <td>0.001811</td>\n",
              "      <td>0.000770</td>\n",
              "      <td>0.001221</td>\n",
              "      <td>0.001528</td>\n",
              "      <td>0.002002</td>\n",
              "      <td>-0.001414</td>\n",
              "      <td>-0.002869</td>\n",
              "      <td>-0.002559</td>\n",
              "      <td>-0.001502</td>\n",
              "      <td>-0.001902</td>\n",
              "      <td>-0.002978</td>\n",
              "      <td>-0.002759</td>\n",
              "      <td>-0.002221</td>\n",
              "      <td>0.002306</td>\n",
              "      <td>0.003153</td>\n",
              "      <td>-0.000706</td>\n",
              "      <td>0.005294</td>\n",
              "      <td>-0.007404</td>\n",
              "      <td>0.001181</td>\n",
              "      <td>0.000643</td>\n",
              "      <td>0.009192</td>\n",
              "      <td>0.003957</td>\n",
              "      <td>-0.002535</td>\n",
              "      <td>-0.003004</td>\n",
              "      <td>-0.002606</td>\n",
              "      <td>-0.002833</td>\n",
              "      <td>-0.002201</td>\n",
              "      <td>0.000988</td>\n",
              "      <td>0.003303</td>\n",
              "      <td>0.002521</td>\n",
              "      <td>0.002027</td>\n",
              "      <td>0.001750</td>\n",
              "      <td>0.000784</td>\n",
              "      <td>-0.000272</td>\n",
              "      <td>-0.001146</td>\n",
              "      <td>-0.002389</td>\n",
              "      <td>-0.001962</td>\n",
              "      <td>-0.000540</td>\n",
              "      <td>-0.000697</td>\n",
              "      <td>0.000875</td>\n",
              "      <td>0.000749</td>\n",
              "      <td>-0.000716</td>\n",
              "      <td>-0.001365</td>\n",
              "      <td>-0.000246</td>\n",
              "      <td>0.000329</td>\n",
              "      <td>0.000950</td>\n",
              "      <td>-0.000359</td>\n",
              "      <td>-0.001321</td>\n",
              "      <td>-0.001961</td>\n",
              "      <td>-0.002434</td>\n",
              "      <td>-0.002349</td>\n",
              "      <td>-0.002072</td>\n",
              "      <td>-0.000128</td>\n",
              "      <td>0.000319</td>\n",
              "      <td>-0.007205</td>\n",
              "      <td>-0.010682</td>\n",
              "      <td>-0.017235</td>\n",
              "      <td>-0.024429</td>\n",
              "      <td>-0.028575</td>\n",
              "    </tr>\n",
              "    <tr>\n",
              "      <th>2</th>\n",
              "      <td>-0.002899</td>\n",
              "      <td>-0.003302</td>\n",
              "      <td>-0.001422</td>\n",
              "      <td>0.001309</td>\n",
              "      <td>0.001728</td>\n",
              "      <td>0.001793</td>\n",
              "      <td>0.001781</td>\n",
              "      <td>0.001367</td>\n",
              "      <td>0.007553</td>\n",
              "      <td>0.006706</td>\n",
              "      <td>0.005466</td>\n",
              "      <td>0.005068</td>\n",
              "      <td>0.004351</td>\n",
              "      <td>0.003816</td>\n",
              "      <td>0.004276</td>\n",
              "      <td>0.011251</td>\n",
              "      <td>0.004469</td>\n",
              "      <td>0.001430</td>\n",
              "      <td>-0.000049</td>\n",
              "      <td>-0.001620</td>\n",
              "      <td>0.001078</td>\n",
              "      <td>-0.001189</td>\n",
              "      <td>-0.000878</td>\n",
              "      <td>-0.002218</td>\n",
              "      <td>-0.002359</td>\n",
              "      <td>0.025735</td>\n",
              "      <td>0.017468</td>\n",
              "      <td>0.017367</td>\n",
              "      <td>0.016504</td>\n",
              "      <td>-0.000121</td>\n",
              "      <td>0.000876</td>\n",
              "      <td>0.001047</td>\n",
              "      <td>0.000908</td>\n",
              "      <td>-0.000363</td>\n",
              "      <td>-0.000233</td>\n",
              "      <td>0.004355</td>\n",
              "      <td>0.004138</td>\n",
              "      <td>0.008000</td>\n",
              "      <td>0.010126</td>\n",
              "      <td>0.008707</td>\n",
              "      <td>0.008583</td>\n",
              "      <td>0.009339</td>\n",
              "      <td>0.008348</td>\n",
              "      <td>0.007959</td>\n",
              "      <td>0.007078</td>\n",
              "      <td>0.007600</td>\n",
              "      <td>0.003865</td>\n",
              "      <td>0.001004</td>\n",
              "      <td>0.000098</td>\n",
              "      <td>-0.000303</td>\n",
              "      <td>0.000444</td>\n",
              "      <td>0.000462</td>\n",
              "      <td>0.000153</td>\n",
              "      <td>-0.001451</td>\n",
              "      <td>0.001206</td>\n",
              "      <td>0.021942</td>\n",
              "      <td>0.021856</td>\n",
              "      <td>-0.004165</td>\n",
              "      <td>-0.003539</td>\n",
              "      <td>0.018665</td>\n",
              "      <td>0.011242</td>\n",
              "      <td>0.005914</td>\n",
              "      <td>0.001286</td>\n",
              "      <td>0.002203</td>\n",
              "      <td>0.002667</td>\n",
              "      <td>0.002171</td>\n",
              "      <td>0.005509</td>\n",
              "      <td>0.003621</td>\n",
              "      <td>0.003025</td>\n",
              "      <td>0.003287</td>\n",
              "      <td>0.005610</td>\n",
              "      <td>0.004312</td>\n",
              "      <td>0.006310</td>\n",
              "      <td>0.003678</td>\n",
              "      <td>0.002846</td>\n",
              "      <td>0.003446</td>\n",
              "      <td>0.001486</td>\n",
              "      <td>0.002468</td>\n",
              "      <td>0.002420</td>\n",
              "    </tr>\n",
              "    <tr>\n",
              "      <th>3</th>\n",
              "      <td>-0.002989</td>\n",
              "      <td>-0.003267</td>\n",
              "      <td>-0.003864</td>\n",
              "      <td>-0.002632</td>\n",
              "      <td>-0.000094</td>\n",
              "      <td>0.005692</td>\n",
              "      <td>0.010145</td>\n",
              "      <td>0.006666</td>\n",
              "      <td>0.000448</td>\n",
              "      <td>0.000253</td>\n",
              "      <td>0.000231</td>\n",
              "      <td>0.000383</td>\n",
              "      <td>0.000461</td>\n",
              "      <td>-0.000277</td>\n",
              "      <td>-0.000208</td>\n",
              "      <td>0.001649</td>\n",
              "      <td>0.008262</td>\n",
              "      <td>0.014896</td>\n",
              "      <td>0.015861</td>\n",
              "      <td>0.016787</td>\n",
              "      <td>0.001341</td>\n",
              "      <td>-0.002614</td>\n",
              "      <td>-0.003374</td>\n",
              "      <td>-0.001551</td>\n",
              "      <td>0.000298</td>\n",
              "      <td>-0.000566</td>\n",
              "      <td>-0.000079</td>\n",
              "      <td>0.000369</td>\n",
              "      <td>0.001092</td>\n",
              "      <td>0.001005</td>\n",
              "      <td>-0.000045</td>\n",
              "      <td>-0.000474</td>\n",
              "      <td>0.000413</td>\n",
              "      <td>0.004655</td>\n",
              "      <td>0.006522</td>\n",
              "      <td>0.006819</td>\n",
              "      <td>0.007575</td>\n",
              "      <td>0.007615</td>\n",
              "      <td>0.005707</td>\n",
              "      <td>0.003536</td>\n",
              "      <td>0.002668</td>\n",
              "      <td>0.006588</td>\n",
              "      <td>0.005741</td>\n",
              "      <td>0.004780</td>\n",
              "      <td>0.008918</td>\n",
              "      <td>0.011237</td>\n",
              "      <td>0.013733</td>\n",
              "      <td>0.017345</td>\n",
              "      <td>0.017669</td>\n",
              "      <td>0.007461</td>\n",
              "      <td>-0.000253</td>\n",
              "      <td>0.000117</td>\n",
              "      <td>-0.001262</td>\n",
              "      <td>-0.003951</td>\n",
              "      <td>-0.003000</td>\n",
              "      <td>0.010614</td>\n",
              "      <td>0.023105</td>\n",
              "      <td>0.012580</td>\n",
              "      <td>0.004722</td>\n",
              "      <td>-0.002208</td>\n",
              "      <td>-0.002309</td>\n",
              "      <td>0.001931</td>\n",
              "      <td>0.009168</td>\n",
              "      <td>0.004539</td>\n",
              "      <td>0.004841</td>\n",
              "      <td>0.000763</td>\n",
              "      <td>0.002663</td>\n",
              "      <td>0.007897</td>\n",
              "      <td>0.001217</td>\n",
              "      <td>0.000167</td>\n",
              "      <td>-0.000397</td>\n",
              "      <td>-0.001213</td>\n",
              "      <td>-0.001495</td>\n",
              "      <td>-0.001872</td>\n",
              "      <td>-0.000687</td>\n",
              "      <td>0.000749</td>\n",
              "      <td>0.001517</td>\n",
              "      <td>0.001472</td>\n",
              "      <td>0.003985</td>\n",
              "    </tr>\n",
              "    <tr>\n",
              "      <th>4</th>\n",
              "      <td>0.001758</td>\n",
              "      <td>0.000764</td>\n",
              "      <td>0.001233</td>\n",
              "      <td>0.000588</td>\n",
              "      <td>-0.001444</td>\n",
              "      <td>-0.001719</td>\n",
              "      <td>-0.000832</td>\n",
              "      <td>-0.000482</td>\n",
              "      <td>-0.000062</td>\n",
              "      <td>-0.000259</td>\n",
              "      <td>-0.001366</td>\n",
              "      <td>-0.000741</td>\n",
              "      <td>0.000419</td>\n",
              "      <td>-0.000167</td>\n",
              "      <td>0.000796</td>\n",
              "      <td>0.001115</td>\n",
              "      <td>0.000799</td>\n",
              "      <td>0.000295</td>\n",
              "      <td>-0.000464</td>\n",
              "      <td>-0.000782</td>\n",
              "      <td>0.001269</td>\n",
              "      <td>0.001668</td>\n",
              "      <td>-0.000446</td>\n",
              "      <td>0.000915</td>\n",
              "      <td>0.000796</td>\n",
              "      <td>0.000917</td>\n",
              "      <td>0.000646</td>\n",
              "      <td>0.000197</td>\n",
              "      <td>-0.000793</td>\n",
              "      <td>-0.001289</td>\n",
              "      <td>-0.001316</td>\n",
              "      <td>0.000281</td>\n",
              "      <td>0.000063</td>\n",
              "      <td>0.001652</td>\n",
              "      <td>0.001551</td>\n",
              "      <td>0.004120</td>\n",
              "      <td>0.006580</td>\n",
              "      <td>0.006038</td>\n",
              "      <td>0.004706</td>\n",
              "      <td>0.002530</td>\n",
              "      <td>0.002008</td>\n",
              "      <td>0.001680</td>\n",
              "      <td>0.000763</td>\n",
              "      <td>-0.000683</td>\n",
              "      <td>-0.001319</td>\n",
              "      <td>-0.001530</td>\n",
              "      <td>0.000040</td>\n",
              "      <td>0.001345</td>\n",
              "      <td>0.001463</td>\n",
              "      <td>0.000523</td>\n",
              "      <td>0.000545</td>\n",
              "      <td>0.002570</td>\n",
              "      <td>0.005297</td>\n",
              "      <td>0.002146</td>\n",
              "      <td>0.001952</td>\n",
              "      <td>0.001837</td>\n",
              "      <td>0.001403</td>\n",
              "      <td>0.000170</td>\n",
              "      <td>-0.001574</td>\n",
              "      <td>-0.004974</td>\n",
              "      <td>-0.004588</td>\n",
              "      <td>-0.001061</td>\n",
              "      <td>0.000628</td>\n",
              "      <td>0.001291</td>\n",
              "      <td>0.001791</td>\n",
              "      <td>0.001996</td>\n",
              "      <td>0.001423</td>\n",
              "      <td>0.000077</td>\n",
              "      <td>0.000873</td>\n",
              "      <td>0.000989</td>\n",
              "      <td>0.001071</td>\n",
              "      <td>0.001108</td>\n",
              "      <td>0.001387</td>\n",
              "      <td>0.000991</td>\n",
              "      <td>0.001139</td>\n",
              "      <td>0.000850</td>\n",
              "      <td>0.001102</td>\n",
              "      <td>0.000333</td>\n",
              "      <td>-0.001853</td>\n",
              "    </tr>\n",
              "    <tr>\n",
              "      <th>...</th>\n",
              "      <td>...</td>\n",
              "      <td>...</td>\n",
              "      <td>...</td>\n",
              "      <td>...</td>\n",
              "      <td>...</td>\n",
              "      <td>...</td>\n",
              "      <td>...</td>\n",
              "      <td>...</td>\n",
              "      <td>...</td>\n",
              "      <td>...</td>\n",
              "      <td>...</td>\n",
              "      <td>...</td>\n",
              "      <td>...</td>\n",
              "      <td>...</td>\n",
              "      <td>...</td>\n",
              "      <td>...</td>\n",
              "      <td>...</td>\n",
              "      <td>...</td>\n",
              "      <td>...</td>\n",
              "      <td>...</td>\n",
              "      <td>...</td>\n",
              "      <td>...</td>\n",
              "      <td>...</td>\n",
              "      <td>...</td>\n",
              "      <td>...</td>\n",
              "      <td>...</td>\n",
              "      <td>...</td>\n",
              "      <td>...</td>\n",
              "      <td>...</td>\n",
              "      <td>...</td>\n",
              "      <td>...</td>\n",
              "      <td>...</td>\n",
              "      <td>...</td>\n",
              "      <td>...</td>\n",
              "      <td>...</td>\n",
              "      <td>...</td>\n",
              "      <td>...</td>\n",
              "      <td>...</td>\n",
              "      <td>...</td>\n",
              "      <td>...</td>\n",
              "      <td>...</td>\n",
              "      <td>...</td>\n",
              "      <td>...</td>\n",
              "      <td>...</td>\n",
              "      <td>...</td>\n",
              "      <td>...</td>\n",
              "      <td>...</td>\n",
              "      <td>...</td>\n",
              "      <td>...</td>\n",
              "      <td>...</td>\n",
              "      <td>...</td>\n",
              "      <td>...</td>\n",
              "      <td>...</td>\n",
              "      <td>...</td>\n",
              "      <td>...</td>\n",
              "      <td>...</td>\n",
              "      <td>...</td>\n",
              "      <td>...</td>\n",
              "      <td>...</td>\n",
              "      <td>...</td>\n",
              "      <td>...</td>\n",
              "      <td>...</td>\n",
              "      <td>...</td>\n",
              "      <td>...</td>\n",
              "      <td>...</td>\n",
              "      <td>...</td>\n",
              "      <td>...</td>\n",
              "      <td>...</td>\n",
              "      <td>...</td>\n",
              "      <td>...</td>\n",
              "      <td>...</td>\n",
              "      <td>...</td>\n",
              "      <td>...</td>\n",
              "      <td>...</td>\n",
              "      <td>...</td>\n",
              "      <td>...</td>\n",
              "      <td>...</td>\n",
              "      <td>...</td>\n",
              "      <td>...</td>\n",
              "    </tr>\n",
              "    <tr>\n",
              "      <th>75</th>\n",
              "      <td>-0.003564</td>\n",
              "      <td>-0.003557</td>\n",
              "      <td>-0.003576</td>\n",
              "      <td>-0.003469</td>\n",
              "      <td>-0.003493</td>\n",
              "      <td>-0.002456</td>\n",
              "      <td>0.001137</td>\n",
              "      <td>0.001913</td>\n",
              "      <td>0.001207</td>\n",
              "      <td>0.006324</td>\n",
              "      <td>0.008431</td>\n",
              "      <td>0.008344</td>\n",
              "      <td>0.007999</td>\n",
              "      <td>0.011073</td>\n",
              "      <td>0.007659</td>\n",
              "      <td>-0.000821</td>\n",
              "      <td>-0.000145</td>\n",
              "      <td>-0.000256</td>\n",
              "      <td>-0.002670</td>\n",
              "      <td>-0.003081</td>\n",
              "      <td>-0.001904</td>\n",
              "      <td>0.000040</td>\n",
              "      <td>0.000527</td>\n",
              "      <td>0.000238</td>\n",
              "      <td>0.000472</td>\n",
              "      <td>0.008224</td>\n",
              "      <td>0.010092</td>\n",
              "      <td>-0.003076</td>\n",
              "      <td>-0.002797</td>\n",
              "      <td>-0.000643</td>\n",
              "      <td>0.001597</td>\n",
              "      <td>0.000061</td>\n",
              "      <td>0.000665</td>\n",
              "      <td>0.001631</td>\n",
              "      <td>0.001589</td>\n",
              "      <td>0.000368</td>\n",
              "      <td>0.000164</td>\n",
              "      <td>0.004528</td>\n",
              "      <td>0.001884</td>\n",
              "      <td>0.001734</td>\n",
              "      <td>0.002109</td>\n",
              "      <td>0.002474</td>\n",
              "      <td>0.002080</td>\n",
              "      <td>0.001937</td>\n",
              "      <td>0.003613</td>\n",
              "      <td>0.005989</td>\n",
              "      <td>0.001067</td>\n",
              "      <td>0.001757</td>\n",
              "      <td>0.001737</td>\n",
              "      <td>0.000437</td>\n",
              "      <td>-0.000201</td>\n",
              "      <td>0.002422</td>\n",
              "      <td>-0.001208</td>\n",
              "      <td>-0.002903</td>\n",
              "      <td>-0.001691</td>\n",
              "      <td>-0.001847</td>\n",
              "      <td>-0.001857</td>\n",
              "      <td>-0.003199</td>\n",
              "      <td>-0.003555</td>\n",
              "      <td>-0.003642</td>\n",
              "      <td>-0.003648</td>\n",
              "      <td>-0.003065</td>\n",
              "      <td>-0.002724</td>\n",
              "      <td>0.026961</td>\n",
              "      <td>0.026183</td>\n",
              "      <td>0.001078</td>\n",
              "      <td>-0.000477</td>\n",
              "      <td>0.000216</td>\n",
              "      <td>0.000658</td>\n",
              "      <td>0.000536</td>\n",
              "      <td>0.001629</td>\n",
              "      <td>0.022905</td>\n",
              "      <td>0.002922</td>\n",
              "      <td>0.001824</td>\n",
              "      <td>0.008678</td>\n",
              "      <td>0.025768</td>\n",
              "      <td>0.004594</td>\n",
              "      <td>0.005576</td>\n",
              "      <td>0.002442</td>\n",
              "    </tr>\n",
              "    <tr>\n",
              "      <th>76</th>\n",
              "      <td>-0.026895</td>\n",
              "      <td>-0.027507</td>\n",
              "      <td>-0.022558</td>\n",
              "      <td>-0.003335</td>\n",
              "      <td>-0.002933</td>\n",
              "      <td>-0.001534</td>\n",
              "      <td>0.001348</td>\n",
              "      <td>0.001372</td>\n",
              "      <td>0.001549</td>\n",
              "      <td>0.002288</td>\n",
              "      <td>0.003923</td>\n",
              "      <td>0.003588</td>\n",
              "      <td>0.003437</td>\n",
              "      <td>0.002218</td>\n",
              "      <td>0.001916</td>\n",
              "      <td>0.000020</td>\n",
              "      <td>0.000166</td>\n",
              "      <td>0.007097</td>\n",
              "      <td>0.001392</td>\n",
              "      <td>0.004935</td>\n",
              "      <td>0.013788</td>\n",
              "      <td>-0.002249</td>\n",
              "      <td>-0.000831</td>\n",
              "      <td>0.002071</td>\n",
              "      <td>0.010560</td>\n",
              "      <td>0.001516</td>\n",
              "      <td>-0.003343</td>\n",
              "      <td>-0.000069</td>\n",
              "      <td>-0.002348</td>\n",
              "      <td>-0.003301</td>\n",
              "      <td>-0.002989</td>\n",
              "      <td>-0.003892</td>\n",
              "      <td>-0.000915</td>\n",
              "      <td>0.009606</td>\n",
              "      <td>0.008046</td>\n",
              "      <td>0.005471</td>\n",
              "      <td>0.002844</td>\n",
              "      <td>0.001958</td>\n",
              "      <td>0.004424</td>\n",
              "      <td>0.004474</td>\n",
              "      <td>0.002868</td>\n",
              "      <td>0.006300</td>\n",
              "      <td>0.009391</td>\n",
              "      <td>0.020426</td>\n",
              "      <td>0.004608</td>\n",
              "      <td>0.001022</td>\n",
              "      <td>0.000518</td>\n",
              "      <td>0.002013</td>\n",
              "      <td>0.000406</td>\n",
              "      <td>-0.000487</td>\n",
              "      <td>-0.002809</td>\n",
              "      <td>-0.002852</td>\n",
              "      <td>-0.003066</td>\n",
              "      <td>-0.001786</td>\n",
              "      <td>-0.001992</td>\n",
              "      <td>-0.001894</td>\n",
              "      <td>-0.002572</td>\n",
              "      <td>-0.002310</td>\n",
              "      <td>-0.002162</td>\n",
              "      <td>-0.000223</td>\n",
              "      <td>-0.002549</td>\n",
              "      <td>0.000069</td>\n",
              "      <td>-0.001965</td>\n",
              "      <td>0.000693</td>\n",
              "      <td>0.001320</td>\n",
              "      <td>0.001487</td>\n",
              "      <td>0.001901</td>\n",
              "      <td>0.002203</td>\n",
              "      <td>0.002096</td>\n",
              "      <td>0.001953</td>\n",
              "      <td>0.000976</td>\n",
              "      <td>-0.000581</td>\n",
              "      <td>-0.002901</td>\n",
              "      <td>-0.003115</td>\n",
              "      <td>-0.003199</td>\n",
              "      <td>-0.006397</td>\n",
              "      <td>-0.025654</td>\n",
              "      <td>-0.029804</td>\n",
              "      <td>-0.029615</td>\n",
              "    </tr>\n",
              "    <tr>\n",
              "      <th>77</th>\n",
              "      <td>-0.003805</td>\n",
              "      <td>-0.003806</td>\n",
              "      <td>-0.004005</td>\n",
              "      <td>-0.002876</td>\n",
              "      <td>-0.000243</td>\n",
              "      <td>0.000639</td>\n",
              "      <td>0.000820</td>\n",
              "      <td>0.000919</td>\n",
              "      <td>0.000816</td>\n",
              "      <td>-0.001224</td>\n",
              "      <td>0.009632</td>\n",
              "      <td>0.004594</td>\n",
              "      <td>0.000779</td>\n",
              "      <td>0.000565</td>\n",
              "      <td>-0.000036</td>\n",
              "      <td>0.001476</td>\n",
              "      <td>0.004949</td>\n",
              "      <td>0.001471</td>\n",
              "      <td>0.000034</td>\n",
              "      <td>-0.000717</td>\n",
              "      <td>0.000369</td>\n",
              "      <td>0.001463</td>\n",
              "      <td>0.001629</td>\n",
              "      <td>0.001006</td>\n",
              "      <td>0.000781</td>\n",
              "      <td>0.008640</td>\n",
              "      <td>0.011780</td>\n",
              "      <td>-0.001491</td>\n",
              "      <td>-0.004677</td>\n",
              "      <td>-0.004697</td>\n",
              "      <td>0.000008</td>\n",
              "      <td>-0.000717</td>\n",
              "      <td>-0.001763</td>\n",
              "      <td>0.001219</td>\n",
              "      <td>0.001533</td>\n",
              "      <td>0.007406</td>\n",
              "      <td>0.010509</td>\n",
              "      <td>0.007919</td>\n",
              "      <td>0.008284</td>\n",
              "      <td>0.008833</td>\n",
              "      <td>0.006617</td>\n",
              "      <td>0.003722</td>\n",
              "      <td>0.000359</td>\n",
              "      <td>-0.001678</td>\n",
              "      <td>-0.001778</td>\n",
              "      <td>-0.000114</td>\n",
              "      <td>0.000139</td>\n",
              "      <td>-0.000176</td>\n",
              "      <td>0.013481</td>\n",
              "      <td>0.016493</td>\n",
              "      <td>0.013505</td>\n",
              "      <td>0.025712</td>\n",
              "      <td>0.075145</td>\n",
              "      <td>0.004262</td>\n",
              "      <td>-0.008082</td>\n",
              "      <td>0.033059</td>\n",
              "      <td>0.013100</td>\n",
              "      <td>-0.002467</td>\n",
              "      <td>-0.000165</td>\n",
              "      <td>-0.002722</td>\n",
              "      <td>-0.004072</td>\n",
              "      <td>-0.001851</td>\n",
              "      <td>-0.000906</td>\n",
              "      <td>-0.002127</td>\n",
              "      <td>-0.001955</td>\n",
              "      <td>0.000272</td>\n",
              "      <td>0.001452</td>\n",
              "      <td>0.001786</td>\n",
              "      <td>0.000927</td>\n",
              "      <td>0.002788</td>\n",
              "      <td>0.002468</td>\n",
              "      <td>-0.001566</td>\n",
              "      <td>-0.001324</td>\n",
              "      <td>0.000402</td>\n",
              "      <td>0.001523</td>\n",
              "      <td>0.002224</td>\n",
              "      <td>0.006207</td>\n",
              "      <td>0.003724</td>\n",
              "      <td>-0.029849</td>\n",
              "    </tr>\n",
              "    <tr>\n",
              "      <th>78</th>\n",
              "      <td>0.003652</td>\n",
              "      <td>0.001863</td>\n",
              "      <td>0.001388</td>\n",
              "      <td>-0.000306</td>\n",
              "      <td>0.007725</td>\n",
              "      <td>0.012109</td>\n",
              "      <td>0.002033</td>\n",
              "      <td>0.003292</td>\n",
              "      <td>0.003142</td>\n",
              "      <td>0.002419</td>\n",
              "      <td>0.007802</td>\n",
              "      <td>0.005456</td>\n",
              "      <td>0.002345</td>\n",
              "      <td>0.000844</td>\n",
              "      <td>0.000663</td>\n",
              "      <td>-0.001991</td>\n",
              "      <td>-0.003462</td>\n",
              "      <td>-0.002605</td>\n",
              "      <td>-0.001881</td>\n",
              "      <td>0.000374</td>\n",
              "      <td>0.001822</td>\n",
              "      <td>-0.003764</td>\n",
              "      <td>-0.003890</td>\n",
              "      <td>-0.003201</td>\n",
              "      <td>-0.000930</td>\n",
              "      <td>-0.002898</td>\n",
              "      <td>-0.003055</td>\n",
              "      <td>0.000440</td>\n",
              "      <td>0.000916</td>\n",
              "      <td>0.000415</td>\n",
              "      <td>0.001237</td>\n",
              "      <td>0.000465</td>\n",
              "      <td>0.000075</td>\n",
              "      <td>-0.000510</td>\n",
              "      <td>0.000479</td>\n",
              "      <td>0.001684</td>\n",
              "      <td>0.002953</td>\n",
              "      <td>0.005835</td>\n",
              "      <td>0.006316</td>\n",
              "      <td>0.005863</td>\n",
              "      <td>0.005947</td>\n",
              "      <td>0.007836</td>\n",
              "      <td>0.002104</td>\n",
              "      <td>0.001848</td>\n",
              "      <td>0.000553</td>\n",
              "      <td>-0.000180</td>\n",
              "      <td>0.000468</td>\n",
              "      <td>0.000885</td>\n",
              "      <td>0.000850</td>\n",
              "      <td>0.000891</td>\n",
              "      <td>0.001352</td>\n",
              "      <td>0.000850</td>\n",
              "      <td>-0.000282</td>\n",
              "      <td>-0.000690</td>\n",
              "      <td>0.004347</td>\n",
              "      <td>0.010699</td>\n",
              "      <td>0.002225</td>\n",
              "      <td>-0.000351</td>\n",
              "      <td>-0.000469</td>\n",
              "      <td>-0.002488</td>\n",
              "      <td>-0.002567</td>\n",
              "      <td>-0.002290</td>\n",
              "      <td>-0.000042</td>\n",
              "      <td>0.001298</td>\n",
              "      <td>-0.000750</td>\n",
              "      <td>-0.002610</td>\n",
              "      <td>0.001509</td>\n",
              "      <td>0.003160</td>\n",
              "      <td>0.010726</td>\n",
              "      <td>0.009440</td>\n",
              "      <td>0.008131</td>\n",
              "      <td>0.008492</td>\n",
              "      <td>0.001171</td>\n",
              "      <td>-0.000104</td>\n",
              "      <td>0.000869</td>\n",
              "      <td>0.001140</td>\n",
              "      <td>0.001510</td>\n",
              "      <td>0.001740</td>\n",
              "      <td>0.001896</td>\n",
              "    </tr>\n",
              "    <tr>\n",
              "      <th>79</th>\n",
              "      <td>-0.000864</td>\n",
              "      <td>0.000189</td>\n",
              "      <td>0.010040</td>\n",
              "      <td>0.022337</td>\n",
              "      <td>0.016003</td>\n",
              "      <td>0.011520</td>\n",
              "      <td>0.013848</td>\n",
              "      <td>0.011717</td>\n",
              "      <td>0.000183</td>\n",
              "      <td>0.000584</td>\n",
              "      <td>0.002064</td>\n",
              "      <td>0.002013</td>\n",
              "      <td>0.002591</td>\n",
              "      <td>0.001671</td>\n",
              "      <td>0.000702</td>\n",
              "      <td>0.001717</td>\n",
              "      <td>0.001715</td>\n",
              "      <td>0.001509</td>\n",
              "      <td>0.001605</td>\n",
              "      <td>0.001723</td>\n",
              "      <td>0.000181</td>\n",
              "      <td>-0.002570</td>\n",
              "      <td>-0.002776</td>\n",
              "      <td>-0.002273</td>\n",
              "      <td>-0.002997</td>\n",
              "      <td>-0.000901</td>\n",
              "      <td>0.000560</td>\n",
              "      <td>-0.002024</td>\n",
              "      <td>-0.001596</td>\n",
              "      <td>-0.001636</td>\n",
              "      <td>0.000344</td>\n",
              "      <td>0.001677</td>\n",
              "      <td>0.001916</td>\n",
              "      <td>0.010004</td>\n",
              "      <td>0.003109</td>\n",
              "      <td>0.001480</td>\n",
              "      <td>0.001431</td>\n",
              "      <td>0.001655</td>\n",
              "      <td>0.001764</td>\n",
              "      <td>0.001195</td>\n",
              "      <td>0.001808</td>\n",
              "      <td>0.002800</td>\n",
              "      <td>0.002502</td>\n",
              "      <td>0.001384</td>\n",
              "      <td>-0.000745</td>\n",
              "      <td>-0.002676</td>\n",
              "      <td>-0.002963</td>\n",
              "      <td>-0.002357</td>\n",
              "      <td>-0.002336</td>\n",
              "      <td>-0.003449</td>\n",
              "      <td>0.008058</td>\n",
              "      <td>0.028602</td>\n",
              "      <td>0.028418</td>\n",
              "      <td>0.004246</td>\n",
              "      <td>0.000910</td>\n",
              "      <td>0.000939</td>\n",
              "      <td>0.000181</td>\n",
              "      <td>0.000783</td>\n",
              "      <td>0.001346</td>\n",
              "      <td>0.001141</td>\n",
              "      <td>0.000381</td>\n",
              "      <td>-0.003265</td>\n",
              "      <td>-0.002420</td>\n",
              "      <td>0.001323</td>\n",
              "      <td>0.001076</td>\n",
              "      <td>0.000802</td>\n",
              "      <td>0.000470</td>\n",
              "      <td>0.000858</td>\n",
              "      <td>0.002718</td>\n",
              "      <td>0.003643</td>\n",
              "      <td>0.003741</td>\n",
              "      <td>0.002241</td>\n",
              "      <td>0.001717</td>\n",
              "      <td>0.002079</td>\n",
              "      <td>0.002323</td>\n",
              "      <td>0.002201</td>\n",
              "      <td>0.002085</td>\n",
              "      <td>0.001813</td>\n",
              "      <td>0.001837</td>\n",
              "    </tr>\n",
              "  </tbody>\n",
              "</table>\n",
              "<p>80 rows × 79 columns</p>\n",
              "</div>"
            ],
            "text/plain": [
              "         0         1         2    ...       107       108       109\n",
              "0   0.000199 -0.000783  0.002232  ... -0.014649 -0.026646 -0.026996\n",
              "1  -0.002519 -0.002807 -0.003137  ... -0.017235 -0.024429 -0.028575\n",
              "2  -0.002899 -0.003302 -0.001422  ...  0.001486  0.002468  0.002420\n",
              "3  -0.002989 -0.003267 -0.003864  ...  0.001517  0.001472  0.003985\n",
              "4   0.001758  0.000764  0.001233  ...  0.001102  0.000333 -0.001853\n",
              "..       ...       ...       ...  ...       ...       ...       ...\n",
              "75 -0.003564 -0.003557 -0.003576  ...  0.004594  0.005576  0.002442\n",
              "76 -0.026895 -0.027507 -0.022558  ... -0.025654 -0.029804 -0.029615\n",
              "77 -0.003805 -0.003806 -0.004005  ...  0.006207  0.003724 -0.029849\n",
              "78  0.003652  0.001863  0.001388  ...  0.001510  0.001740  0.001896\n",
              "79 -0.000864  0.000189  0.010040  ...  0.002085  0.001813  0.001837\n",
              "\n",
              "[80 rows x 79 columns]"
            ]
          },
          "metadata": {
            "tags": []
          },
          "execution_count": 61
        }
      ]
    },
    {
      "cell_type": "code",
      "metadata": {
        "colab": {
          "base_uri": "https://localhost:8080/"
        },
        "id": "t2R1gw9tbE7P",
        "outputId": "a61a7c4d-87c6-4678-aca1-8ccf71a7dde4"
      },
      "source": [
        "x0[0][:,0].shape, y0[0][:,0].shape"
      ],
      "execution_count": 63,
      "outputs": [
        {
          "output_type": "execute_result",
          "data": {
            "text/plain": [
              "((110,), (110,))"
            ]
          },
          "metadata": {
            "tags": []
          },
          "execution_count": 63
        }
      ]
    },
    {
      "cell_type": "code",
      "metadata": {
        "colab": {
          "base_uri": "https://localhost:8080/",
          "height": 282
        },
        "id": "Em6qnemAaE0g",
        "outputId": "ad1c3d61-5236-4d4f-a5a7-e9f20149f702"
      },
      "source": [
        "plt.plot(x0[0][:,0]+ y0[0][:,0])"
      ],
      "execution_count": 64,
      "outputs": [
        {
          "output_type": "execute_result",
          "data": {
            "text/plain": [
              "[<matplotlib.lines.Line2D at 0x7f67a08ebb10>]"
            ]
          },
          "metadata": {
            "tags": []
          },
          "execution_count": 64
        },
        {
          "output_type": "display_data",
          "data": {
            "image/png": "[encoded data removed]",
            "text/plain": [
              "<Figure size 432x288 with 1 Axes>"
            ]
          },
          "metadata": {
            "tags": [],
            "needs_background": "light"
          }
        }
      ]
    },
    {
      "cell_type": "code",
      "metadata": {
        "colab": {
          "base_uri": "https://localhost:8080/",
          "height": 282
        },
        "id": "FeEN9mcdakF9",
        "outputId": "b6adf7ab-6cda-439c-f25a-354a19efb657"
      },
      "source": [
        "plt.plot(y_train_grouped_uncorr[2])"
      ],
      "execution_count": 65,
      "outputs": [
        {
          "output_type": "execute_result",
          "data": {
            "text/plain": [
              "[<matplotlib.lines.Line2D at 0x7f67a07d3350>]"
            ]
          },
          "metadata": {
            "tags": []
          },
          "execution_count": 65
        },
        {
          "output_type": "display_data",
          "data": {
            "image/png": "[encoded data removed]",
            "text/plain": [
              "<Figure size 432x288 with 1 Axes>"
            ]
          },
          "metadata": {
            "tags": [],
            "needs_background": "light"
          }
        }
      ]
    },
    {
      "cell_type": "code",
      "metadata": {
        "colab": {
          "base_uri": "https://localhost:8080/"
        },
        "id": "2wYYyGlNKcXY",
        "outputId": "0be21d1c-b81f-4fa1-9c20-2d4c79fbec8e"
      },
      "source": [
        "len(droped_col)"
      ],
      "execution_count": 71,
      "outputs": [
        {
          "output_type": "execute_result",
          "data": {
            "text/plain": [
              "22"
            ]
          },
          "metadata": {
            "tags": []
          },
          "execution_count": 71
        }
      ]
    },
    {
      "cell_type": "code",
      "metadata": {
        "id": "Nq8IxmqO2GA4"
      },
      "source": [
        "droped_col_rf_score = list()\n",
        "for i in droped_col:\n",
        "    rf = RandomForestRegressor(n_estimators=40, random_state=0)\n",
        "    rf.fit(y_train_grouped_uncorr[[i-1,i+1]] + y0[0][:,i:i+1], pd.DataFrame(y0[0])[i])      # + y0[0][:,3:4]   + y0[0][:,4:5]\n",
        "    s = rf.score(y_test_grouped_uncorr[[i-1,i+1]] + y_test0[0][:,i:i+1], pd.DataFrame(y_test0[0])[i])    #  + y_test0[0][:,4:5]\n",
        "    droped_col_rf_score.append(s)"
      ],
      "execution_count": 66,
      "outputs": []
    },
    {
      "cell_type": "code",
      "metadata": {
        "id": "04zjwXHY2GC4"
      },
      "source": [
        "droped_col_knn_score = list()\n",
        "for i in droped_col:\n",
        "    knn = KNeighborsRegressor(n_neighbors=2)\n",
        "    knn.fit(y_train_grouped_uncorr[[i-1,i+1]] + y0[0][:,i:i+1], pd.DataFrame(y0[0])[i])      # + y0[0][:,3:4]   + y0[0][:,4:5]\n",
        "    s = knn.score(y_test_grouped_uncorr[[i-1,i+1]] + y_test0[0][:,i:i+1], pd.DataFrame(y_test0[0])[i])    #  + y_test0[0][:,4:5]\n",
        "    droped_col_knn_score.append(s)"
      ],
      "execution_count": 67,
      "outputs": []
    },
    {
      "cell_type": "code",
      "metadata": {
        "id": "SAgUVga9Bz6J"
      },
      "source": [
        "droped_col_knn_score_2 = list()\n",
        "for i in droped_col:\n",
        "    knn = KNeighborsRegressor(n_neighbors=4)\n",
        "    try:\n",
        "        knn.fit(y_train_grouped_uncorr[[i-2,i-1,i+1,i+2]] + y0[0][:,i:i+1], pd.DataFrame(y0[0])[i])      # + y0[0][:,3:4]   + y0[0][:,4:5]\n",
        "        s = knn.score(y_test_2_grouped_uncorr[[i-2,i-1,i+1,i+2]] + y_test0[0][:,i:i+1], pd.DataFrame(y_test0[0])[i])    #  + y_test0[0][:,4:5]\n",
        "    except:\n",
        "        knn.fit(y_train_grouped_uncorr[[i-1,i+1]] + y0[0][:,i:i+1], pd.DataFrame(y0[0])[i])      # + y0[0][:,3:4]   + y0[0][:,4:5]\n",
        "        s = knn.score(y_test_grouped_uncorr[[i-1,i+1]] + y_test0[0][:,i:i+1], pd.DataFrame(y_test0[0])[i])    #  + y_test0[0][:,4:5]\n",
        "    droped_col_knn_score_2.append(s)"
      ],
      "execution_count": 68,
      "outputs": []
    },
    {
      "cell_type": "code",
      "metadata": {
        "colab": {
          "base_uri": "https://localhost:8080/",
          "height": 514
        },
        "id": "R4zAi5DN2GFe",
        "outputId": "843fba45-6b23-469c-d60c-e4ca2dabdc7c"
      },
      "source": [
        "plt.figure(figsize=(20,8))\n",
        "plt.plot(droped_col, droped_col_rf_score, color = 'red', label = 'randomforest')\n",
        "plt.plot(droped_col, droped_col_knn_score, color = 'green', label = 'KNN')\n",
        "plt.plot(droped_col, droped_col_knn_score_2, color = 'blue', label = 'KNN 2')\n",
        "plt.legend()\n",
        "plt.grid()\n",
        "plt.xlabel('droped col no.')\n",
        "plt.ylabel('score')"
      ],
      "execution_count": 69,
      "outputs": [
        {
          "output_type": "execute_result",
          "data": {
            "text/plain": [
              "Text(0, 0.5, 'score')"
            ]
          },
          "metadata": {
            "tags": []
          },
          "execution_count": 69
        },
        {
          "output_type": "display_data",
          "data": {
            "image/png": "[encoded data removed]",
            "text/plain": [
              "<Figure size 1440x576 with 1 Axes>"
            ]
          },
          "metadata": {
            "tags": [],
            "needs_background": "light"
          }
        }
      ]
    },
    {
      "cell_type": "code",
      "metadata": {
        "id": "wFwE6cUD2GHl"
      },
      "source": [
        "rf_score = list()\n",
        "rf_score_mean = list()\n",
        "knn_score = list()\n",
        "knn_score_mean = list()\n",
        "for i in droped_col:\n",
        "    knn = KNeighborsRegressor(n_neighbors=2)\n",
        "    rf = RandomForestRegressor(n_estimators=30)\n",
        "    rf_val_score = cross_val_score(rf, y_train_grouped_uncorr[[i-1,i+1]] + y0[0][:,i:i+1], pd.DataFrame(y0[0])[i])\n",
        "    #rf_val_score = [int(i[:6]) for i in rf_val_score]\n",
        "    rf_score.append(list(rf_val_score)*100)\n",
        "    rf_score_mean.append(rf_val_score.mean()*100)\n",
        "    knn_val_score = cross_val_score(knn, y_train_grouped_uncorr[[i-1,i+1]] + y0[0][:,i:i+1], pd.DataFrame(y0[0])[i])\n",
        "    l = []\n",
        "    for i in knn_val_score:\n",
        "        try:\n",
        "            l.append(int(str(i)[:6]))\n",
        "        except:\n",
        "            l.append(i)\n",
        "    #[try int(str(i)[:6]) except list(i)*100 for i in knn_val_score]\n",
        "    knn_score.append(l*100)\n",
        "    knn_score_mean.append(np.array(l).mean()*100)"
      ],
      "execution_count": 70,
      "outputs": []
    },
    {
      "cell_type": "code",
      "metadata": {
        "id": "wFZUSm6v2GJ5"
      },
      "source": [
        "d = dict()\n",
        "d['RandomForest_score'] = rf_score\n",
        "d['RandomForest_mean_score'] = rf_score_mean\n",
        "d['rf'] = np.array(droped_col_rf_score)*100\n",
        "d['KNN_score'] = knn_score\n",
        "d['KNN_score_mean'] = knn_score_mean\n",
        "d['knn'] = np.array(droped_col_knn_score)*100\n",
        "df_score = pd.DataFrame(d)"
      ],
      "execution_count": 72,
      "outputs": []
    },
    {
      "cell_type": "code",
      "metadata": {
        "colab": {
          "base_uri": "https://localhost:8080/",
          "height": 698
        },
        "id": "q5AHILHm2GMA",
        "outputId": "5852b1d7-b4ae-4aa9-e75d-82aa2a399552"
      },
      "source": [
        "df_score"
      ],
      "execution_count": 73,
      "outputs": [
        {
          "output_type": "execute_result",
          "data": {
            "text/html": [
              "<div>\n",
              "<style scoped>\n",
              "    .dataframe tbody tr th:only-of-type {\n",
              "        vertical-align: middle;\n",
              "    }\n",
              "\n",
              "    .dataframe tbody tr th {\n",
              "        vertical-align: top;\n",
              "    }\n",
              "\n",
              "    .dataframe thead th {\n",
              "        text-align: right;\n",
              "    }\n",
              "</style>\n",
              "<table border=\"1\" class=\"dataframe\">\n",
              "  <thead>\n",
              "    <tr style=\"text-align: right;\">\n",
              "      <th></th>\n",
              "      <th>RandomForest_score</th>\n",
              "      <th>RandomForest_mean_score</th>\n",
              "      <th>rf</th>\n",
              "      <th>KNN_score</th>\n",
              "      <th>KNN_score_mean</th>\n",
              "      <th>knn</th>\n",
              "    </tr>\n",
              "  </thead>\n",
              "  <tbody>\n",
              "    <tr>\n",
              "      <th>0</th>\n",
              "      <td>[-3.0, 0.9997207451342807, 0.6677343541557756,...</td>\n",
              "      <td>-66.663692</td>\n",
              "      <td>97.942613</td>\n",
              "      <td>[1.0, 0.9923485353480956, 0.5449277111268636, ...</td>\n",
              "      <td>90.598737</td>\n",
              "      <td>80.032223</td>\n",
              "    </tr>\n",
              "    <tr>\n",
              "      <th>1</th>\n",
              "      <td>[0.9994183821199648, 0.9881913419231543, 0.661...</td>\n",
              "      <td>92.691943</td>\n",
              "      <td>93.109318</td>\n",
              "      <td>[0.99034379721131, 0.996667829761202, 0.545209...</td>\n",
              "      <td>90.049872</td>\n",
              "      <td>98.089397</td>\n",
              "    </tr>\n",
              "    <tr>\n",
              "      <th>2</th>\n",
              "      <td>[0.9991476268915319, 0.9514711932807018, 0.610...</td>\n",
              "      <td>85.222527</td>\n",
              "      <td>99.305098</td>\n",
              "      <td>[0.9964548552439783, 0.9778720259117878, 0.407...</td>\n",
              "      <td>75.747993</td>\n",
              "      <td>89.228534</td>\n",
              "    </tr>\n",
              "    <tr>\n",
              "      <th>3</th>\n",
              "      <td>[0.99581325718748, 0.9396851279868151, 0.58761...</td>\n",
              "      <td>88.842100</td>\n",
              "      <td>99.752608</td>\n",
              "      <td>[0.9949324651940691, 0.8920660828459364, 0.450...</td>\n",
              "      <td>85.483113</td>\n",
              "      <td>97.966624</td>\n",
              "    </tr>\n",
              "    <tr>\n",
              "      <th>4</th>\n",
              "      <td>[0.9978724007173525, 0.8706124635353147, 0.764...</td>\n",
              "      <td>80.894055</td>\n",
              "      <td>97.876421</td>\n",
              "      <td>[0.9940260976088586, 0.8746914859799777, 0.685...</td>\n",
              "      <td>79.757262</td>\n",
              "      <td>97.140303</td>\n",
              "    </tr>\n",
              "    <tr>\n",
              "      <th>5</th>\n",
              "      <td>[0.9958525264926653, 0.9609605643127312, 0.426...</td>\n",
              "      <td>81.873124</td>\n",
              "      <td>98.485221</td>\n",
              "      <td>[0.9955120276473934, 0.9764893115085098, 0.373...</td>\n",
              "      <td>81.070476</td>\n",
              "      <td>92.572191</td>\n",
              "    </tr>\n",
              "    <tr>\n",
              "      <th>6</th>\n",
              "      <td>[0.9983705616556794, 0.9747905411601459, 0.725...</td>\n",
              "      <td>93.440084</td>\n",
              "      <td>98.794162</td>\n",
              "      <td>[0.9962862398413832, 0.9826324926400861, 0.772...</td>\n",
              "      <td>94.401709</td>\n",
              "      <td>92.797484</td>\n",
              "    </tr>\n",
              "    <tr>\n",
              "      <th>7</th>\n",
              "      <td>[0.9949559177584034, 0.9871954659929244, 0.525...</td>\n",
              "      <td>89.332377</td>\n",
              "      <td>97.088805</td>\n",
              "      <td>[0.9949208918270877, 0.986135387767233, 0.4462...</td>\n",
              "      <td>87.976001</td>\n",
              "      <td>96.074792</td>\n",
              "    </tr>\n",
              "    <tr>\n",
              "      <th>8</th>\n",
              "      <td>[0.9796207881533847, 0.9866526602189679, 0.854...</td>\n",
              "      <td>89.370560</td>\n",
              "      <td>97.728410</td>\n",
              "      <td>[0.9720566387523621, 0.9883929430359757, 0.871...</td>\n",
              "      <td>88.699523</td>\n",
              "      <td>97.311804</td>\n",
              "    </tr>\n",
              "    <tr>\n",
              "      <th>9</th>\n",
              "      <td>[0.9700479286714864, 0.9082332626605647, 0.933...</td>\n",
              "      <td>94.809585</td>\n",
              "      <td>99.389461</td>\n",
              "      <td>[0.934272985720525, 0.9024851791139644, 0.9386...</td>\n",
              "      <td>93.293985</td>\n",
              "      <td>98.168003</td>\n",
              "    </tr>\n",
              "    <tr>\n",
              "      <th>10</th>\n",
              "      <td>[0.9938328395355354, 0.9792402622727415, 0.562...</td>\n",
              "      <td>89.500678</td>\n",
              "      <td>99.347988</td>\n",
              "      <td>[0.9904397555213736, 0.9594505631430976, 0.694...</td>\n",
              "      <td>91.557379</td>\n",
              "      <td>99.397010</td>\n",
              "    </tr>\n",
              "    <tr>\n",
              "      <th>11</th>\n",
              "      <td>[0.992361385736438, 0.9164884682636276, 0.8764...</td>\n",
              "      <td>89.437638</td>\n",
              "      <td>98.638134</td>\n",
              "      <td>[0.9946134543095422, 0.9657025542766519, 0.760...</td>\n",
              "      <td>92.009220</td>\n",
              "      <td>98.444878</td>\n",
              "    </tr>\n",
              "    <tr>\n",
              "      <th>12</th>\n",
              "      <td>[0.9920674403798279, 0.9398225499599016, 0.984...</td>\n",
              "      <td>79.306682</td>\n",
              "      <td>99.773285</td>\n",
              "      <td>[0.9899560713648352, 0.8854087289434815, 0.977...</td>\n",
              "      <td>77.307172</td>\n",
              "      <td>99.756573</td>\n",
              "    </tr>\n",
              "    <tr>\n",
              "      <th>13</th>\n",
              "      <td>[0.9885081996036489, 0.9655709595107738, 0.956...</td>\n",
              "      <td>77.119481</td>\n",
              "      <td>99.086354</td>\n",
              "      <td>[0.9770524157336548, 0.9846612444075438, 0.913...</td>\n",
              "      <td>76.119280</td>\n",
              "      <td>98.687046</td>\n",
              "    </tr>\n",
              "    <tr>\n",
              "      <th>14</th>\n",
              "      <td>[0.9934575504633236, 0.9483721831723506, 0.621...</td>\n",
              "      <td>88.014278</td>\n",
              "      <td>99.136147</td>\n",
              "      <td>[0.9803064498511526, 0.8720997865877871, 0.622...</td>\n",
              "      <td>86.411962</td>\n",
              "      <td>98.759962</td>\n",
              "    </tr>\n",
              "    <tr>\n",
              "      <th>15</th>\n",
              "      <td>[0.9992210449213169, 0.9741747839720447, 0.933...</td>\n",
              "      <td>96.628281</td>\n",
              "      <td>97.312881</td>\n",
              "      <td>[0.9938105751635081, 0.970150270591, 0.8722858...</td>\n",
              "      <td>95.939140</td>\n",
              "      <td>95.599740</td>\n",
              "    </tr>\n",
              "    <tr>\n",
              "      <th>16</th>\n",
              "      <td>[0.9976608447833458, 0.9105347619446992, 0.567...</td>\n",
              "      <td>87.977883</td>\n",
              "      <td>97.950884</td>\n",
              "      <td>[0.9868800755610174, 0.9245482071484931, 0.606...</td>\n",
              "      <td>88.506871</td>\n",
              "      <td>90.781343</td>\n",
              "    </tr>\n",
              "    <tr>\n",
              "      <th>17</th>\n",
              "      <td>[0.9933086593479126, 0.6397855342749044, 0.731...</td>\n",
              "      <td>81.176327</td>\n",
              "      <td>99.223928</td>\n",
              "      <td>[0.9925195671057052, 0.8257985144756064, 0.529...</td>\n",
              "      <td>74.169546</td>\n",
              "      <td>96.018722</td>\n",
              "    </tr>\n",
              "    <tr>\n",
              "      <th>18</th>\n",
              "      <td>[0.9978099684509116, 0.9728481965907639, 0.951...</td>\n",
              "      <td>96.900055</td>\n",
              "      <td>98.909276</td>\n",
              "      <td>[0.9960977339411824, 0.9099028422529246, 0.990...</td>\n",
              "      <td>96.050658</td>\n",
              "      <td>92.008236</td>\n",
              "    </tr>\n",
              "    <tr>\n",
              "      <th>19</th>\n",
              "      <td>[0.9977798085186966, 0.9959839930087357, 0.328...</td>\n",
              "      <td>85.590929</td>\n",
              "      <td>99.031001</td>\n",
              "      <td>[0.9963536101241731, 0.991814125263577, 0.8423...</td>\n",
              "      <td>95.669732</td>\n",
              "      <td>85.987574</td>\n",
              "    </tr>\n",
              "    <tr>\n",
              "      <th>20</th>\n",
              "      <td>[0.9999108200086168, 0.9693331653846791, 0.368...</td>\n",
              "      <td>75.831106</td>\n",
              "      <td>98.975531</td>\n",
              "      <td>[0.9885154450742495, 0.9462296928961382, 0.713...</td>\n",
              "      <td>81.079234</td>\n",
              "      <td>96.640590</td>\n",
              "    </tr>\n",
              "    <tr>\n",
              "      <th>21</th>\n",
              "      <td>[-3.0, 0.9913271978951892, -0.0747371755039747...</td>\n",
              "      <td>-126.706999</td>\n",
              "      <td>98.000755</td>\n",
              "      <td>[1.0, 0.9810957290165259, 0.6242683362504342, ...</td>\n",
              "      <td>91.952395</td>\n",
              "      <td>86.851027</td>\n",
              "    </tr>\n",
              "  </tbody>\n",
              "</table>\n",
              "</div>"
            ],
            "text/plain": [
              "                                   RandomForest_score  ...        knn\n",
              "0   [-3.0, 0.9997207451342807, 0.6677343541557756,...  ...  80.032223\n",
              "1   [0.9994183821199648, 0.9881913419231543, 0.661...  ...  98.089397\n",
              "2   [0.9991476268915319, 0.9514711932807018, 0.610...  ...  89.228534\n",
              "3   [0.99581325718748, 0.9396851279868151, 0.58761...  ...  97.966624\n",
              "4   [0.9978724007173525, 0.8706124635353147, 0.764...  ...  97.140303\n",
              "5   [0.9958525264926653, 0.9609605643127312, 0.426...  ...  92.572191\n",
              "6   [0.9983705616556794, 0.9747905411601459, 0.725...  ...  92.797484\n",
              "7   [0.9949559177584034, 0.9871954659929244, 0.525...  ...  96.074792\n",
              "8   [0.9796207881533847, 0.9866526602189679, 0.854...  ...  97.311804\n",
              "9   [0.9700479286714864, 0.9082332626605647, 0.933...  ...  98.168003\n",
              "10  [0.9938328395355354, 0.9792402622727415, 0.562...  ...  99.397010\n",
              "11  [0.992361385736438, 0.9164884682636276, 0.8764...  ...  98.444878\n",
              "12  [0.9920674403798279, 0.9398225499599016, 0.984...  ...  99.756573\n",
              "13  [0.9885081996036489, 0.9655709595107738, 0.956...  ...  98.687046\n",
              "14  [0.9934575504633236, 0.9483721831723506, 0.621...  ...  98.759962\n",
              "15  [0.9992210449213169, 0.9741747839720447, 0.933...  ...  95.599740\n",
              "16  [0.9976608447833458, 0.9105347619446992, 0.567...  ...  90.781343\n",
              "17  [0.9933086593479126, 0.6397855342749044, 0.731...  ...  96.018722\n",
              "18  [0.9978099684509116, 0.9728481965907639, 0.951...  ...  92.008236\n",
              "19  [0.9977798085186966, 0.9959839930087357, 0.328...  ...  85.987574\n",
              "20  [0.9999108200086168, 0.9693331653846791, 0.368...  ...  96.640590\n",
              "21  [-3.0, 0.9913271978951892, -0.0747371755039747...  ...  86.851027\n",
              "\n",
              "[22 rows x 6 columns]"
            ]
          },
          "metadata": {
            "tags": []
          },
          "execution_count": 73
        }
      ]
    },
    {
      "cell_type": "code",
      "metadata": {
        "colab": {
          "base_uri": "https://localhost:8080/",
          "height": 514
        },
        "id": "qVLIHMWT2GQG",
        "outputId": "825d0d1e-512a-43e1-c3b8-499e7b6b1d45"
      },
      "source": [
        "plt.figure(figsize=(20,8))\n",
        "plt.plot(droped_col, df_score.RandomForest_mean_score, color = 'red', label = 'randomforest mean')\n",
        "plt.plot(droped_col, df_score.rf, color = 'orange', label = 'randomforest')\n",
        "plt.plot(droped_col, df_score.KNN_score_mean, color = 'green', label = 'KNN mean')\n",
        "plt.plot(droped_col, df_score.knn, color = 'blue', label = 'KNN')\n",
        "plt.legend()\n",
        "plt.grid()\n",
        "plt.xlabel('droped col no.')\n",
        "plt.ylabel('score')"
      ],
      "execution_count": 74,
      "outputs": [
        {
          "output_type": "execute_result",
          "data": {
            "text/plain": [
              "Text(0, 0.5, 'score')"
            ]
          },
          "metadata": {
            "tags": []
          },
          "execution_count": 74
        },
        {
          "output_type": "display_data",
          "data": {
            "image/png": "[encoded data removed]",
            "text/plain": [
              "<Figure size 1440x576 with 1 Axes>"
            ]
          },
          "metadata": {
            "tags": [],
            "needs_background": "light"
          }
        }
      ]
    },
    {
      "cell_type": "code",
      "metadata": {
        "colab": {
          "base_uri": "https://localhost:8080/"
        },
        "id": "P3a94tcL2GVS",
        "outputId": "b9f35582-ae4d-46af-afcf-b0efa1f9cb5c"
      },
      "source": [
        "print(len(df_score[df_score['KNN_score_mean'] < df_score['RandomForest_mean_score']]))"
      ],
      "execution_count": 75,
      "outputs": [
        {
          "output_type": "stream",
          "text": [
            "14\n"
          ],
          "name": "stdout"
        }
      ]
    },
    {
      "cell_type": "code",
      "metadata": {
        "colab": {
          "base_uri": "https://localhost:8080/"
        },
        "id": "9z7S5smC2GW4",
        "outputId": "9a813ec6-9779-4477-f817-c126658183f8"
      },
      "source": [
        "print(len(df_score[df_score['knn'] < df_score['rf']]))"
      ],
      "execution_count": 76,
      "outputs": [
        {
          "output_type": "stream",
          "text": [
            "20\n"
          ],
          "name": "stdout"
        }
      ]
    },
    {
      "cell_type": "code",
      "metadata": {
        "colab": {
          "base_uri": "https://localhost:8080/"
        },
        "id": "U42jgAy52Gam",
        "outputId": "cc7d45f3-357f-4262-a861-f9632473ba28"
      },
      "source": [
        "df_score['knn'].mean(), df_score['rf'].mean()"
      ],
      "execution_count": 77,
      "outputs": [
        {
          "output_type": "execute_result",
          "data": {
            "text/plain": [
              "(94.4688207285173, 98.40264905494624)"
            ]
          },
          "metadata": {
            "tags": []
          },
          "execution_count": 77
        }
      ]
    },
    {
      "cell_type": "code",
      "metadata": {
        "colab": {
          "base_uri": "https://localhost:8080/"
        },
        "id": "tfQFlkX92Gey",
        "outputId": "8e306f6e-6999-4ad4-8cc1-53b385bb878e"
      },
      "source": [
        "df_score['KNN_score_mean'].mean(), df_score['RandomForest_mean_score'].mean()"
      ],
      "execution_count": 78,
      "outputs": [
        {
          "output_type": "execute_result",
          "data": {
            "text/plain": [
              "(86.99323897111519, 70.48131828199867)"
            ]
          },
          "metadata": {
            "tags": []
          },
          "execution_count": 78
        }
      ]
    },
    {
      "cell_type": "code",
      "metadata": {
        "id": "oMadhYIu2Ggn"
      },
      "source": [
        "rf_score = list()\n",
        "rf_score_mean = list()\n",
        "knn_score = list()\n",
        "knn_score_mean = list()\n",
        "for i in droped_col:\n",
        "    knn = KNeighborsRegressor(n_neighbors=2)\n",
        "    rf = RandomForestRegressor(n_estimators=30)\n",
        "    rf.fit(y_train_grouped_uncorr[[i-1,i+1]], pd.DataFrame(y0[0])[i])\n",
        "    rf_score.append(rf.score(y_test_grouped_uncorr[[i-1,i+1]], pd.DataFrame(y_test0[0])[i])*100)\n",
        "    rf_val_score = cross_val_score(rf, y_train_grouped_uncorr[[i-1,i+1]], pd.DataFrame(y0[0])[i])\n",
        "    #rf_val_score = [int(i[:6]) for i in rf_val_score]\n",
        "    #rf_score.append(list(rf_val_score)*100)\n",
        "    rf_score_mean.append(rf_val_score.mean()*100)\n",
        "    knn.fit(y_train_grouped_uncorr[[i-1,i+1]], pd.DataFrame(y0[0])[i])\n",
        "    knn_score.append(knn.score(y_test_grouped_uncorr[[i-1,i+1]], pd.DataFrame(y_test0[0])[i])*100)\n",
        "    knn_val_score = cross_val_score(knn, y_train_grouped_uncorr[[i-1,i+1]], pd.DataFrame(y0[0])[i])\n",
        "    l = []\n",
        "    for i in knn_val_score:\n",
        "        try:\n",
        "            l.append(int(str(i)[:6]))\n",
        "        except:\n",
        "            l.append(i)\n",
        "    #[try int(str(i)[:6]) except list(i)*100 for i in knn_val_score]\n",
        "    #knn_score.append(l*100)\n",
        "    knn_score_mean.append(np.array(l).mean()*100)"
      ],
      "execution_count": 94,
      "outputs": []
    },
    {
      "cell_type": "code",
      "metadata": {
        "colab": {
          "base_uri": "https://localhost:8080/"
        },
        "id": "Y8Zo5UPnSFKV",
        "outputId": "ea0b97f1-3922-40f8-e3cd-e4bb24cb22bf"
      },
      "source": [
        "len(rf_score), len(rf_score_mean), len(knn_score), len(knn_score_mean)"
      ],
      "execution_count": 95,
      "outputs": [
        {
          "output_type": "execute_result",
          "data": {
            "text/plain": [
              "(22, 22, 22, 22)"
            ]
          },
          "metadata": {
            "tags": []
          },
          "execution_count": 95
        }
      ]
    },
    {
      "cell_type": "code",
      "metadata": {
        "colab": {
          "base_uri": "https://localhost:8080/",
          "height": 698
        },
        "id": "yrwXD_XC2Gkz",
        "outputId": "453490f5-03bf-4a4b-a069-d131e37dcc71"
      },
      "source": [
        "df_score = pd.DataFrame({'rf_score' : rf_score, 'rf_score_mean' : rf_score_mean, 'knn_score' : knn_score, 'knn_score_mean' : knn_score_mean})\n",
        "df_score"
      ],
      "execution_count": 96,
      "outputs": [
        {
          "output_type": "execute_result",
          "data": {
            "text/html": [
              "<div>\n",
              "<style scoped>\n",
              "    .dataframe tbody tr th:only-of-type {\n",
              "        vertical-align: middle;\n",
              "    }\n",
              "\n",
              "    .dataframe tbody tr th {\n",
              "        vertical-align: top;\n",
              "    }\n",
              "\n",
              "    .dataframe thead th {\n",
              "        text-align: right;\n",
              "    }\n",
              "</style>\n",
              "<table border=\"1\" class=\"dataframe\">\n",
              "  <thead>\n",
              "    <tr style=\"text-align: right;\">\n",
              "      <th></th>\n",
              "      <th>rf_score</th>\n",
              "      <th>rf_score_mean</th>\n",
              "      <th>knn_score</th>\n",
              "      <th>knn_score_mean</th>\n",
              "    </tr>\n",
              "  </thead>\n",
              "  <tbody>\n",
              "    <tr>\n",
              "      <th>0</th>\n",
              "      <td>97.639210</td>\n",
              "      <td>-129.095799</td>\n",
              "      <td>-47.753041</td>\n",
              "      <td>58.566111</td>\n",
              "    </tr>\n",
              "    <tr>\n",
              "      <th>1</th>\n",
              "      <td>98.400371</td>\n",
              "      <td>85.093098</td>\n",
              "      <td>49.376335</td>\n",
              "      <td>79.373619</td>\n",
              "    </tr>\n",
              "    <tr>\n",
              "      <th>2</th>\n",
              "      <td>98.159966</td>\n",
              "      <td>-61.639170</td>\n",
              "      <td>72.050235</td>\n",
              "      <td>-47.853275</td>\n",
              "    </tr>\n",
              "    <tr>\n",
              "      <th>3</th>\n",
              "      <td>95.806884</td>\n",
              "      <td>51.822382</td>\n",
              "      <td>77.869847</td>\n",
              "      <td>34.042547</td>\n",
              "    </tr>\n",
              "    <tr>\n",
              "      <th>4</th>\n",
              "      <td>97.423244</td>\n",
              "      <td>38.874835</td>\n",
              "      <td>95.730578</td>\n",
              "      <td>30.153673</td>\n",
              "    </tr>\n",
              "    <tr>\n",
              "      <th>5</th>\n",
              "      <td>97.028753</td>\n",
              "      <td>54.965066</td>\n",
              "      <td>85.979417</td>\n",
              "      <td>55.681122</td>\n",
              "    </tr>\n",
              "    <tr>\n",
              "      <th>6</th>\n",
              "      <td>97.451396</td>\n",
              "      <td>59.310777</td>\n",
              "      <td>91.198087</td>\n",
              "      <td>40.681058</td>\n",
              "    </tr>\n",
              "    <tr>\n",
              "      <th>7</th>\n",
              "      <td>98.696916</td>\n",
              "      <td>37.867133</td>\n",
              "      <td>95.450514</td>\n",
              "      <td>27.520076</td>\n",
              "    </tr>\n",
              "    <tr>\n",
              "      <th>8</th>\n",
              "      <td>98.524824</td>\n",
              "      <td>65.965440</td>\n",
              "      <td>98.200327</td>\n",
              "      <td>76.545897</td>\n",
              "    </tr>\n",
              "    <tr>\n",
              "      <th>9</th>\n",
              "      <td>99.443698</td>\n",
              "      <td>84.793778</td>\n",
              "      <td>99.211358</td>\n",
              "      <td>85.209985</td>\n",
              "    </tr>\n",
              "    <tr>\n",
              "      <th>10</th>\n",
              "      <td>98.400573</td>\n",
              "      <td>48.932189</td>\n",
              "      <td>98.758961</td>\n",
              "      <td>37.428384</td>\n",
              "    </tr>\n",
              "    <tr>\n",
              "      <th>11</th>\n",
              "      <td>96.477554</td>\n",
              "      <td>59.813535</td>\n",
              "      <td>95.999553</td>\n",
              "      <td>50.073015</td>\n",
              "    </tr>\n",
              "    <tr>\n",
              "      <th>12</th>\n",
              "      <td>99.381482</td>\n",
              "      <td>58.643408</td>\n",
              "      <td>99.281306</td>\n",
              "      <td>60.116366</td>\n",
              "    </tr>\n",
              "    <tr>\n",
              "      <th>13</th>\n",
              "      <td>97.790328</td>\n",
              "      <td>67.701070</td>\n",
              "      <td>96.471983</td>\n",
              "      <td>66.286657</td>\n",
              "    </tr>\n",
              "    <tr>\n",
              "      <th>14</th>\n",
              "      <td>97.826728</td>\n",
              "      <td>62.902311</td>\n",
              "      <td>98.397034</td>\n",
              "      <td>53.663210</td>\n",
              "    </tr>\n",
              "    <tr>\n",
              "      <th>15</th>\n",
              "      <td>96.231226</td>\n",
              "      <td>85.116231</td>\n",
              "      <td>93.425608</td>\n",
              "      <td>81.324464</td>\n",
              "    </tr>\n",
              "    <tr>\n",
              "      <th>16</th>\n",
              "      <td>96.688994</td>\n",
              "      <td>68.181870</td>\n",
              "      <td>80.979466</td>\n",
              "      <td>73.968281</td>\n",
              "    </tr>\n",
              "    <tr>\n",
              "      <th>17</th>\n",
              "      <td>96.370151</td>\n",
              "      <td>59.376766</td>\n",
              "      <td>97.325306</td>\n",
              "      <td>26.364022</td>\n",
              "    </tr>\n",
              "    <tr>\n",
              "      <th>18</th>\n",
              "      <td>97.955726</td>\n",
              "      <td>87.871589</td>\n",
              "      <td>93.468416</td>\n",
              "      <td>82.358106</td>\n",
              "    </tr>\n",
              "    <tr>\n",
              "      <th>19</th>\n",
              "      <td>97.314936</td>\n",
              "      <td>61.552903</td>\n",
              "      <td>84.232607</td>\n",
              "      <td>87.488610</td>\n",
              "    </tr>\n",
              "    <tr>\n",
              "      <th>20</th>\n",
              "      <td>89.216554</td>\n",
              "      <td>-2051.533709</td>\n",
              "      <td>51.408842</td>\n",
              "      <td>68.159278</td>\n",
              "    </tr>\n",
              "    <tr>\n",
              "      <th>21</th>\n",
              "      <td>39.679675</td>\n",
              "      <td>-133.654151</td>\n",
              "      <td>-84.303334</td>\n",
              "      <td>80.354958</td>\n",
              "    </tr>\n",
              "  </tbody>\n",
              "</table>\n",
              "</div>"
            ],
            "text/plain": [
              "     rf_score  rf_score_mean  knn_score  knn_score_mean\n",
              "0   97.639210    -129.095799 -47.753041       58.566111\n",
              "1   98.400371      85.093098  49.376335       79.373619\n",
              "2   98.159966     -61.639170  72.050235      -47.853275\n",
              "3   95.806884      51.822382  77.869847       34.042547\n",
              "4   97.423244      38.874835  95.730578       30.153673\n",
              "5   97.028753      54.965066  85.979417       55.681122\n",
              "6   97.451396      59.310777  91.198087       40.681058\n",
              "7   98.696916      37.867133  95.450514       27.520076\n",
              "8   98.524824      65.965440  98.200327       76.545897\n",
              "9   99.443698      84.793778  99.211358       85.209985\n",
              "10  98.400573      48.932189  98.758961       37.428384\n",
              "11  96.477554      59.813535  95.999553       50.073015\n",
              "12  99.381482      58.643408  99.281306       60.116366\n",
              "13  97.790328      67.701070  96.471983       66.286657\n",
              "14  97.826728      62.902311  98.397034       53.663210\n",
              "15  96.231226      85.116231  93.425608       81.324464\n",
              "16  96.688994      68.181870  80.979466       73.968281\n",
              "17  96.370151      59.376766  97.325306       26.364022\n",
              "18  97.955726      87.871589  93.468416       82.358106\n",
              "19  97.314936      61.552903  84.232607       87.488610\n",
              "20  89.216554   -2051.533709  51.408842       68.159278\n",
              "21  39.679675    -133.654151 -84.303334       80.354958"
            ]
          },
          "metadata": {
            "tags": []
          },
          "execution_count": 96
        }
      ]
    },
    {
      "cell_type": "code",
      "metadata": {
        "colab": {
          "base_uri": "https://localhost:8080/",
          "height": 514
        },
        "id": "cneyJYzUSAYd",
        "outputId": "162496db-38ae-4026-e8e4-b8bc837195c3"
      },
      "source": [
        "plt.figure(figsize=(20,8))\n",
        "plt.plot(droped_col, df_score.rf_score, color = 'red', label = 'randomforest')\n",
        "#plt.plot(droped_col, df_score.rf_score_mean, color = 'orange', label = 'randomforest mean')\n",
        "#plt.plot(droped_col, df_score.knn_score_mean, color = 'green', label = 'KNN mean')\n",
        "plt.plot(droped_col, df_score.knn_score, color = 'blue', label = 'KNN')\n",
        "plt.legend()\n",
        "plt.grid()\n",
        "plt.xlabel('droped col no.')\n",
        "plt.ylabel('score')"
      ],
      "execution_count": 97,
      "outputs": [
        {
          "output_type": "execute_result",
          "data": {
            "text/plain": [
              "Text(0, 0.5, 'score')"
            ]
          },
          "metadata": {
            "tags": []
          },
          "execution_count": 97
        },
        {
          "output_type": "display_data",
          "data": {
            "image/png": "[encoded data removed]",
            "text/plain": [
              "<Figure size 1440x576 with 1 Axes>"
            ]
          },
          "metadata": {
            "tags": [],
            "needs_background": "light"
          }
        }
      ]
    },
    {
      "cell_type": "code",
      "metadata": {
        "colab": {
          "base_uri": "https://localhost:8080/"
        },
        "id": "0pjhcevmTDTz",
        "outputId": "c611cb1f-04d9-47d1-e1ff-6bd7ddc8f3ca"
      },
      "source": [
        "np.mean(rf_score)"
      ],
      "execution_count": 101,
      "outputs": [
        {
          "output_type": "execute_result",
          "data": {
            "text/plain": [
              "94.63223586854348"
            ]
          },
          "metadata": {
            "tags": []
          },
          "execution_count": 101
        }
      ]
    },
    {
      "cell_type": "code",
      "metadata": {
        "id": "YUOFRRTbc0WP"
      },
      "source": [
        "def select_slices(y_0, ):\n",
        "    for i in range(0,110):\n"
      ],
      "execution_count": 106,
      "outputs": []
    },
    {
      "cell_type": "code",
      "metadata": {
        "id": "qJio5AdxpRuN"
      },
      "source": [
        ""
      ],
      "execution_count": null,
      "outputs": []
    },
    {
      "cell_type": "code",
      "metadata": {
        "id": "jgxYNJrwpRxY"
      },
      "source": [
        ""
      ],
      "execution_count": null,
      "outputs": []
    },
    {
      "cell_type": "code",
      "metadata": {
        "colab": {
          "base_uri": "https://localhost:8080/"
        },
        "id": "yK_6JwDqpR0j",
        "outputId": "ff6f0f97-5a76-44a5-cd1b-3ead6f056ee2"
      },
      "source": [
        "len(y_train_0)"
      ],
      "execution_count": 158,
      "outputs": [
        {
          "output_type": "execute_result",
          "data": {
            "text/plain": [
              "66"
            ]
          },
          "metadata": {
            "tags": []
          },
          "execution_count": 158
        }
      ]
    },
    {
      "cell_type": "code",
      "metadata": {
        "colab": {
          "base_uri": "https://localhost:8080/"
        },
        "id": "TulKQXfGpR3w",
        "outputId": "956c2cb9-3a71-4cd2-f7ce-5e3b63279ce8"
      },
      "source": [
        "y_train_0.shape"
      ],
      "execution_count": 157,
      "outputs": [
        {
          "output_type": "execute_result",
          "data": {
            "text/plain": [
              "(66, 110, 110, 110)"
            ]
          },
          "metadata": {
            "tags": []
          },
          "execution_count": 157
        }
      ]
    },
    {
      "cell_type": "code",
      "metadata": {
        "colab": {
          "base_uri": "https://localhost:8080/",
          "height": 292
        },
        "id": "hinHzdQmdafy",
        "outputId": "b4bc3729-7334-4f3c-82b2-0cae68ae5c4c"
      },
      "source": [
        "plt.matshow(y0[44], cmap = 'gray')"
      ],
      "execution_count": 124,
      "outputs": [
        {
          "output_type": "execute_result",
          "data": {
            "text/plain": [
              "<matplotlib.image.AxesImage at 0x7f679bb01510>"
            ]
          },
          "metadata": {
            "tags": []
          },
          "execution_count": 124
        },
        {
          "output_type": "display_data",
          "data": {
            "image/png": "[encoded data removed]",
            "text/plain": [
              "<Figure size 288x288 with 1 Axes>"
            ]
          },
          "metadata": {
            "tags": [],
            "needs_background": "light"
          }
        }
      ]
    },
    {
      "cell_type": "code",
      "metadata": {
        "colab": {
          "base_uri": "https://localhost:8080/"
        },
        "id": "PaXrPx2Adajo",
        "outputId": "4d8b7b88-b19e-470f-fa24-7aa98d6a20b1"
      },
      "source": [
        "y_train_0[:,:,:,1].shape                # 1 for 1st slice"
      ],
      "execution_count": 122,
      "outputs": [
        {
          "output_type": "execute_result",
          "data": {
            "text/plain": [
              "(66, 110, 110)"
            ]
          },
          "metadata": {
            "tags": []
          },
          "execution_count": 122
        }
      ]
    },
    {
      "cell_type": "code",
      "metadata": {
        "colab": {
          "base_uri": "https://localhost:8080/",
          "height": 285
        },
        "id": "jZNv3si7danN",
        "outputId": "46f3c542-7cb2-4ef9-fefa-4def81f00103"
      },
      "source": [
        "plt.imshow(y_train_0[:,:,:,109][1])"
      ],
      "execution_count": 131,
      "outputs": [
        {
          "output_type": "execute_result",
          "data": {
            "text/plain": [
              "<matplotlib.image.AxesImage at 0x7f679b90bb10>"
            ]
          },
          "metadata": {
            "tags": []
          },
          "execution_count": 131
        },
        {
          "output_type": "display_data",
          "data": {
            "image/png": "[encoded data removed]",
            "text/plain": [
              "<Figure size 432x288 with 1 Axes>"
            ]
          },
          "metadata": {
            "tags": [],
            "needs_background": "light"
          }
        }
      ]
    },
    {
      "cell_type": "code",
      "metadata": {
        "id": "pteWRTeyjL2w"
      },
      "source": [
        "temp_x = y_train_0[:,:,:,5:7] + 10\n",
        "temp_y = y_train_0[:,:,:,4] + 10"
      ],
      "execution_count": 151,
      "outputs": []
    },
    {
      "cell_type": "code",
      "metadata": {
        "colab": {
          "base_uri": "https://localhost:8080/"
        },
        "id": "2bCPBsM_jxvD",
        "outputId": "9f0802a6-b79d-42be-9d6f-e66909d82fb9"
      },
      "source": [
        "temp_x.shape, temp_y.shape"
      ],
      "execution_count": 152,
      "outputs": [
        {
          "output_type": "execute_result",
          "data": {
            "text/plain": [
              "((66, 110, 110, 2), (66, 110, 110))"
            ]
          },
          "metadata": {
            "tags": []
          },
          "execution_count": 152
        }
      ]
    },
    {
      "cell_type": "code",
      "metadata": {
        "colab": {
          "base_uri": "https://localhost:8080/"
        },
        "id": "XG_R5IekkQuk",
        "outputId": "3552a063-7ffc-44fc-e6c9-ea22b76f8e82"
      },
      "source": [
        "temp_x.max(), temp_y.min()"
      ],
      "execution_count": 144,
      "outputs": [
        {
          "output_type": "execute_result",
          "data": {
            "text/plain": [
              "(10.0922594639039, 9.907789730678264)"
            ]
          },
          "metadata": {
            "tags": []
          },
          "execution_count": 144
        }
      ]
    },
    {
      "cell_type": "code",
      "metadata": {
        "colab": {
          "base_uri": "https://localhost:8080/"
        },
        "id": "wS4hhptIhvfu",
        "outputId": "c93945e3-5ec9-4803-e1ba-def1fc36637b"
      },
      "source": [
        "model_1 = Sequential()\n",
        "model_1.add(Conv2D(filters=2, kernel_size=(3,3), padding=\"same\", activation='relu', input_shape = [110,110,2]))\n",
        "model_1.add(Conv2D(filters=2, kernel_size=(3,3), padding=\"same\", activation='relu'))\n",
        "#model_1.add(Conv2D(filters=4, kernel_size=(3,3), padding=\"same\", activation='relu'))\n",
        "#model_1.add(Conv2D(filters=2, kernel_size=(3,3), padding=\"same\", activation='relu'))\n",
        "model_1.add(Conv2D(filters=1, kernel_size=(3,3), padding=\"same\", activation='relu'))\n",
        "model_1.compile(loss = 'mean_squared_error', optimizer= 'adam', metrics = ['accuracy'])\n",
        "history = model_1.fit(temp_x, temp_y, batch_size=32, epochs = 20)"
      ],
      "execution_count": 153,
      "outputs": [
        {
          "output_type": "stream",
          "text": [
            "Epoch 1/20\n",
            "3/3 [==============================] - 1s 148ms/step - loss: 99.0981 - accuracy: 0.0000e+00\n",
            "Epoch 2/20\n",
            "3/3 [==============================] - 1s 142ms/step - loss: 99.0016 - accuracy: 0.0000e+00\n",
            "Epoch 3/20\n",
            "3/3 [==============================] - 1s 144ms/step - loss: 98.9131 - accuracy: 0.0000e+00\n",
            "Epoch 4/20\n",
            "3/3 [==============================] - 1s 144ms/step - loss: 98.8018 - accuracy: 0.0000e+00\n",
            "Epoch 5/20\n",
            "3/3 [==============================] - 1s 150ms/step - loss: 98.6921 - accuracy: 0.0000e+00\n",
            "Epoch 6/20\n",
            "3/3 [==============================] - 1s 141ms/step - loss: 98.5679 - accuracy: 0.0000e+00\n",
            "Epoch 7/20\n",
            "3/3 [==============================] - 1s 139ms/step - loss: 98.4362 - accuracy: 0.0000e+00\n",
            "Epoch 8/20\n",
            "3/3 [==============================] - 1s 142ms/step - loss: 98.2962 - accuracy: 0.0000e+00\n",
            "Epoch 9/20\n",
            "3/3 [==============================] - 1s 141ms/step - loss: 98.0896 - accuracy: 0.0000e+00\n",
            "Epoch 10/20\n",
            "3/3 [==============================] - 1s 149ms/step - loss: 96.8170 - accuracy: 0.0000e+00\n",
            "Epoch 11/20\n",
            "3/3 [==============================] - 1s 140ms/step - loss: 94.3815 - accuracy: 0.0000e+00\n",
            "Epoch 12/20\n",
            "3/3 [==============================] - 1s 145ms/step - loss: 90.9005 - accuracy: 0.0000e+00\n",
            "Epoch 13/20\n",
            "3/3 [==============================] - 1s 142ms/step - loss: 86.3194 - accuracy: 0.0000e+00\n",
            "Epoch 14/20\n",
            "3/3 [==============================] - 1s 146ms/step - loss: 80.5482 - accuracy: 0.0000e+00\n",
            "Epoch 15/20\n",
            "3/3 [==============================] - 1s 142ms/step - loss: 73.5382 - accuracy: 0.0000e+00\n",
            "Epoch 16/20\n",
            "3/3 [==============================] - 1s 142ms/step - loss: 65.3025 - accuracy: 0.0000e+00\n",
            "Epoch 17/20\n",
            "3/3 [==============================] - 1s 139ms/step - loss: 55.9623 - accuracy: 0.0000e+00\n",
            "Epoch 18/20\n",
            "3/3 [==============================] - 1s 145ms/step - loss: 45.2510 - accuracy: 0.0000e+00\n",
            "Epoch 19/20\n",
            "3/3 [==============================] - 1s 142ms/step - loss: 32.2378 - accuracy: 0.0000e+00\n",
            "Epoch 20/20\n",
            "3/3 [==============================] - 1s 145ms/step - loss: 19.2384 - accuracy: 0.0000e+00\n"
          ],
          "name": "stdout"
        }
      ]
    },
    {
      "cell_type": "code",
      "metadata": {
        "id": "tO76AjwgkPjo"
      },
      "source": [
        ""
      ],
      "execution_count": null,
      "outputs": []
    },
    {
      "cell_type": "code",
      "metadata": {
        "id": "4b5rse8NdaqZ"
      },
      "source": [
        "knn = KNeighborsRegressor(n_neighbors=2)\n",
        "knn.fit(y_train_0[:,:,:,4], y_train_0[:,:,:,5])\n",
        "knn.score(y_test_0[:,:,:,4], y_test_0[:,:,:,5])"
      ],
      "execution_count": null,
      "outputs": []
    },
    {
      "cell_type": "code",
      "metadata": {
        "id": "XE5uHYEddaul"
      },
      "source": [
        ""
      ],
      "execution_count": null,
      "outputs": []
    },
    {
      "cell_type": "code",
      "metadata": {
        "colab": {
          "base_uri": "https://localhost:8080/"
        },
        "id": "_CtDQTM4TYiZ",
        "outputId": "d6ebb783-a07c-468f-d8d2-8ab67f1c9ad0"
      },
      "source": [
        "vgg_16 = VGG16(input_shape=(110,65,3), include_top=False)\n",
        "vgg_16.summary()"
      ],
      "execution_count": 103,
      "outputs": [
        {
          "output_type": "stream",
          "text": [
            "Model: \"vgg16\"\n",
            "_________________________________________________________________\n",
            "Layer (type)                 Output Shape              Param #   \n",
            "=================================================================\n",
            "input_2 (InputLayer)         [(None, 110, 65, 3)]      0         \n",
            "_________________________________________________________________\n",
            "block1_conv1 (Conv2D)        (None, 110, 65, 64)       1792      \n",
            "_________________________________________________________________\n",
            "block1_conv2 (Conv2D)        (None, 110, 65, 64)       36928     \n",
            "_________________________________________________________________\n",
            "block1_pool (MaxPooling2D)   (None, 55, 32, 64)        0         \n",
            "_________________________________________________________________\n",
            "block2_conv1 (Conv2D)        (None, 55, 32, 128)       73856     \n",
            "_________________________________________________________________\n",
            "block2_conv2 (Conv2D)        (None, 55, 32, 128)       147584    \n",
            "_________________________________________________________________\n",
            "block2_pool (MaxPooling2D)   (None, 27, 16, 128)       0         \n",
            "_________________________________________________________________\n",
            "block3_conv1 (Conv2D)        (None, 27, 16, 256)       295168    \n",
            "_________________________________________________________________\n",
            "block3_conv2 (Conv2D)        (None, 27, 16, 256)       590080    \n",
            "_________________________________________________________________\n",
            "block3_conv3 (Conv2D)        (None, 27, 16, 256)       590080    \n",
            "_________________________________________________________________\n",
            "block3_pool (MaxPooling2D)   (None, 13, 8, 256)        0         \n",
            "_________________________________________________________________\n",
            "block4_conv1 (Conv2D)        (None, 13, 8, 512)        1180160   \n",
            "_________________________________________________________________\n",
            "block4_conv2 (Conv2D)        (None, 13, 8, 512)        2359808   \n",
            "_________________________________________________________________\n",
            "block4_conv3 (Conv2D)        (None, 13, 8, 512)        2359808   \n",
            "_________________________________________________________________\n",
            "block4_pool (MaxPooling2D)   (None, 6, 4, 512)         0         \n",
            "_________________________________________________________________\n",
            "block5_conv1 (Conv2D)        (None, 6, 4, 512)         2359808   \n",
            "_________________________________________________________________\n",
            "block5_conv2 (Conv2D)        (None, 6, 4, 512)         2359808   \n",
            "_________________________________________________________________\n",
            "block5_conv3 (Conv2D)        (None, 6, 4, 512)         2359808   \n",
            "_________________________________________________________________\n",
            "block5_pool (MaxPooling2D)   (None, 3, 2, 512)         0         \n",
            "=================================================================\n",
            "Total params: 14,714,688\n",
            "Trainable params: 14,714,688\n",
            "Non-trainable params: 0\n",
            "_________________________________________________________________\n"
          ],
          "name": "stdout"
        }
      ]
    },
    {
      "cell_type": "code",
      "metadata": {
        "colab": {
          "base_uri": "https://localhost:8080/"
        },
        "id": "h5vrb49qYAyY",
        "outputId": "d0f36e6a-90d0-4734-c4e5-1dbaf6f43e42"
      },
      "source": [
        "for layer in vgg_16.layers[:10]:\n",
        "    layer.trainable = False\n",
        "input = vgg.layers[:5]\n",
        "model = Sequential()\n",
        "model.add(Conv2D(filters=3, kernel_size=(3,3), padding=\"same\", activation='relu', input_shape = (110,110,3)))    #LeakyReLU(alpha=1)\n",
        "model.add(input[0])\n",
        "model.add(input[1])\n",
        "model.add(input[2])\n",
        "\n",
        "\n",
        "model.add(Conv2D(filters=110, kernel_size=(3,3), padding=\"same\", activation='relu'))\n",
        "model.add(Conv2D(filters=89, kernel_size=(3,3), padding=\"same\", activation='relu'))\n",
        "#model.add(x[3])\n",
        "#model.add(x[4])\n",
        "#model = Model()\n",
        "model.summary()"
      ],
      "execution_count": 105,
      "outputs": [
        {
          "output_type": "stream",
          "text": [
            "Model: \"sequential_1\"\n",
            "_________________________________________________________________\n",
            "Layer (type)                 Output Shape              Param #   \n",
            "=================================================================\n",
            "conv2d_3 (Conv2D)            (None, 110, 110, 3)       84        \n",
            "_________________________________________________________________\n",
            "input_1 (InputLayer)         multiple                  0         \n",
            "_________________________________________________________________\n",
            "block1_conv1 (Conv2D)        multiple                  1792      \n",
            "_________________________________________________________________\n",
            "block1_conv2 (Conv2D)        multiple                  36928     \n",
            "_________________________________________________________________\n",
            "conv2d_4 (Conv2D)            (None, 110, 110, 110)     63470     \n",
            "_________________________________________________________________\n",
            "conv2d_5 (Conv2D)            (None, 110, 110, 89)      88199     \n",
            "=================================================================\n",
            "Total params: 190,473\n",
            "Trainable params: 190,473\n",
            "Non-trainable params: 0\n",
            "_________________________________________________________________\n"
          ],
          "name": "stdout"
        }
      ]
    },
    {
      "cell_type": "code",
      "metadata": {
        "id": "aXW39obGYA2t"
      },
      "source": [
        "model.compile(loss = 'mean_squared_error', optimizer= 'adam', metrics = ['accuracy']) \n",
        "history = model.fit(x, y, batch_size=32, epochs = 20)"
      ],
      "execution_count": null,
      "outputs": []
    },
    {
      "cell_type": "code",
      "metadata": {
        "id": "B28viLMVYA6F"
      },
      "source": [
        ""
      ],
      "execution_count": null,
      "outputs": []
    },
    {
      "cell_type": "code",
      "metadata": {
        "id": "xKw7MCC6YA8z"
      },
      "source": [
        ""
      ],
      "execution_count": null,
      "outputs": []
    },
    {
      "cell_type": "code",
      "metadata": {
        "id": "4s71szONYBAq"
      },
      "source": [
        ""
      ],
      "execution_count": null,
      "outputs": []
    },
    {
      "cell_type": "code",
      "metadata": {
        "id": "RyGNp0scYBD0"
      },
      "source": [
        ""
      ],
      "execution_count": null,
      "outputs": []
    }
  ]
}