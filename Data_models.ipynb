{
  "nbformat": 4,
  "nbformat_minor": 0,
  "metadata": {
    "accelerator": "TPU",
    "colab": {
      "name": "Data models.ipynb",
      "provenance": [],
      "collapsed_sections": [],
      "mount_file_id": "1ueVq76g8A-LjWI6_vDfv61v5WrnYVrZQ",
      "authorship_tag": "ABX9TyP3zvCfJBR94/jrNzOVCfSv",
      "include_colab_link": true
    },
    "kernelspec": {
      "display_name": "Python 3",
      "name": "python3"
    },
    "language_info": {
      "name": "python"
    }
  },
  "cells": [
    {
      "cell_type": "markdown",
      "metadata": {
        "id": "view-in-github",
        "colab_type": "text"
      },
      "source": [
        "<a href=\"https://colab.research.google.com/github/ajaynain-eng/2D-to-3D-CNN-Pivotal-Teleradiology/blob/main/Data_models.ipynb\" target=\"_parent\"><img src=\"https://colab.research.google.com/assets/colab-badge.svg\" alt=\"Open In Colab\"/></a>"
      ]
    },
    {
      "cell_type": "code",
      "metadata": {
        "id": "L-1QDZGLED2Y"
      },
      "source": [
        "# http://openi.nlm.nih.gov/imgs/collections/ChinaSet_AllFiles.zip"
      ],
      "execution_count": 1,
      "outputs": []
    },
    {
      "cell_type": "code",
      "metadata": {
        "id": "58ae56o6qOyI"
      },
      "source": [
        " import os\n",
        " os.environ['KAGGLE_CONFIG_DIR'] = '/content'"
      ],
      "execution_count": 2,
      "outputs": []
    },
    {
      "cell_type": "code",
      "metadata": {
        "colab": {
          "base_uri": "https://localhost:8080/"
        },
        "id": "BxO4Nm_Kqfc0",
        "outputId": "7d8a0b4d-1a78-4591-8e86-d5f4609df09f"
      },
      "source": [
        "!kaggle datasets download -d ymirsky/medical-deepfakes-lung-cancer "
      ],
      "execution_count": 3,
      "outputs": [
        {
          "output_type": "stream",
          "text": [
            "Warning: Your Kaggle API key is readable by other users on this system! To fix this, you can run 'chmod 600 /content/kaggle.json'\n",
            "Downloading medical-deepfakes-lung-cancer.zip to /content\n",
            "100% 5.99G/5.99G [01:26<00:00, 63.0MB/s]\n",
            "\n"
          ],
          "name": "stdout"
        }
      ]
    },
    {
      "cell_type": "code",
      "metadata": {
        "colab": {
          "base_uri": "https://localhost:8080/"
        },
        "id": "cXBFnI_LD4cN",
        "outputId": "072a3573-85cf-4372-f285-ff1d08346b28"
      },
      "source": [
        "!http://openi.nlm.nih.gov/imgs/collections/NLM-MontgomeryCXRSet.zip"
      ],
      "execution_count": 4,
      "outputs": [
        {
          "output_type": "stream",
          "text": [
            "/bin/bash: http://openi.nlm.nih.gov/imgs/collections/NLM-MontgomeryCXRSet.zip: No such file or directory\n"
          ],
          "name": "stdout"
        }
      ]
    },
    {
      "cell_type": "code",
      "metadata": {
        "id": "7dXtk3mSqfhR"
      },
      "source": [
        "!unzip \\*.zip && rm *.zip"
      ],
      "execution_count": null,
      "outputs": []
    },
    {
      "cell_type": "code",
      "metadata": {
        "colab": {
          "base_uri": "https://localhost:8080/"
        },
        "id": "pxZ_hAO-qfkd",
        "outputId": "c6276d67-ba87-4d35-f691-6ff5f1ffaa1b"
      },
      "source": [
        "!pip install pydicom"
      ],
      "execution_count": 6,
      "outputs": [
        {
          "output_type": "stream",
          "text": [
            "Collecting pydicom\n",
            "\u001b[?25l  Downloading https://files.pythonhosted.org/packages/f4/15/df16546bc59bfca390cf072d473fb2c8acd4231636f64356593a63137e55/pydicom-2.1.2-py3-none-any.whl (1.9MB)\n",
            "\u001b[K     |████████████████████████████████| 1.9MB 3.1MB/s \n",
            "\u001b[?25hInstalling collected packages: pydicom\n",
            "Successfully installed pydicom-2.1.2\n"
          ],
          "name": "stdout"
        }
      ]
    },
    {
      "cell_type": "code",
      "metadata": {
        "id": "W6804paPqfnN"
      },
      "source": [
        "# importing supporting libraries\n",
        "import pandas as pd                    # to create and read data frame and series\n",
        "import numpy as np                     # to work with array\n",
        "from matplotlib import pyplot as plt   # to plot figures\n",
        "import seaborn as sns                  # to plot interactive metric plot and heatmaps\n",
        "import cv2                             # to read and show image\n",
        "from skimage.transform import resize   # as we need to resize the image to reduce model complexity and get optimum accuracy\n",
        "\n",
        "from sklearn.neighbors import KNeighborsRegressor\n",
        "from sklearn.ensemble import RandomForestRegressor\n",
        "from sklearn.linear_model import LinearRegression, Lasso\n",
        "from sklearn.neighbors import KNeighborsRegressor\n",
        "from sklearn.ensemble import RandomForestRegressor\n",
        "from sklearn.linear_model import LinearRegression, Lasso\n",
        "from sklearn.neighbors import KNeighborsRegressor\n",
        "from sklearn.model_selection import cross_val_score\n",
        "\n",
        "import os\n",
        "import warnings\n",
        "import pydicom as dicom\n",
        "import glob\n",
        "import scipy.ndimage\n",
        "from skimage import measure, morphology\n",
        "from mpl_toolkits.mplot3d.art3d import Poly3DCollection\n",
        "\n",
        "\n",
        "# importing required CNN algorithms, optimizers and activation function\n",
        "import tensorflow as tf\n",
        "from tensorflow import keras\n",
        "#from keras.applications import VGG16\n",
        "from keras import Sequential\n",
        "from keras.layers import Conv1D, Conv2D, Conv3D, MaxPool3D, ZeroPadding3D, Dropout, BatchNormalization\n",
        "from keras.layers import Flatten, Dense, Input\n",
        "from keras.layers import LeakyReLU\n",
        "from keras.preprocessing.image import ImageDataGenerator\n",
        "from keras.optimizers import Adam, SGD\n",
        "from keras.models import Model\n",
        "from keras import callbacks\n",
        "# importing pretrained model VGG16 and VGG19\n",
        "from keras.applications.vgg16 import VGG16\n",
        "from keras.applications.vgg19 import VGG19\n",
        "\n",
        "import time\n",
        "\n",
        "\n",
        "from skimage import measure\n",
        "from skimage.transform import resize\n",
        "from matplotlib.projections import Axes3D\n",
        "from plotly.figure_factory import create_trisurf\n",
        "from mpl_toolkits import mplot3d"
      ],
      "execution_count": 7,
      "outputs": []
    },
    {
      "cell_type": "code",
      "metadata": {
        "id": "yUI9p0-hqfqL"
      },
      "source": [
        "def transform_to_hu(medical_image, image):\n",
        "    intercept = medical_image.RescaleIntercept\n",
        "    slope = medical_image.RescaleSlope\n",
        "    hu_image = image * slope + intercept\n",
        "    return hu_image\n",
        "\n",
        "def window_image(image, window_center, window_width):\n",
        "    img_min = window_center - window_width // 2\n",
        "    img_max = window_center + window_width // 2\n",
        "    window_image = image.copy()\n",
        "    window_image[window_image < img_min] = img_min\n",
        "    window_image[window_image > img_max] = img_max\n",
        "    return window_image\n",
        "\n",
        "def crop_image(image, display=False):\n",
        "# Create a mask with the background pixels\n",
        "    mask = image == 0\n",
        "# Find the lung area\n",
        "    coords = np.array(np.nonzero(~mask))\n",
        "    top_left = np.min(coords, axis=1)\n",
        "    bottom_right = np.max(coords, axis=1)\n",
        "# Remove the background\n",
        "    croped_image = image[top_left[0]:bottom_right[0],\n",
        "                         top_left[1]:bottom_right[1]]\n",
        "    return croped_image\n",
        "\n",
        "def no_crop(medical_img):         # changes the medical image in pixel array and returns the original image\n",
        "    return medical_img.pixel_array\n",
        "\n",
        "def crop_the_image_1(medical_img):     # crop the image corresponding to HU range for lungs\n",
        "    temp_medical_img = medical_img\n",
        "    temp_img = temp_medical_img.pixel_array\n",
        "    hu_image = transform_to_hu(temp_medical_img,temp_img)\n",
        "    lung_image = window_image(hu_image, -500, 1500)\n",
        "    croped_img = crop_image(lung_image, display=False)\n",
        "    return croped_img"
      ],
      "execution_count": 8,
      "outputs": []
    },
    {
      "cell_type": "code",
      "metadata": {
        "id": "f5QJbtwzqftV"
      },
      "source": [
        "def get_data(pid, crop_function):         #  Selects and crops 110 slices and give 3D and 2D image data\n",
        "    files = glob.glob(\"/content/CT_Scans/EXP1_blind/\"+ pid +\"/*.dcm\")\n",
        "    slices = [dicom.read_file(i) for i in files]\n",
        "    slices = sorted(slices, key=lambda s: s.SliceLocation)\n",
        "    s = 0\n",
        "    views = np.empty([110,110,110])\n",
        "    x = (len(slices)-4)/109      # Select 110 slices\n",
        "    for i in range(110):\n",
        "        t = int(4+(x*i))\n",
        "        try:\n",
        "            t_img = crop_function(slices[t])\n",
        "            t_img = resize(t_img, (110,110))\n",
        "        except:\n",
        "            t_img = crop_function(slices[t-1])\n",
        "            t_img = resize(t_img, (110,110))\n",
        "            s = s + 1\n",
        "        views[:,:,i] = t_img          # 3D image array\n",
        "        i += 1\n",
        "    img_2d = views[55,:,:].T\n",
        "    img_2d = img_2d[::-1]           # 2D image array\n",
        "    print(s)     \n",
        "    return views, img_2d"
      ],
      "execution_count": 9,
      "outputs": []
    },
    {
      "cell_type": "code",
      "metadata": {
        "id": "B1FiHIjusskG"
      },
      "source": [
        "def get_correlation(data, threshold):\n",
        "    corr_col = set()\n",
        "    corr = data.corr()\n",
        "    for i in range(len(corr.columns)):\n",
        "        for j in range(i):\n",
        "            if abs(corr.iloc[i,j]) > threshold:  #if abs(corr.iloc[i,j]) > threshold:\n",
        "                corr_col.add(corr.columns[i])\n",
        "    return corr_col\n",
        "\n",
        "def get_uncorr_data(train_data, test_data, threshold):\n",
        "    start_time = time.time()\n",
        "    correlated_block = dict()\n",
        "    corr_columns = get_correlation(pd.DataFrame(train_data), threshold)\n",
        "    temp_correlated_block = dict()\n",
        "\n",
        "\n",
        "    corrmat = pd.DataFrame(train_data).corr()\n",
        "\n",
        "    corrdata = corrmat.stack().sort_values(ascending = False)  #corrdata = corrmat.abs().stack().sort_values(ascending = False)\n",
        "\n",
        "    corrdata = corrdata[corrdata > threshold]\n",
        "    corrdata = corrdata[corrdata <= 1]\n",
        "    corrdata = pd.DataFrame(corrdata).reset_index()\n",
        "    corrdata.columns = ['feature1','feature2', 'value']\n",
        "\n",
        "    grouped_column_list = []\n",
        "    correlated_group_list = []\n",
        "    for column in corrdata['feature1']:\n",
        "        if column not in grouped_column_list:\n",
        "            correlated_block_list = corrdata[corrdata.feature1 == column]\n",
        "            grouped_column_list = grouped_column_list + list(correlated_block_list.feature2.unique()) + [column]\n",
        "            correlated_group_list.append(correlated_block_list)         #  correlated_block\n",
        "\n",
        "    important_columns = []\n",
        "    for data in correlated_group_list:\n",
        "        columns = list(data.feature1.unique()) + list(data.feature2.unique())\n",
        "        important_columns.append(columns[0])\n",
        "            \n",
        "\n",
        "    new_to_drop = list(corr_columns - set(important_columns))\n",
        "\n",
        "    l = new_to_drop\n",
        "\n",
        "    columns_to_drop = list()\n",
        "    for i in l:\n",
        "        if i not in [0,1,108,109]:\n",
        "            if (i-1 not in columns_to_drop and i+1 not in columns_to_drop):     ####\n",
        "                if (i-2 not in columns_to_drop and i+2 not in columns_to_drop):\n",
        "                    columns_to_drop.append(int(i))\n",
        "\n",
        "    for col in columns_to_drop:\n",
        "        corr_col = corrdata[corrdata.feature1 == col]\n",
        "        temp_correlated_block =  list(corr_col.feature2.unique())\n",
        "        correlated_block[str(col)] = temp_correlated_block\n",
        "\n",
        "    col_to_drop_df = pd.concat([corrdata, pd.Series(columns_to_drop, name = 'column_to_drop')], axis = 1)\n",
        "    print(f'time for get_uncorr_data : {time.time() - start_time}')\n",
        "    \n",
        "    return col_to_drop_df, correlated_block"
      ],
      "execution_count": 10,
      "outputs": []
    },
    {
      "cell_type": "code",
      "metadata": {
        "id": "F1upQkBdtOgZ"
      },
      "source": [
        "def get_cross_val_score(col_to_drop, y_0, correlated_block): \n",
        "    start_time = time.time()   \n",
        "    rf_score_mean = list()      # diff_1 = droped_col[i] - droped_col[i-1]                             \n",
        "    knn_score_mean = list()     # diff_2 = droped_col[i+1] - droped_col[i] - 1\n",
        "    knn_neighbors = list()      # training_col = imp_col[diff_1:-diff_2]\n",
        "    neighbors = 2\n",
        "    estimators = 60\n",
        "\n",
        "\n",
        "    temp_y = y_0.reshape((8800, 110))\n",
        "    for key, value in correlated_block.items():\n",
        "        #rf = RandomForestRegressor(n_estimators=40, random_state=0)   # + y_0[0][:,j:j+1]\n",
        "        #rf_score_mean.append(cross_val_score(rf, pd.DataFrame(temp_y)[value], pd.DataFrame(temp_y)[int(key)]).mean()*100)\n",
        "        #knn_time = time.time()\n",
        "        knn_val_score = cross_val_score(KNeighborsRegressor(n_neighbors=2), pd.DataFrame(temp_y)[value], pd.DataFrame(temp_y)[int(key)])\n",
        "\n",
        "        mean = knn_val_score.mean()*100\n",
        "        m = list()\n",
        "        n = list()\n",
        "        p = list()\n",
        "        if mean < 0.995:\n",
        "            for k, o in enumerate([4, 6, 8, 10, 12]):\n",
        "                scr = cross_val_score(KNeighborsRegressor(n_neighbors=o), pd.DataFrame(temp_y)[value], pd.DataFrame(temp_y)[int(key)])\n",
        "                m.append(o)\n",
        "                n.append(scr.mean())\n",
        "                p.append(scr)\n",
        "            max_arg = np.array(n).argmax()\n",
        "            knn_neighbors.append(m[max_arg])\n",
        "            mean = n[max_arg]*100\n",
        "        else:\n",
        "            knn_neighbors.append(2)\n",
        "        knn_score_mean.append(mean)\n",
        "\n",
        "    ''' for i, j in enumerate(col_to_drop):\n",
        "        rf = RandomForestRegressor(n_estimators=40, random_state=0)\n",
        "        rf_score_mean.append(np.array(cross_val_score(rf, pd.DataFrame(y_0[0])[imp_col[i]] + y_0[0][:,j:j+1], pd.DataFrame(y_0[0])[j])).mean()*100)\n",
        "        knn_val_score = cross_val_score(KNeighborsRegressor(n_neighbors=neighbors), pd.DataFrame(y_0[0])[imp_col[i]] + y_0[0][:,j:j+1], pd.DataFrame(y_0[0])[j])\n",
        "        mean = knn_val_score.mean()*100\n",
        "        m = list()\n",
        "        n = list()\n",
        "        p = list()\n",
        "        if mean < 0.95:\n",
        "            for k, o in enumerate([4, 6, 8, 10,12, 24]):\n",
        "                scr = cross_val_score(KNeighborsRegressor(n_neighbors=o), pd.DataFrame(y_0[0])[imp_col[i]] + y_0[0][:, j:j+1], pd.DataFrame(y_0[0])[j])\n",
        "                m.append(o)\n",
        "                n.append(scr.mean())\n",
        "                p.append(scr)\n",
        "            max_arg = np.array(n).argmax()\n",
        "            knn_neighbors.append(m[max_arg])\n",
        "            mean = n[max_arg]*100\n",
        "        else:\n",
        "            knn_neighbors.append(2)\n",
        "        knn_score_mean.append(mean)   '''\n",
        "    print(f'time for get_cross_val_score : {time.time() - start_time}')\n",
        "    return  rf_score_mean, knn_score_mean, knn_neighbors"
      ],
      "execution_count": 11,
      "outputs": []
    },
    {
      "cell_type": "code",
      "metadata": {
        "id": "XmS_227xvsvc"
      },
      "source": [
        "def get_model_to_predict_col(y_train_0, y_test_0, y0):      # here y0 = y_train_0 + y_test_0   (i.e complete data)\n",
        "    start_time = time.time()\n",
        "    new_correlated_block = list()\n",
        "    all_slices_knn_score = list()\n",
        "    all_slices_rf_score = list()\n",
        "    all_droped_col = list()\n",
        "    all_algo = list()\n",
        "    all_knn_neighbours = dict()\n",
        "    len_sel_col = list()           \n",
        "    len_droped_col = list()\n",
        "    y_train = np.empty((len(y_train_0),110,88,110))\n",
        "    y_test = np.empty((len(y_test_0),110,88,110))\n",
        "    for s in range(0,110):\n",
        "        print(f'slice {s} started......')\n",
        "        y_0 = y_train_0[:,:,:,s]\n",
        "        y_test0 = y_test_0[:,:,:,s]\n",
        "        col_to_drop_df, correlated_block = get_uncorr_data(y_0[5], y_test0[5], 0.95)                                                    # get_uncorr_data\n",
        "        col_to_drop = list(col_to_drop_df.dropna().sort_values(by = 'value', ascending=False)['column_to_drop'])\n",
        "        col_to_drop = [int(i) for i in col_to_drop]\n",
        "        col_to_drop.sort()\n",
        "        len_sel_col.append(len(col_to_drop))\n",
        "\n",
        "        '''imp_col = list()\n",
        "        for i in np.arange(2,108):\n",
        "            if i in col_to_drop:\n",
        "                imp_col.append([i-2,i-1,i+1,i+2])'''\n",
        "        rf_score_mean, knn_score_mean, knn_neighbors = get_cross_val_score(col_to_drop, y0[:,:,:,s], correlated_block)         # get_cross_val_score \n",
        "        #score_df = pd.DataFrame({'col_to_drop' : col_to_drop, 'rf_score_mean' : rf_score_mean, 'knn_score_mean' : knn_score_mean})\n",
        "        score_df = pd.DataFrame({'col_to_drop' : col_to_drop, 'knn_score_mean' : knn_score_mean})\n",
        "        '''if np.mean(score_df.knn_score_mean) > np.mean(score_df.rf_score_mean):\n",
        "            scoring_algo = 'knn_score_mean' \n",
        "            all_knn_neighbours[str(s)] = knn_neighbors\n",
        "        else: \n",
        "            scoring_algo = 'rf_score_mean'\n",
        "\n",
        "        all_algo.append(scoring_algo)\n",
        "        droped_col = list(score_df.sort_values(by=scoring_algo, ascending=False)['col_to_drop'])[:22]'''\n",
        "        droped_col = list(score_df.sort_values(by='knn_score_mean', ascending=False)['col_to_drop'])[:22]\n",
        "        droped_col.sort()\n",
        "        temp_correlated_block = dict()\n",
        "        for col in droped_col:\n",
        "            if str(col) in correlated_block.keys():\n",
        "                temp_correlated_block[str(col)] = correlated_block[str(col)]\n",
        "        new_correlated_block.append(temp_correlated_block)\n",
        "        all_droped_col.append(droped_col)\n",
        "        print(f'columns selected to drop : {len(col_to_drop)} and   {len(droped_col)} are droped')\n",
        "        all_slices_knn_score.append(knn_score_mean)\n",
        "        all_slices_rf_score.append(rf_score_mean)\n",
        "\n",
        "        #y_train[:,:,:s] = pd.DataFrame(y_0).drop(droped_col, axis = 1)\n",
        "        #y_test[:,:,:s] = pd.DataFrame(y_test0).drop(droped_col, axis = 1)\n",
        "        for z in range(len(y_train_0)):\n",
        "            y_train[z,:,:,s] = np.array(pd.DataFrame(y_0[z]).drop(droped_col, axis = 1)).reshape(110,88)\n",
        "        for z in range(len(y_test0)):\n",
        "            y_test[z,:,:,s] = np.array(pd.DataFrame(y_test0[z]).drop(droped_col, axis = 1)).reshape(110,88)\n",
        "\n",
        "        print(f'total time required : {time.time() - start_time}', '\\n')\n",
        "    return y_train, y_test, all_slices_knn_score, all_slices_rf_score, all_droped_col, all_algo, all_knn_neighbours, new_correlated_block"
      ],
      "execution_count": 12,
      "outputs": []
    },
    {
      "cell_type": "code",
      "metadata": {
        "id": "wcoooPwPvtA9"
      },
      "source": [
        "def plot_learning_curve(model_history):   \n",
        "    plt.figure(figsize=(15,6))\n",
        "    plt.plot(model_history.history['accuracy'], color = 'green', label = 'train_accuracy')                         # np.arange(0,epochs),\n",
        "    plt.plot(model_history.history['loss'], color = 'red', label = 'train_loss')\n",
        "    plt.plot(model_history.history['val_accuracy'], color = 'blue', label = 'test_accuracy')\n",
        "    plt.plot(model_history.history['val_loss'], color = 'black', label = 'test_loss')\n",
        "    plt.grid()\n",
        "    plt.legend()\n",
        "    plt.xlabel('no. of epochs')\n",
        "    plt.ylabel('accuracy and loss')\n",
        "    plt.legend(loc = 'lower right')\n",
        "\n",
        "def plot_accuracy_curve(model_history):    \n",
        "    plt.figure(figsize=(15,6))\n",
        "    plt.plot(model_history.history['accuracy'], color = 'green', label='accuracy')\n",
        "    plt.plot(model_history.history['val_accuracy'], color = 'red', label = 'test accuracy')\n",
        "    plt.legend()\n",
        "    plt.grid()\n",
        "    plt.legend(loc = 'lower right')\n",
        "\n",
        "def plot_loss_curve(model_history):\n",
        "    plt.figure(figsize = (20,7))\n",
        "    plt.plot(model_history.history['loss'], color = 'green', label = 'train_loss')\n",
        "    plt.plot(model_history.history['val_loss'], color = 'red', label = 'val_loss')\n",
        "    plt.legend()\n",
        "    plt.grid()"
      ],
      "execution_count": 13,
      "outputs": []
    },
    {
      "cell_type": "code",
      "metadata": {
        "id": "0RFPw3coqfwN"
      },
      "source": [
        "patients_id = os.listdir('/content/CT_Scans/EXP1_blind')"
      ],
      "execution_count": 14,
      "outputs": []
    },
    {
      "cell_type": "code",
      "metadata": {
        "colab": {
          "base_uri": "https://localhost:8080/"
        },
        "id": "rUnyU7Lvqfyo",
        "outputId": "aa9924f5-1b90-46bf-f4f5-c3fc2f556b38"
      },
      "source": [
        "f = patients_id.copy()\n",
        "g2d_0 = np.zeros((80,110,110))\n",
        "views_0 = np.zeros((80,110,110,110))\n",
        "fcount_0 = []\n",
        "for i,j in enumerate(f):\n",
        "    print(i)\n",
        "    img_3d, img_2d = get_data(j, no_crop)\n",
        "    g2d_0[i] = img_2d\n",
        "    views_0[i] = img_3d\n",
        "    #views_0[i] = selected_slices(j, no_crop)\n",
        "x_0 = g2d_0\n",
        "y_0 = views_0\n",
        "np.save('Data_out_0.npy', views_0)              # Temprory storing the data in drive\n",
        "np.save('Data_in_0.npy', g2d_0)"
      ],
      "execution_count": 15,
      "outputs": [
        {
          "output_type": "stream",
          "text": [
            "0\n",
            "1\n",
            "1\n",
            "1\n",
            "2\n",
            "1\n",
            "3\n",
            "0\n",
            "4\n",
            "1\n",
            "5\n",
            "1\n",
            "6\n",
            "1\n",
            "7\n",
            "0\n",
            "8\n",
            "1\n",
            "9\n",
            "1\n",
            "10\n",
            "1\n",
            "11\n",
            "1\n",
            "12\n",
            "1\n",
            "13\n",
            "1\n",
            "14\n",
            "0\n",
            "15\n",
            "1\n",
            "16\n",
            "1\n",
            "17\n",
            "1\n",
            "18\n",
            "1\n",
            "19\n",
            "1\n",
            "20\n",
            "0\n",
            "21\n",
            "1\n",
            "22\n",
            "0\n",
            "23\n",
            "1\n",
            "24\n",
            "1\n",
            "25\n",
            "1\n",
            "26\n",
            "1\n",
            "27\n",
            "1\n",
            "28\n",
            "1\n",
            "29\n",
            "1\n",
            "30\n",
            "1\n",
            "31\n",
            "1\n",
            "32\n",
            "1\n",
            "33\n",
            "1\n",
            "34\n",
            "1\n",
            "35\n",
            "1\n",
            "36\n",
            "1\n",
            "37\n",
            "1\n",
            "38\n",
            "1\n",
            "39\n",
            "0\n",
            "40\n",
            "1\n",
            "41\n",
            "1\n",
            "42\n",
            "1\n",
            "43\n",
            "1\n",
            "44\n",
            "1\n",
            "45\n",
            "1\n",
            "46\n",
            "1\n",
            "47\n",
            "1\n",
            "48\n",
            "1\n",
            "49\n",
            "1\n",
            "50\n",
            "1\n",
            "51\n",
            "1\n",
            "52\n",
            "1\n",
            "53\n",
            "1\n",
            "54\n",
            "1\n",
            "55\n",
            "1\n",
            "56\n",
            "1\n",
            "57\n",
            "1\n",
            "58\n",
            "1\n",
            "59\n",
            "1\n",
            "60\n",
            "1\n",
            "61\n",
            "1\n",
            "62\n",
            "1\n",
            "63\n",
            "1\n",
            "64\n",
            "1\n",
            "65\n",
            "1\n",
            "66\n",
            "1\n",
            "67\n",
            "1\n",
            "68\n",
            "1\n",
            "69\n",
            "1\n",
            "70\n",
            "1\n",
            "71\n",
            "1\n",
            "72\n",
            "1\n",
            "73\n",
            "1\n",
            "74\n",
            "1\n",
            "75\n",
            "1\n",
            "76\n",
            "1\n",
            "77\n",
            "1\n",
            "78\n",
            "1\n",
            "79\n",
            "1\n"
          ],
          "name": "stdout"
        }
      ]
    },
    {
      "cell_type": "code",
      "metadata": {
        "colab": {
          "base_uri": "https://localhost:8080/"
        },
        "id": "d1RjxgoMqf1C",
        "outputId": "37c0bcf6-3e6d-48c7-838b-0607bf36c8b2"
      },
      "source": [
        "f = patients_id.copy()\n",
        "g2d_1 = np.zeros((80,110,110))\n",
        "views_1 = np.zeros((80,110,110,110))\n",
        "for i,j in enumerate(f):\n",
        "    print(i)\n",
        "    img_3d, img_2d = get_data(j, crop_the_image_1)\n",
        "    g2d_1[i] = img_2d\n",
        "    views_1[i] = img_3d\n",
        "    #views_0[i] = selected_slices(j, no_crop)\n",
        "x_1 = g2d_1\n",
        "y_1 = views_1\n",
        "np.save('Data_out_1.npy', views_1)\n",
        "np.save('Data_in_1.npy', g2d_1)"
      ],
      "execution_count": 16,
      "outputs": [
        {
          "output_type": "stream",
          "text": [
            "0\n",
            "1\n",
            "1\n",
            "1\n",
            "2\n",
            "1\n",
            "3\n",
            "0\n",
            "4\n",
            "1\n",
            "5\n",
            "1\n",
            "6\n",
            "1\n",
            "7\n",
            "0\n",
            "8\n",
            "1\n",
            "9\n",
            "1\n",
            "10\n",
            "1\n",
            "11\n",
            "1\n",
            "12\n",
            "1\n",
            "13\n",
            "1\n",
            "14\n",
            "0\n",
            "15\n",
            "1\n",
            "16\n",
            "1\n",
            "17\n",
            "1\n",
            "18\n",
            "1\n",
            "19\n",
            "1\n",
            "20\n",
            "0\n",
            "21\n",
            "1\n",
            "22\n",
            "0\n",
            "23\n",
            "1\n",
            "24\n",
            "1\n",
            "25\n",
            "1\n",
            "26\n",
            "1\n",
            "27\n",
            "1\n",
            "28\n",
            "1\n",
            "29\n",
            "1\n",
            "30\n",
            "1\n",
            "31\n",
            "1\n",
            "32\n",
            "1\n",
            "33\n",
            "1\n",
            "34\n",
            "1\n",
            "35\n",
            "1\n",
            "36\n",
            "1\n",
            "37\n",
            "1\n",
            "38\n",
            "1\n",
            "39\n",
            "0\n",
            "40\n",
            "1\n",
            "41\n",
            "1\n",
            "42\n",
            "1\n",
            "43\n",
            "1\n",
            "44\n",
            "1\n",
            "45\n",
            "1\n",
            "46\n",
            "1\n",
            "47\n",
            "1\n",
            "48\n",
            "1\n",
            "49\n",
            "1\n",
            "50\n",
            "1\n",
            "51\n",
            "1\n",
            "52\n",
            "1\n",
            "53\n",
            "1\n",
            "54\n",
            "1\n",
            "55\n",
            "1\n",
            "56\n",
            "1\n",
            "57\n",
            "1\n",
            "58\n",
            "1\n",
            "59\n",
            "1\n",
            "60\n",
            "1\n",
            "61\n",
            "1\n",
            "62\n",
            "1\n",
            "63\n",
            "1\n",
            "64\n",
            "1\n",
            "65\n",
            "1\n",
            "66\n",
            "1\n",
            "67\n",
            "1\n",
            "68\n",
            "1\n",
            "69\n",
            "1\n",
            "70\n",
            "1\n",
            "71\n",
            "1\n",
            "72\n",
            "1\n",
            "73\n",
            "1\n",
            "74\n",
            "1\n",
            "75\n",
            "1\n",
            "76\n",
            "1\n",
            "77\n",
            "1\n",
            "78\n",
            "1\n",
            "79\n",
            "1\n"
          ],
          "name": "stdout"
        }
      ]
    },
    {
      "cell_type": "code",
      "metadata": {
        "id": "uiiOTEC3qf3_"
      },
      "source": [
        "x_0 = np.load('/content/Data_in_0.npy')\n",
        "y_0 = np.load('/content/Data_out_0.npy')\n",
        "x_1 = np.load('/content/Data_in_1.npy')\n",
        "y_1 = np.load('/content/Data_out_1.npy')"
      ],
      "execution_count": 17,
      "outputs": []
    },
    {
      "cell_type": "code",
      "metadata": {
        "id": "V0f_bCgfqf9Q"
      },
      "source": [
        "x_train_0 = x_0[:66]\n",
        "x_test_0 = x_0[65:]\n",
        "y_train_0 = y_0[:66]\n",
        "y_test_0 = y_0[65:]\n",
        "\n",
        "x0 = x_train_0[:,1,:]\n",
        "y0 = y_train_0[:,:,:,1]          # temp_x = x_0[:][:,1,:], temp_y = y_0[:][:,:,:,1]\n",
        "x_test0 = x_test_0[:,1,:]\n",
        "y_test0 = y_test_0[:,:,:,1]\n",
        "x_train_1 = x_1[:66]\n",
        "x_test_1 = x_1[65:]\n",
        "y_train_1 = y_1[:66]\n",
        "y_test_1 = y_1[65:]\n",
        "\n",
        "x1 = x_train_1[:,1,:]\n",
        "y1 = y_train_1[:,:,:,1]\n",
        "x_test1 = x_test_1[:,1,:]\n",
        "y_test1 = y_test_1[:,:,:,1]"
      ],
      "execution_count": 18,
      "outputs": []
    },
    {
      "cell_type": "code",
      "metadata": {
        "colab": {
          "base_uri": "https://localhost:8080/"
        },
        "id": "QsZcHepwqf_T",
        "outputId": "a87a640d-b7c0-4180-962c-dc109fc4638d"
      },
      "source": [
        "x_test0 = x_test0.reshape(15,110,1)\n",
        "x0 = x0.reshape(66,110,1)\n",
        "\n",
        "x_test1 = x_test1.reshape(15,110,1)\n",
        "x1 = x1.reshape(66,110,1)\n",
        "\n",
        "x0.shape, y0.shape"
      ],
      "execution_count": 19,
      "outputs": [
        {
          "output_type": "execute_result",
          "data": {
            "text/plain": [
              "((66, 110, 1), (66, 110, 110))"
            ]
          },
          "metadata": {
            "tags": []
          },
          "execution_count": 19
        }
      ]
    },
    {
      "cell_type": "code",
      "metadata": {
        "colab": {
          "base_uri": "https://localhost:8080/"
        },
        "id": "oFOpdaDb92a1",
        "outputId": "ff0214a1-1a21-4cc4-d8c0-a3d2cf8c4057"
      },
      "source": [
        "x_train_0.shape"
      ],
      "execution_count": 20,
      "outputs": [
        {
          "output_type": "execute_result",
          "data": {
            "text/plain": [
              "(66, 110, 110)"
            ]
          },
          "metadata": {
            "tags": []
          },
          "execution_count": 20
        }
      ]
    },
    {
      "cell_type": "code",
      "metadata": {
        "colab": {
          "base_uri": "https://localhost:8080/"
        },
        "id": "_wa_aESLS8VQ",
        "outputId": "32c4bd71-7b9d-4b00-ef16-6a0eb408e6a8"
      },
      "source": [
        "y_train_0[:,:,:,:10].shape, y_test_0[:,:,:,:10].shape"
      ],
      "execution_count": 21,
      "outputs": [
        {
          "output_type": "execute_result",
          "data": {
            "text/plain": [
              "((66, 110, 110, 10), (15, 110, 110, 10))"
            ]
          },
          "metadata": {
            "tags": []
          },
          "execution_count": 21
        }
      ]
    },
    {
      "cell_type": "code",
      "metadata": {
        "colab": {
          "base_uri": "https://localhost:8080/"
        },
        "id": "FNZdz64CSlwn",
        "outputId": "db8a7584-e41f-4a63-db88-a4320806da51"
      },
      "source": [
        "y_train, y_test,all_slices_knn_score, all_slices_rf_score, all_droped_col, all_algo, all_knn_neighbours, new_correlated_block  = get_model_to_predict_col(y_train_0, y_test_0, y_0)"
      ],
      "execution_count": 22,
      "outputs": [
        {
          "output_type": "stream",
          "text": [
            "slice 0 started......\n",
            "time for get_uncorr_data : 0.39653658866882324\n",
            "time for get_cross_val_score : 13.325045347213745\n",
            "columns selected to drop : 32 and   22 are droped\n",
            "total time required : 14.39781403541565 \n",
            "\n",
            "slice 1 started......\n",
            "time for get_uncorr_data : 0.21002483367919922\n",
            "time for get_cross_val_score : 13.220520734786987\n",
            "columns selected to drop : 32 and   22 are droped\n",
            "total time required : 27.912150621414185 \n",
            "\n",
            "slice 2 started......\n",
            "time for get_uncorr_data : 0.20606613159179688\n",
            "time for get_cross_val_score : 13.994248390197754\n",
            "columns selected to drop : 32 and   22 are droped\n",
            "total time required : 42.19979381561279 \n",
            "\n",
            "slice 3 started......\n",
            "time for get_uncorr_data : 0.23241972923278809\n",
            "time for get_cross_val_score : 13.857752323150635\n",
            "columns selected to drop : 32 and   22 are droped\n",
            "total time required : 56.40692210197449 \n",
            "\n",
            "slice 4 started......\n",
            "time for get_uncorr_data : 0.2015244960784912\n",
            "time for get_cross_val_score : 14.1393723487854\n",
            "columns selected to drop : 31 and   22 are droped\n",
            "total time required : 70.84113001823425 \n",
            "\n",
            "slice 5 started......\n",
            "time for get_uncorr_data : 0.20287227630615234\n",
            "time for get_cross_val_score : 13.546319484710693\n",
            "columns selected to drop : 32 and   22 are droped\n",
            "total time required : 84.68146634101868 \n",
            "\n",
            "slice 6 started......\n",
            "time for get_uncorr_data : 0.20754623413085938\n",
            "time for get_cross_val_score : 13.062501192092896\n",
            "columns selected to drop : 33 and   22 are droped\n",
            "total time required : 98.04154562950134 \n",
            "\n",
            "slice 7 started......\n",
            "time for get_uncorr_data : 0.21249151229858398\n",
            "time for get_cross_val_score : 14.331184387207031\n",
            "columns selected to drop : 33 and   22 are droped\n",
            "total time required : 112.67274451255798 \n",
            "\n",
            "slice 8 started......\n",
            "time for get_uncorr_data : 0.21226000785827637\n",
            "time for get_cross_val_score : 13.810431957244873\n",
            "columns selected to drop : 32 and   22 are droped\n",
            "total time required : 126.77696251869202 \n",
            "\n",
            "slice 9 started......\n",
            "time for get_uncorr_data : 0.196610689163208\n",
            "time for get_cross_val_score : 12.025017023086548\n",
            "columns selected to drop : 32 and   22 are droped\n",
            "total time required : 139.0843379497528 \n",
            "\n",
            "slice 10 started......\n",
            "time for get_uncorr_data : 0.21538448333740234\n",
            "time for get_cross_val_score : 11.98849892616272\n",
            "columns selected to drop : 33 and   22 are droped\n",
            "total time required : 151.36970853805542 \n",
            "\n",
            "slice 11 started......\n",
            "time for get_uncorr_data : 0.21307730674743652\n",
            "time for get_cross_val_score : 12.816487789154053\n",
            "columns selected to drop : 32 and   22 are droped\n",
            "total time required : 164.4794580936432 \n",
            "\n",
            "slice 12 started......\n",
            "time for get_uncorr_data : 0.20340394973754883\n",
            "time for get_cross_val_score : 12.017704725265503\n",
            "columns selected to drop : 31 and   22 are droped\n",
            "total time required : 176.7849931716919 \n",
            "\n",
            "slice 13 started......\n",
            "time for get_uncorr_data : 0.20497369766235352\n",
            "time for get_cross_val_score : 11.22921085357666\n",
            "columns selected to drop : 31 and   22 are droped\n",
            "total time required : 188.30810856819153 \n",
            "\n",
            "slice 14 started......\n",
            "time for get_uncorr_data : 0.2134993076324463\n",
            "time for get_cross_val_score : 9.604952096939087\n",
            "columns selected to drop : 31 and   22 are droped\n",
            "total time required : 198.21369290351868 \n",
            "\n",
            "slice 15 started......\n",
            "time for get_uncorr_data : 0.2131028175354004\n",
            "time for get_cross_val_score : 7.426536560058594\n",
            "columns selected to drop : 31 and   22 are droped\n",
            "total time required : 205.9431562423706 \n",
            "\n",
            "slice 16 started......\n",
            "time for get_uncorr_data : 0.2004716396331787\n",
            "time for get_cross_val_score : 5.665023565292358\n",
            "columns selected to drop : 30 and   22 are droped\n",
            "total time required : 211.8949294090271 \n",
            "\n",
            "slice 17 started......\n",
            "time for get_uncorr_data : 0.21089506149291992\n",
            "time for get_cross_val_score : 4.547240734100342\n",
            "columns selected to drop : 30 and   22 are droped\n",
            "total time required : 216.73553681373596 \n",
            "\n",
            "slice 18 started......\n",
            "time for get_uncorr_data : 0.20336627960205078\n",
            "time for get_cross_val_score : 4.379443407058716\n",
            "columns selected to drop : 30 and   22 are droped\n",
            "total time required : 221.4044246673584 \n",
            "\n",
            "slice 19 started......\n",
            "time for get_uncorr_data : 0.21623539924621582\n",
            "time for get_cross_val_score : 4.0616936683654785\n",
            "columns selected to drop : 30 and   22 are droped\n",
            "total time required : 225.7645823955536 \n",
            "\n",
            "slice 20 started......\n",
            "time for get_uncorr_data : 0.20175552368164062\n",
            "time for get_cross_val_score : 3.81075119972229\n",
            "columns selected to drop : 26 and   22 are droped\n",
            "total time required : 229.9022867679596 \n",
            "\n",
            "slice 21 started......\n",
            "time for get_uncorr_data : 0.4188868999481201\n",
            "time for get_cross_val_score : 4.182234525680542\n",
            "columns selected to drop : 30 and   22 are droped\n",
            "total time required : 234.59808921813965 \n",
            "\n",
            "slice 22 started......\n",
            "time for get_uncorr_data : 0.21624350547790527\n",
            "time for get_cross_val_score : 3.727038860321045\n",
            "columns selected to drop : 30 and   22 are droped\n",
            "total time required : 238.62166500091553 \n",
            "\n",
            "slice 23 started......\n",
            "time for get_uncorr_data : 0.21327662467956543\n",
            "time for get_cross_val_score : 3.6093385219573975\n",
            "columns selected to drop : 29 and   22 are droped\n",
            "total time required : 242.52506613731384 \n",
            "\n",
            "slice 24 started......\n",
            "time for get_uncorr_data : 0.2160792350769043\n",
            "time for get_cross_val_score : 3.5267086029052734\n",
            "columns selected to drop : 29 and   22 are droped\n",
            "total time required : 246.35141849517822 \n",
            "\n",
            "slice 25 started......\n",
            "time for get_uncorr_data : 0.21280121803283691\n",
            "time for get_cross_val_score : 3.50455379486084\n",
            "columns selected to drop : 28 and   22 are droped\n",
            "total time required : 250.1552758216858 \n",
            "\n",
            "slice 26 started......\n",
            "time for get_uncorr_data : 0.2112412452697754\n",
            "time for get_cross_val_score : 3.5280330181121826\n",
            "columns selected to drop : 29 and   22 are droped\n",
            "total time required : 253.98277354240417 \n",
            "\n",
            "slice 27 started......\n",
            "time for get_uncorr_data : 0.20116162300109863\n",
            "time for get_cross_val_score : 3.42812180519104\n",
            "columns selected to drop : 29 and   22 are droped\n",
            "total time required : 257.70227789878845 \n",
            "\n",
            "slice 28 started......\n",
            "time for get_uncorr_data : 0.20852351188659668\n",
            "time for get_cross_val_score : 3.3580985069274902\n",
            "columns selected to drop : 30 and   22 are droped\n",
            "total time required : 261.3530533313751 \n",
            "\n",
            "slice 29 started......\n",
            "time for get_uncorr_data : 0.20488667488098145\n",
            "time for get_cross_val_score : 3.4969775676727295\n",
            "columns selected to drop : 30 and   22 are droped\n",
            "total time required : 265.1484739780426 \n",
            "\n",
            "slice 30 started......\n",
            "time for get_uncorr_data : 0.2065129280090332\n",
            "time for get_cross_val_score : 3.5577964782714844\n",
            "columns selected to drop : 30 and   22 are droped\n",
            "total time required : 268.9949109554291 \n",
            "\n",
            "slice 31 started......\n",
            "time for get_uncorr_data : 0.22307229042053223\n",
            "time for get_cross_val_score : 3.4905552864074707\n",
            "columns selected to drop : 30 and   22 are droped\n",
            "total time required : 272.78957891464233 \n",
            "\n",
            "slice 32 started......\n",
            "time for get_uncorr_data : 0.20037508010864258\n",
            "time for get_cross_val_score : 3.5664243698120117\n",
            "columns selected to drop : 30 and   22 are droped\n",
            "total time required : 276.64213466644287 \n",
            "\n",
            "slice 33 started......\n",
            "time for get_uncorr_data : 0.21148014068603516\n",
            "time for get_cross_val_score : 3.2412662506103516\n",
            "columns selected to drop : 30 and   22 are droped\n",
            "total time required : 280.1757266521454 \n",
            "\n",
            "slice 34 started......\n",
            "time for get_uncorr_data : 0.21547508239746094\n",
            "time for get_cross_val_score : 3.0119543075561523\n",
            "columns selected to drop : 27 and   22 are droped\n",
            "total time required : 283.4864058494568 \n",
            "\n",
            "slice 35 started......\n",
            "time for get_uncorr_data : 0.24129009246826172\n",
            "time for get_cross_val_score : 2.877887487411499\n",
            "columns selected to drop : 27 and   22 are droped\n",
            "total time required : 286.6908736228943 \n",
            "\n",
            "slice 36 started......\n",
            "time for get_uncorr_data : 0.20860528945922852\n",
            "time for get_cross_val_score : 3.0239076614379883\n",
            "columns selected to drop : 28 and   22 are droped\n",
            "total time required : 290.00968956947327 \n",
            "\n",
            "slice 37 started......\n",
            "time for get_uncorr_data : 0.2083442211151123\n",
            "time for get_cross_val_score : 2.90574312210083\n",
            "columns selected to drop : 27 and   22 are droped\n",
            "total time required : 293.2058401107788 \n",
            "\n",
            "slice 38 started......\n",
            "time for get_uncorr_data : 0.22812652587890625\n",
            "time for get_cross_val_score : 2.94406795501709\n",
            "columns selected to drop : 27 and   22 are droped\n",
            "total time required : 296.4611110687256 \n",
            "\n",
            "slice 39 started......\n",
            "time for get_uncorr_data : 0.21566438674926758\n",
            "time for get_cross_val_score : 3.3967294692993164\n",
            "columns selected to drop : 29 and   22 are droped\n",
            "total time required : 300.1559474468231 \n",
            "\n",
            "slice 40 started......\n",
            "time for get_uncorr_data : 0.21622180938720703\n",
            "time for get_cross_val_score : 3.584312915802002\n",
            "columns selected to drop : 31 and   22 are droped\n",
            "total time required : 304.0538237094879 \n",
            "\n",
            "slice 41 started......\n",
            "time for get_uncorr_data : 0.21791410446166992\n",
            "time for get_cross_val_score : 3.583843231201172\n",
            "columns selected to drop : 31 and   22 are droped\n",
            "total time required : 307.9399974346161 \n",
            "\n",
            "slice 42 started......\n",
            "time for get_uncorr_data : 0.21299219131469727\n",
            "time for get_cross_val_score : 3.515658140182495\n",
            "columns selected to drop : 30 and   22 are droped\n",
            "total time required : 311.75201773643494 \n",
            "\n",
            "slice 43 started......\n",
            "time for get_uncorr_data : 0.2269599437713623\n",
            "time for get_cross_val_score : 3.4534339904785156\n",
            "columns selected to drop : 30 and   22 are droped\n",
            "total time required : 315.51945972442627 \n",
            "\n",
            "slice 44 started......\n",
            "time for get_uncorr_data : 0.20361757278442383\n",
            "time for get_cross_val_score : 3.443389415740967\n",
            "columns selected to drop : 30 and   22 are droped\n",
            "total time required : 319.2547068595886 \n",
            "\n",
            "slice 45 started......\n",
            "time for get_uncorr_data : 0.211289644241333\n",
            "time for get_cross_val_score : 3.4196689128875732\n",
            "columns selected to drop : 31 and   22 are droped\n",
            "total time required : 322.9758532047272 \n",
            "\n",
            "slice 46 started......\n",
            "time for get_uncorr_data : 0.2159273624420166\n",
            "time for get_cross_val_score : 3.3581440448760986\n",
            "columns selected to drop : 30 and   22 are droped\n",
            "total time required : 326.63543152809143 \n",
            "\n",
            "slice 47 started......\n",
            "time for get_uncorr_data : 0.2231290340423584\n",
            "time for get_cross_val_score : 3.184420108795166\n",
            "columns selected to drop : 29 and   22 are droped\n",
            "total time required : 330.1343731880188 \n",
            "\n",
            "slice 48 started......\n",
            "time for get_uncorr_data : 0.2157135009765625\n",
            "time for get_cross_val_score : 3.105699300765991\n",
            "columns selected to drop : 28 and   22 are droped\n",
            "total time required : 333.5397946834564 \n",
            "\n",
            "slice 49 started......\n",
            "time for get_uncorr_data : 0.216902494430542\n",
            "time for get_cross_val_score : 3.170132875442505\n",
            "columns selected to drop : 27 and   22 are droped\n",
            "total time required : 337.0097601413727 \n",
            "\n",
            "slice 50 started......\n",
            "time for get_uncorr_data : 0.2308971881866455\n",
            "time for get_cross_val_score : 3.190020799636841\n",
            "columns selected to drop : 28 and   22 are droped\n",
            "total time required : 340.5137255191803 \n",
            "\n",
            "slice 51 started......\n",
            "time for get_uncorr_data : 0.22012543678283691\n",
            "time for get_cross_val_score : 3.2613096237182617\n",
            "columns selected to drop : 28 and   22 are droped\n",
            "total time required : 344.0803122520447 \n",
            "\n",
            "slice 52 started......\n",
            "time for get_uncorr_data : 0.22861123085021973\n",
            "time for get_cross_val_score : 3.1273536682128906\n",
            "columns selected to drop : 28 and   22 are droped\n",
            "total time required : 347.519403219223 \n",
            "\n",
            "slice 53 started......\n",
            "time for get_uncorr_data : 0.2200772762298584\n",
            "time for get_cross_val_score : 3.139779567718506\n",
            "columns selected to drop : 29 and   22 are droped\n",
            "total time required : 350.9660928249359 \n",
            "\n",
            "slice 54 started......\n",
            "time for get_uncorr_data : 0.20691919326782227\n",
            "time for get_cross_val_score : 3.101712465286255\n",
            "columns selected to drop : 29 and   22 are droped\n",
            "total time required : 354.3597810268402 \n",
            "\n",
            "slice 55 started......\n",
            "time for get_uncorr_data : 0.22487616539001465\n",
            "time for get_cross_val_score : 2.897913694381714\n",
            "columns selected to drop : 28 and   22 are droped\n",
            "total time required : 357.5650260448456 \n",
            "\n",
            "slice 56 started......\n",
            "time for get_uncorr_data : 0.20461583137512207\n",
            "time for get_cross_val_score : 2.9832370281219482\n",
            "columns selected to drop : 28 and   22 are droped\n",
            "total time required : 360.83544993400574 \n",
            "\n",
            "slice 57 started......\n",
            "time for get_uncorr_data : 0.20950794219970703\n",
            "time for get_cross_val_score : 2.9051215648651123\n",
            "columns selected to drop : 28 and   22 are droped\n",
            "total time required : 364.034539937973 \n",
            "\n",
            "slice 58 started......\n",
            "time for get_uncorr_data : 0.20735526084899902\n",
            "time for get_cross_val_score : 2.8589694499969482\n",
            "columns selected to drop : 28 and   22 are droped\n",
            "total time required : 367.1827974319458 \n",
            "\n",
            "slice 59 started......\n",
            "time for get_uncorr_data : 0.21434640884399414\n",
            "time for get_cross_val_score : 2.9162888526916504\n",
            "columns selected to drop : 28 and   22 are droped\n",
            "total time required : 370.4001877307892 \n",
            "\n",
            "slice 60 started......\n",
            "time for get_uncorr_data : 0.21602368354797363\n",
            "time for get_cross_val_score : 2.848621129989624\n",
            "columns selected to drop : 29 and   22 are droped\n",
            "total time required : 373.547536611557 \n",
            "\n",
            "slice 61 started......\n",
            "time for get_uncorr_data : 0.2199389934539795\n",
            "time for get_cross_val_score : 2.8636860847473145\n",
            "columns selected to drop : 29 and   22 are droped\n",
            "total time required : 376.7141876220703 \n",
            "\n",
            "slice 62 started......\n",
            "time for get_uncorr_data : 0.22750592231750488\n",
            "time for get_cross_val_score : 2.833038568496704\n",
            "columns selected to drop : 28 and   22 are droped\n",
            "total time required : 379.8639543056488 \n",
            "\n",
            "slice 63 started......\n",
            "time for get_uncorr_data : 0.21086430549621582\n",
            "time for get_cross_val_score : 2.7154464721679688\n",
            "columns selected to drop : 27 and   22 are droped\n",
            "total time required : 382.87756872177124 \n",
            "\n",
            "slice 64 started......\n",
            "time for get_uncorr_data : 0.22545552253723145\n",
            "time for get_cross_val_score : 2.7458975315093994\n",
            "columns selected to drop : 27 and   22 are droped\n",
            "total time required : 385.9363486766815 \n",
            "\n",
            "slice 65 started......\n",
            "time for get_uncorr_data : 0.2210099697113037\n",
            "time for get_cross_val_score : 2.7408649921417236\n",
            "columns selected to drop : 27 and   22 are droped\n",
            "total time required : 388.99496960639954 \n",
            "\n",
            "slice 66 started......\n",
            "time for get_uncorr_data : 0.21476435661315918\n",
            "time for get_cross_val_score : 2.8885645866394043\n",
            "columns selected to drop : 29 and   22 are droped\n",
            "total time required : 392.18144702911377 \n",
            "\n",
            "slice 67 started......\n",
            "time for get_uncorr_data : 0.21410417556762695\n",
            "time for get_cross_val_score : 3.183757781982422\n",
            "columns selected to drop : 30 and   22 are droped\n",
            "total time required : 395.66187477111816 \n",
            "\n",
            "slice 68 started......\n",
            "time for get_uncorr_data : 0.21695566177368164\n",
            "time for get_cross_val_score : 3.1144297122955322\n",
            "columns selected to drop : 29 and   22 are droped\n",
            "total time required : 399.08123087882996 \n",
            "\n",
            "slice 69 started......\n",
            "time for get_uncorr_data : 0.2124178409576416\n",
            "time for get_cross_val_score : 3.2804715633392334\n",
            "columns selected to drop : 29 and   22 are droped\n",
            "total time required : 402.6603672504425 \n",
            "\n",
            "slice 70 started......\n",
            "time for get_uncorr_data : 0.22001433372497559\n",
            "time for get_cross_val_score : 3.4424822330474854\n",
            "columns selected to drop : 30 and   22 are droped\n",
            "total time required : 406.40777111053467 \n",
            "\n",
            "slice 71 started......\n",
            "time for get_uncorr_data : 0.20711064338684082\n",
            "time for get_cross_val_score : 3.3532493114471436\n",
            "columns selected to drop : 29 and   22 are droped\n",
            "total time required : 410.0504195690155 \n",
            "\n",
            "slice 72 started......\n",
            "time for get_uncorr_data : 0.21915459632873535\n",
            "time for get_cross_val_score : 3.260497570037842\n",
            "columns selected to drop : 27 and   22 are droped\n",
            "total time required : 413.6108717918396 \n",
            "\n",
            "slice 73 started......\n",
            "time for get_uncorr_data : 0.2027878761291504\n",
            "time for get_cross_val_score : 3.4340338706970215\n",
            "columns selected to drop : 27 and   22 are droped\n",
            "total time required : 417.32980585098267 \n",
            "\n",
            "slice 74 started......\n",
            "time for get_uncorr_data : 0.22473621368408203\n",
            "time for get_cross_val_score : 3.7740375995635986\n",
            "columns selected to drop : 30 and   22 are droped\n",
            "total time required : 421.4220504760742 \n",
            "\n",
            "slice 75 started......\n",
            "time for get_uncorr_data : 0.21330833435058594\n",
            "time for get_cross_val_score : 3.952686071395874\n",
            "columns selected to drop : 29 and   22 are droped\n",
            "total time required : 425.6790699958801 \n",
            "\n",
            "slice 76 started......\n",
            "time for get_uncorr_data : 0.20845603942871094\n",
            "time for get_cross_val_score : 3.8657195568084717\n",
            "columns selected to drop : 28 and   22 are droped\n",
            "total time required : 429.83851194381714 \n",
            "\n",
            "slice 77 started......\n",
            "time for get_uncorr_data : 0.20647835731506348\n",
            "time for get_cross_val_score : 4.494119167327881\n",
            "columns selected to drop : 31 and   22 are droped\n",
            "total time required : 434.6284701824188 \n",
            "\n",
            "slice 78 started......\n",
            "time for get_uncorr_data : 0.21584701538085938\n",
            "time for get_cross_val_score : 4.567412614822388\n",
            "columns selected to drop : 31 and   22 are droped\n",
            "total time required : 439.496817111969 \n",
            "\n",
            "slice 79 started......\n",
            "time for get_uncorr_data : 0.21688103675842285\n",
            "time for get_cross_val_score : 4.8258421421051025\n",
            "columns selected to drop : 31 and   22 are droped\n",
            "total time required : 444.6253430843353 \n",
            "\n",
            "slice 80 started......\n",
            "time for get_uncorr_data : 0.21535301208496094\n",
            "time for get_cross_val_score : 4.873475790023804\n",
            "columns selected to drop : 31 and   22 are droped\n",
            "total time required : 449.8046395778656 \n",
            "\n",
            "slice 81 started......\n",
            "time for get_uncorr_data : 0.23264503479003906\n",
            "time for get_cross_val_score : 4.83371639251709\n",
            "columns selected to drop : 32 and   22 are droped\n",
            "total time required : 454.95939326286316 \n",
            "\n",
            "slice 82 started......\n",
            "time for get_uncorr_data : 0.22434091567993164\n",
            "time for get_cross_val_score : 4.604108810424805\n",
            "columns selected to drop : 31 and   22 are droped\n",
            "total time required : 459.869393825531 \n",
            "\n",
            "slice 83 started......\n",
            "time for get_uncorr_data : 0.2190558910369873\n",
            "time for get_cross_val_score : 4.819131374359131\n",
            "columns selected to drop : 31 and   22 are droped\n",
            "total time required : 464.994992017746 \n",
            "\n",
            "slice 84 started......\n",
            "time for get_uncorr_data : 0.20898032188415527\n",
            "time for get_cross_val_score : 4.954825162887573\n",
            "columns selected to drop : 31 and   22 are droped\n",
            "total time required : 470.23993396759033 \n",
            "\n",
            "slice 85 started......\n",
            "time for get_uncorr_data : 0.20534348487854004\n",
            "time for get_cross_val_score : 4.825489282608032\n",
            "columns selected to drop : 29 and   22 are droped\n",
            "total time required : 475.35441637039185 \n",
            "\n",
            "slice 86 started......\n",
            "time for get_uncorr_data : 0.20763874053955078\n",
            "time for get_cross_val_score : 5.031797409057617\n",
            "columns selected to drop : 31 and   22 are droped\n",
            "total time required : 480.67529010772705 \n",
            "\n",
            "slice 87 started......\n",
            "time for get_uncorr_data : 0.21689343452453613\n",
            "time for get_cross_val_score : 5.043389081954956\n",
            "columns selected to drop : 31 and   22 are droped\n",
            "total time required : 486.02111434936523 \n",
            "\n",
            "slice 88 started......\n",
            "time for get_uncorr_data : 0.2051105499267578\n",
            "time for get_cross_val_score : 5.070051670074463\n",
            "columns selected to drop : 31 and   22 are droped\n",
            "total time required : 491.3839075565338 \n",
            "\n",
            "slice 89 started......\n",
            "time for get_uncorr_data : 0.21644949913024902\n",
            "time for get_cross_val_score : 5.088147878646851\n",
            "columns selected to drop : 32 and   22 are droped\n",
            "total time required : 496.7720913887024 \n",
            "\n",
            "slice 90 started......\n",
            "time for get_uncorr_data : 0.20644712448120117\n",
            "time for get_cross_val_score : 4.715930938720703\n",
            "columns selected to drop : 31 and   22 are droped\n",
            "total time required : 501.7795877456665 \n",
            "\n",
            "slice 91 started......\n",
            "time for get_uncorr_data : 0.2143709659576416\n",
            "time for get_cross_val_score : 4.412520885467529\n",
            "columns selected to drop : 31 and   22 are droped\n",
            "total time required : 506.4929962158203 \n",
            "\n",
            "slice 92 started......\n",
            "time for get_uncorr_data : 0.23197054862976074\n",
            "time for get_cross_val_score : 4.2090935707092285\n",
            "columns selected to drop : 31 and   22 are droped\n",
            "total time required : 511.015013217926 \n",
            "\n",
            "slice 93 started......\n",
            "time for get_uncorr_data : 0.21396946907043457\n",
            "time for get_cross_val_score : 4.711883783340454\n",
            "columns selected to drop : 32 and   22 are droped\n",
            "total time required : 516.0229072570801 \n",
            "\n",
            "slice 94 started......\n",
            "time for get_uncorr_data : 0.20743680000305176\n",
            "time for get_cross_val_score : 4.658262252807617\n",
            "columns selected to drop : 30 and   22 are droped\n",
            "total time required : 520.9800539016724 \n",
            "\n",
            "slice 95 started......\n",
            "time for get_uncorr_data : 0.2031116485595703\n",
            "time for get_cross_val_score : 4.728075265884399\n",
            "columns selected to drop : 31 and   22 are droped\n",
            "total time required : 525.9971468448639 \n",
            "\n",
            "slice 96 started......\n",
            "time for get_uncorr_data : 0.21207165718078613\n",
            "time for get_cross_val_score : 5.082367181777954\n",
            "columns selected to drop : 32 and   22 are droped\n",
            "total time required : 531.3775110244751 \n",
            "\n",
            "slice 97 started......\n",
            "time for get_uncorr_data : 0.20330595970153809\n",
            "time for get_cross_val_score : 5.160165071487427\n",
            "columns selected to drop : 32 and   22 are droped\n",
            "total time required : 536.8258752822876 \n",
            "\n",
            "slice 98 started......\n",
            "time for get_uncorr_data : 0.21136188507080078\n",
            "time for get_cross_val_score : 5.38458251953125\n",
            "columns selected to drop : 33 and   22 are droped\n",
            "total time required : 542.5113785266876 \n",
            "\n",
            "slice 99 started......\n",
            "time for get_uncorr_data : 0.21495771408081055\n",
            "time for get_cross_val_score : 6.352019548416138\n",
            "columns selected to drop : 32 and   22 are droped\n",
            "total time required : 549.1690983772278 \n",
            "\n",
            "slice 100 started......\n",
            "time for get_uncorr_data : 0.22126317024230957\n",
            "time for get_cross_val_score : 6.453778266906738\n",
            "columns selected to drop : 32 and   22 are droped\n",
            "total time required : 555.9301609992981 \n",
            "\n",
            "slice 101 started......\n",
            "time for get_uncorr_data : 0.21274924278259277\n",
            "time for get_cross_val_score : 7.665066719055176\n",
            "columns selected to drop : 33 and   22 are droped\n",
            "total time required : 563.9019205570221 \n",
            "\n",
            "slice 102 started......\n",
            "time for get_uncorr_data : 0.21914982795715332\n",
            "time for get_cross_val_score : 7.377429008483887\n",
            "columns selected to drop : 33 and   22 are droped\n",
            "total time required : 571.5963745117188 \n",
            "\n",
            "slice 103 started......\n",
            "time for get_uncorr_data : 0.22204971313476562\n",
            "time for get_cross_val_score : 7.385576963424683\n",
            "columns selected to drop : 33 and   22 are droped\n",
            "total time required : 579.2911546230316 \n",
            "\n",
            "slice 104 started......\n",
            "time for get_uncorr_data : 0.21681690216064453\n",
            "time for get_cross_val_score : 6.266948699951172\n",
            "columns selected to drop : 33 and   22 are droped\n",
            "total time required : 585.8600945472717 \n",
            "\n",
            "slice 105 started......\n",
            "time for get_uncorr_data : 0.21997642517089844\n",
            "time for get_cross_val_score : 5.931655645370483\n",
            "columns selected to drop : 33 and   22 are droped\n",
            "total time required : 592.0948889255524 \n",
            "\n",
            "slice 106 started......\n",
            "time for get_uncorr_data : 0.210770845413208\n",
            "time for get_cross_val_score : 5.710082530975342\n",
            "columns selected to drop : 32 and   22 are droped\n",
            "total time required : 598.1035418510437 \n",
            "\n",
            "slice 107 started......\n",
            "time for get_uncorr_data : 0.21769118309020996\n",
            "time for get_cross_val_score : 5.541925668716431\n",
            "columns selected to drop : 32 and   22 are droped\n",
            "total time required : 603.9491124153137 \n",
            "\n",
            "slice 108 started......\n",
            "time for get_uncorr_data : 0.2173757553100586\n",
            "time for get_cross_val_score : 5.374190092086792\n",
            "columns selected to drop : 32 and   22 are droped\n",
            "total time required : 609.6298441886902 \n",
            "\n",
            "slice 109 started......\n",
            "time for get_uncorr_data : 0.2141876220703125\n",
            "time for get_cross_val_score : 5.233407258987427\n",
            "columns selected to drop : 32 and   22 are droped\n",
            "total time required : 615.1656310558319 \n",
            "\n"
          ],
          "name": "stdout"
        }
      ]
    },
    {
      "cell_type": "code",
      "metadata": {
        "colab": {
          "base_uri": "https://localhost:8080/"
        },
        "id": "IltXYHxdqgVv",
        "outputId": "8b094fcf-3b91-417e-ea1d-be6d2e8c7b1b"
      },
      "source": [
        "y_train.shape, y_test.shape"
      ],
      "execution_count": 23,
      "outputs": [
        {
          "output_type": "execute_result",
          "data": {
            "text/plain": [
              "((66, 110, 88, 110), (15, 110, 88, 110))"
            ]
          },
          "metadata": {
            "tags": []
          },
          "execution_count": 23
        }
      ]
    },
    {
      "cell_type": "code",
      "metadata": {
        "colab": {
          "base_uri": "https://localhost:8080/"
        },
        "id": "7-1eWraEr6ej",
        "outputId": "390b752f-413a-477e-acb5-7ec7e92ffabd"
      },
      "source": [
        "len(all_slices_knn_score), len(all_slices_rf_score)"
      ],
      "execution_count": 24,
      "outputs": [
        {
          "output_type": "execute_result",
          "data": {
            "text/plain": [
              "(110, 110)"
            ]
          },
          "metadata": {
            "tags": []
          },
          "execution_count": 24
        }
      ]
    },
    {
      "cell_type": "code",
      "metadata": {
        "id": "0FORzaDBHtjY"
      },
      "source": [
        "new_correlated_block"
      ],
      "execution_count": null,
      "outputs": []
    },
    {
      "cell_type": "code",
      "metadata": {
        "colab": {
          "base_uri": "https://localhost:8080/"
        },
        "id": "g65M1lm5r6o8",
        "outputId": "53ee8087-74f6-40a1-bc58-037a89243a8c"
      },
      "source": [
        "for i in all_slices_knn_score:\n",
        "    print(np.mean(i))"
      ],
      "execution_count": 106,
      "outputs": [
        {
          "output_type": "stream",
          "text": [
            "99.5054958331518\n",
            "99.52303731313391\n",
            "99.47385874878975\n",
            "99.46497731151192\n",
            "99.43088909445221\n",
            "99.48816590381293\n",
            "99.51430447872089\n",
            "99.47406876671458\n",
            "99.45110427629092\n",
            "99.52729534088414\n",
            "99.51590202447393\n",
            "99.47279920531436\n",
            "99.45514523150356\n",
            "99.48684090018284\n",
            "99.50425953570858\n",
            "99.62115359476977\n",
            "99.69589545393393\n",
            "99.75180474027555\n",
            "99.77172591208792\n",
            "99.79617873677657\n",
            "99.78829848840668\n",
            "99.79423553530506\n",
            "99.80141361795856\n",
            "99.79670070813262\n",
            "99.79848273215761\n",
            "99.8235047342895\n",
            "99.8084928911743\n",
            "99.81462990833788\n",
            "99.81069458776714\n",
            "99.80946073869424\n",
            "99.79565173967646\n",
            "99.80066251064667\n",
            "99.81254882052659\n",
            "99.81363567859283\n",
            "99.80416304637654\n",
            "99.8283303155141\n",
            "99.81652914174158\n",
            "99.80562752350306\n",
            "99.80066873332316\n",
            "99.78877366640648\n",
            "99.79811743869381\n",
            "99.78235432341387\n",
            "99.73991873343249\n",
            "99.7188102049946\n",
            "99.74357436610678\n",
            "99.79702897241273\n",
            "99.80413007961437\n",
            "99.8090562244488\n",
            "99.81306964585646\n",
            "99.80161154727774\n",
            "99.8094712187122\n",
            "99.82093463198973\n",
            "99.82082436072612\n",
            "99.79341013992388\n",
            "99.75318006876904\n",
            "99.78364397659837\n",
            "99.78654636772909\n",
            "99.8198269133402\n",
            "99.82195008122494\n",
            "99.81806495581561\n",
            "99.82267278848794\n",
            "99.83218135376607\n",
            "99.82414734314837\n",
            "99.81794072454778\n",
            "99.82333834816887\n",
            "99.82209155644347\n",
            "99.80772281876945\n",
            "99.79856747177038\n",
            "99.83427714041832\n",
            "99.82412420732594\n",
            "99.8247748600606\n",
            "99.82224630794914\n",
            "99.8049077481219\n",
            "99.77544740642169\n",
            "99.7759241978883\n",
            "99.78137692536528\n",
            "99.76689965920504\n",
            "99.76600310921762\n",
            "99.76894017542315\n",
            "99.75886863621281\n",
            "99.75682024405911\n",
            "99.75157591263824\n",
            "99.77126555680414\n",
            "99.74535079800172\n",
            "99.73827416785915\n",
            "99.71103009161335\n",
            "99.72731743873102\n",
            "99.71209474681052\n",
            "99.71149533580893\n",
            "99.69113869727826\n",
            "99.69573023934801\n",
            "99.74012893038189\n",
            "99.70117391105845\n",
            "99.6776194177859\n",
            "99.67691676013214\n",
            "99.68784727533166\n",
            "99.69282139733474\n",
            "99.65244847242693\n",
            "99.65443552276088\n",
            "99.54925123612966\n",
            "99.54846453097907\n",
            "99.50961238317923\n",
            "99.358289417235\n",
            "99.33543606704953\n",
            "99.50883823068597\n",
            "99.62685786215309\n",
            "99.65075470251719\n",
            "99.6379737031101\n",
            "99.70099739854868\n",
            "99.68120284043903\n"
          ],
          "name": "stdout"
        }
      ]
    },
    {
      "cell_type": "code",
      "metadata": {
        "colab": {
          "base_uri": "https://localhost:8080/"
        },
        "id": "gazpd0mgS3QD",
        "outputId": "95c96933-8b9f-4dd0-d84f-d9531cf850cc"
      },
      "source": [
        "s = 0\n",
        "for i in all_slices_knn_score:\n",
        "    for j in i:\n",
        "        if (j<99.5):\n",
        "            s+=1\n",
        "print(s)"
      ],
      "execution_count": 27,
      "outputs": [
        {
          "output_type": "stream",
          "text": [
            "578\n"
          ],
          "name": "stdout"
        }
      ]
    },
    {
      "cell_type": "code",
      "metadata": {
        "colab": {
          "base_uri": "https://localhost:8080/"
        },
        "id": "uRa9dfssS93x",
        "outputId": "dab15843-3c52-432e-9c78-593de5fc2073"
      },
      "source": [
        "736/(22*110)"
      ],
      "execution_count": 28,
      "outputs": [
        {
          "output_type": "execute_result",
          "data": {
            "text/plain": [
              "0.30413223140495865"
            ]
          },
          "metadata": {
            "tags": []
          },
          "execution_count": 28
        }
      ]
    },
    {
      "cell_type": "code",
      "metadata": {
        "colab": {
          "base_uri": "https://localhost:8080/"
        },
        "id": "9rfajNnsPMjd",
        "outputId": "4a761b99-a4e8-4471-a755-6ef5b3abcfd8"
      },
      "source": [
        "s = 0\n",
        "for i in all_slices_knn_score:\n",
        "    for j in i:\n",
        "        if (j<=99):\n",
        "            s+=1\n",
        "print(s)"
      ],
      "execution_count": 29,
      "outputs": [
        {
          "output_type": "stream",
          "text": [
            "241\n"
          ],
          "name": "stdout"
        }
      ]
    },
    {
      "cell_type": "code",
      "metadata": {
        "colab": {
          "base_uri": "https://localhost:8080/"
        },
        "id": "8-N_nq6sP099",
        "outputId": "76c994ca-1620-4f6f-e840-ceea0f72fe86"
      },
      "source": [
        "307/(22*110)"
      ],
      "execution_count": 30,
      "outputs": [
        {
          "output_type": "execute_result",
          "data": {
            "text/plain": [
              "0.1268595041322314"
            ]
          },
          "metadata": {
            "tags": []
          },
          "execution_count": 30
        }
      ]
    },
    {
      "cell_type": "code",
      "metadata": {
        "colab": {
          "base_uri": "https://localhost:8080/"
        },
        "id": "Ni9v3vu_TF0j",
        "outputId": "2cd619da-4a3a-402c-b1ca-7443016d696a"
      },
      "source": [
        "s = 0\n",
        "for i in all_slices_knn_score:\n",
        "    for j in i:\n",
        "        if (j<98.5):\n",
        "            s+=1\n",
        "print(s)\n",
        "print(s/(22*110))"
      ],
      "execution_count": 31,
      "outputs": [
        {
          "output_type": "stream",
          "text": [
            "99\n",
            "0.04090909090909091\n"
          ],
          "name": "stdout"
        }
      ]
    },
    {
      "cell_type": "code",
      "metadata": {
        "colab": {
          "base_uri": "https://localhost:8080/"
        },
        "id": "FYHxpBIVQwV2",
        "outputId": "aeadd4f0-2cb4-4c12-e76b-2f7195e210fc"
      },
      "source": [
        "s = 0\n",
        "for i in all_slices_knn_score:\n",
        "    for j in i:\n",
        "        if (j<98):\n",
        "            s+=1\n",
        "print(s)"
      ],
      "execution_count": 32,
      "outputs": [
        {
          "output_type": "stream",
          "text": [
            "19\n"
          ],
          "name": "stdout"
        }
      ]
    },
    {
      "cell_type": "code",
      "metadata": {
        "colab": {
          "base_uri": "https://localhost:8080/"
        },
        "id": "WcE4_BJ5RKr7",
        "outputId": "b33ffe4c-d972-41b7-b258-0ad543641111"
      },
      "source": [
        "9/(22*110)"
      ],
      "execution_count": 33,
      "outputs": [
        {
          "output_type": "execute_result",
          "data": {
            "text/plain": [
              "0.00371900826446281"
            ]
          },
          "metadata": {
            "tags": []
          },
          "execution_count": 33
        }
      ]
    },
    {
      "cell_type": "code",
      "metadata": {
        "id": "w9uUnFLzxq4K"
      },
      "source": [
        "temp_y = y_0[:,:,:,1].reshape((8800, 110))"
      ],
      "execution_count": 35,
      "outputs": []
    },
    {
      "cell_type": "code",
      "metadata": {
        "colab": {
          "base_uri": "https://localhost:8080/"
        },
        "id": "46wTVPYskZU_",
        "outputId": "977dbb16-1c15-43dd-9473-1c694d5c5db1"
      },
      "source": [
        "for key, value in new_correlated_block[1].items():\n",
        "    rf = RandomForestRegressor(n_estimators=40, random_state=0)   # + y_0[0][:,j:j+1]\n",
        "    temp_rf_score = cross_val_score(rf, pd.DataFrame(temp_y)[value], pd.DataFrame(temp_y)[int(key)])\n",
        "    temp_knn_val_score = cross_val_score(KNeighborsRegressor(n_neighbors=4), pd.DataFrame(temp_y)[value], pd.DataFrame(temp_y)[int(key)])\n",
        "    #print('temp_rf_score' , temp_rf_score)\n",
        "    #print('temp_knn_val_score', temp_knn_val_score)\n",
        "    print(temp_rf_score.mean(), temp_knn_val_score.mean())"
      ],
      "execution_count": 36,
      "outputs": [
        {
          "output_type": "stream",
          "text": [
            "0.9999609551715487 0.9992988700553799\n",
            "0.9999544004212503 0.9995249238666091\n",
            "0.9999440761114871 0.9996412870564291\n",
            "0.9999631373095494 0.9993717510287059\n",
            "0.9999538511081791 0.9991140044234769\n",
            "0.9999498218940053 0.9988245175621498\n",
            "0.9999354860350407 0.9989290282216471\n",
            "0.9999382193748938 0.9989677086671158\n",
            "0.999933711123124 0.999111740658339\n",
            "0.9999091153536102 0.9987271801758268\n",
            "0.9999026317314256 0.9973937350135275\n",
            "0.9999105847119221 0.9959933001468215\n",
            "0.9999081234357128 0.9971689130467227\n",
            "0.9999259166615658 0.9996178368861793\n",
            "0.9999467464224873 0.9992469827546863\n",
            "0.9999388732726346 0.9990018030538262\n",
            "0.9999569711751999 0.9986513286155587\n",
            "0.9999416890151464 0.9989868931913921\n",
            "0.9999613331802519 0.9992446827527928\n",
            "0.9999661138776998 0.9995572630288392\n",
            "0.9999308448165865 0.9994620321969722\n",
            "0.9999719689473702 0.9998191962140887\n"
          ],
          "name": "stdout"
        }
      ]
    },
    {
      "cell_type": "code",
      "metadata": {
        "colab": {
          "base_uri": "https://localhost:8080/"
        },
        "id": "Y8JPVSn2mr1e",
        "outputId": "7ec28a11-13f6-49d5-b225-0ecea78bb15b"
      },
      "source": [
        "for key, value in new_correlated_block[0].items():\n",
        "    print(key, value)"
      ],
      "execution_count": 37,
      "outputs": [
        {
          "output_type": "stream",
          "text": [
            "4 [4, 105, 104, 5, 3, 106]\n",
            "7 [7, 102, 8, 101, 6, 103]\n",
            "12 [12, 13, 97, 11, 98]\n",
            "15 [15, 16, 14, 95, 94, 96, 17, 93]\n",
            "18 [18, 19, 17, 92, 91, 20, 93, 16, 90, 94]\n",
            "21 [21, 22, 20, 23, 88, 89, 19, 87, 90, 24, 86]\n",
            "24 [24, 25, 23, 22, 26, 85, 84, 86, 27, 87, 21, 83]\n",
            "27 [27, 28, 26, 29, 25, 30, 82, 81, 83, 24, 84]\n",
            "30 [30, 29, 31, 28, 32, 27, 33, 80]\n",
            "33 [33, 34, 32, 35, 31, 36, 75, 74, 30, 37, 73]\n",
            "36 [36, 37, 35, 38, 34, 73, 39, 72, 74, 33, 40, 71, 41, 75, 70]\n",
            "39 [39, 40, 38, 41, 37, 42, 36, 70, 69, 43, 71, 68, 72, 44, 67, 35, 73, 45, 66, 74]\n",
            "73 [73, 72, 74, 71, 36, 37, 70, 75, 35, 38, 34, 69, 39, 40, 33, 68, 41]\n",
            "76 [76, 77, 75, 78]\n",
            "80 [80, 79, 81, 82, 29, 30, 28]\n",
            "83 [83, 84, 82, 85, 81, 26, 25, 27, 24, 86]\n",
            "86 [86, 87, 85, 84, 88, 23, 22, 24, 21, 25, 89, 83]\n",
            "89 [89, 88, 90, 87, 20, 21, 91, 19, 22, 86]\n",
            "92 [92, 91, 93, 18, 17, 90, 19, 94, 16, 20]\n",
            "96 [96, 95, 14, 13, 97, 15]\n",
            "101 [101, 8, 9, 7, 100, 102]\n",
            "105 [105, 4, 104, 5, 3, 106]\n"
          ],
          "name": "stdout"
        }
      ]
    },
    {
      "cell_type": "code",
      "metadata": {
        "colab": {
          "base_uri": "https://localhost:8080/"
        },
        "id": "swhs-j7NpKml",
        "outputId": "897f0709-b0b4-453a-9b23-68c3b6ea57cb"
      },
      "source": [
        "print(temp_rf_score.mean(), temp_knn_val_score.mean())"
      ],
      "execution_count": 38,
      "outputs": [
        {
          "output_type": "stream",
          "text": [
            "0.9999719689473702 0.9998191962140887\n"
          ],
          "name": "stdout"
        }
      ]
    },
    {
      "cell_type": "code",
      "metadata": {
        "colab": {
          "base_uri": "https://localhost:8080/"
        },
        "id": "PWg40J_-kZX9",
        "outputId": "92e7f8c4-aa4b-4347-b85a-1cbe8d6cd8d5"
      },
      "source": [
        "y_0[:,:,:,1].shape"
      ],
      "execution_count": 39,
      "outputs": [
        {
          "output_type": "execute_result",
          "data": {
            "text/plain": [
              "(80, 110, 110)"
            ]
          },
          "metadata": {
            "tags": []
          },
          "execution_count": 39
        }
      ]
    },
    {
      "cell_type": "code",
      "metadata": {
        "colab": {
          "base_uri": "https://localhost:8080/",
          "height": 285
        },
        "id": "aOGHSsXLkZag",
        "outputId": "d4a5b384-6ff0-4276-ed78-4118cd9cc900"
      },
      "source": [
        "temp_y = y_0[:,:,:,1].reshape((8800, 110))\n",
        "plt.imshow(temp_y[:110,:])"
      ],
      "execution_count": 40,
      "outputs": [
        {
          "output_type": "execute_result",
          "data": {
            "text/plain": [
              "<matplotlib.image.AxesImage at 0x7f4379a6dbd0>"
            ]
          },
          "metadata": {
            "tags": []
          },
          "execution_count": 40
        },
        {
          "output_type": "display_data",
          "data": {
            "image/png": "[encoded data removed]",
            "text/plain": [
              "<Figure size 432x288 with 1 Axes>"
            ]
          },
          "metadata": {
            "tags": [],
            "needs_background": "light"
          }
        }
      ]
    },
    {
      "cell_type": "code",
      "metadata": {
        "colab": {
          "base_uri": "https://localhost:8080/",
          "height": 285
        },
        "id": "IkAZNqY-w8bV",
        "outputId": "e8a51b4d-52d7-45d6-eaf9-7809d3be8071"
      },
      "source": [
        "plt.imshow(temp_y[110:220, :])"
      ],
      "execution_count": 41,
      "outputs": [
        {
          "output_type": "execute_result",
          "data": {
            "text/plain": [
              "<matplotlib.image.AxesImage at 0x7f438317cdd0>"
            ]
          },
          "metadata": {
            "tags": []
          },
          "execution_count": 41
        },
        {
          "output_type": "display_data",
          "data": {
            "image/png": "[encoded data removed]",
            "text/plain": [
              "<Figure size 432x288 with 1 Axes>"
            ]
          },
          "metadata": {
            "tags": [],
            "needs_background": "light"
          }
        }
      ]
    },
    {
      "cell_type": "code",
      "metadata": {
        "colab": {
          "base_uri": "https://localhost:8080/",
          "height": 285
        },
        "id": "OyE4rA15w8gh",
        "outputId": "5fca5487-cd56-445b-d5a1-fc240259530d"
      },
      "source": [
        "plt.imshow(temp_y[880:990, :])"
      ],
      "execution_count": 42,
      "outputs": [
        {
          "output_type": "execute_result",
          "data": {
            "text/plain": [
              "<matplotlib.image.AxesImage at 0x7f437a25bbd0>"
            ]
          },
          "metadata": {
            "tags": []
          },
          "execution_count": 42
        },
        {
          "output_type": "display_data",
          "data": {
            "image/png": "[encoded data removed]",
            "text/plain": [
              "<Figure size 432x288 with 1 Axes>"
            ]
          },
          "metadata": {
            "tags": [],
            "needs_background": "light"
          }
        }
      ]
    },
    {
      "cell_type": "code",
      "metadata": {
        "colab": {
          "base_uri": "https://localhost:8080/"
        },
        "id": "QqrTqQTKvLlb",
        "outputId": "284b7f2d-c71b-4cf8-97a3-d071da14be8d"
      },
      "source": [
        "y_0[:,:,:,1].shape"
      ],
      "execution_count": 43,
      "outputs": [
        {
          "output_type": "execute_result",
          "data": {
            "text/plain": [
              "(80, 110, 110)"
            ]
          },
          "metadata": {
            "tags": []
          },
          "execution_count": 43
        }
      ]
    },
    {
      "cell_type": "code",
      "metadata": {
        "id": "YxAIGlmfx7C8"
      },
      "source": [
        "from sklearn.preprocessing import MinMaxScaler"
      ],
      "execution_count": 44,
      "outputs": []
    },
    {
      "cell_type": "code",
      "metadata": {
        "colab": {
          "base_uri": "https://localhost:8080/"
        },
        "id": "y1_ygCq18yrP",
        "outputId": "73e4825b-9089-4e1b-ecb1-2d374c86139f"
      },
      "source": [
        "x = np.empty((66,110,110, 3))\n",
        "for i in range(66):\n",
        "    #x[i,:,:,0] = np.flipud(x_train_0[i]).T\n",
        "    for j in range(3):\n",
        "        x[i,:,:,j] = x_train_0[i]\n",
        "\n",
        "y = y_train\n",
        "x.shape, y.shape"
      ],
      "execution_count": 84,
      "outputs": [
        {
          "output_type": "execute_result",
          "data": {
            "text/plain": [
              "((66, 110, 110, 3), (66, 110, 88, 110))"
            ]
          },
          "metadata": {
            "tags": []
          },
          "execution_count": 84
        }
      ]
    },
    {
      "cell_type": "code",
      "metadata": {
        "colab": {
          "base_uri": "https://localhost:8080/"
        },
        "id": "GwDHyOkiS6PQ",
        "outputId": "3c605433-d2bc-4fe3-a4f9-1d600b623779"
      },
      "source": [
        "x_test_temp = np.empty((15,110,110, 3))\n",
        "for i in range(15):\n",
        "    for j in range(3):\n",
        "        x_test_temp[i,:,:,j] = x_test_0[i]\n",
        "\n",
        "\n",
        "y_test_temp = y_test\n",
        "x_test_temp.shape, y_test_temp.shape"
      ],
      "execution_count": 85,
      "outputs": [
        {
          "output_type": "execute_result",
          "data": {
            "text/plain": [
              "((15, 110, 110, 3), (15, 110, 88, 110))"
            ]
          },
          "metadata": {
            "tags": []
          },
          "execution_count": 85
        }
      ]
    },
    {
      "cell_type": "code",
      "metadata": {
        "colab": {
          "base_uri": "https://localhost:8080/"
        },
        "id": "n7azLH-ioPqL",
        "outputId": "9921ed45-21b2-46eb-9f47-0ac28308a892"
      },
      "source": [
        "x.min(), x_test_temp.min()"
      ],
      "execution_count": 47,
      "outputs": [
        {
          "output_type": "execute_result",
          "data": {
            "text/plain": [
              "(-0.08876650985184173, -0.03157338801359691)"
            ]
          },
          "metadata": {
            "tags": []
          },
          "execution_count": 47
        }
      ]
    },
    {
      "cell_type": "code",
      "metadata": {
        "id": "IaS6nu2gqQEl"
      },
      "source": [
        "x = x + 0.1\n",
        "x_test_temp += 0.1"
      ],
      "execution_count": 91,
      "outputs": []
    },
    {
      "cell_type": "code",
      "metadata": {
        "colab": {
          "base_uri": "https://localhost:8080/",
          "height": 285
        },
        "id": "Jl6V2Kuz-U8z",
        "outputId": "f848581e-8ece-43d8-9d6c-2293023585ad"
      },
      "source": [
        "plt.imshow(x[0,:,:, 0], cmap = 'gray')"
      ],
      "execution_count": 49,
      "outputs": [
        {
          "output_type": "execute_result",
          "data": {
            "text/plain": [
              "<matplotlib.image.AxesImage at 0x7f438340bf50>"
            ]
          },
          "metadata": {
            "tags": []
          },
          "execution_count": 49
        },
        {
          "output_type": "display_data",
          "data": {
            "image/png": "[encoded data removed]",
            "text/plain": [
              "<Figure size 432x288 with 1 Axes>"
            ]
          },
          "metadata": {
            "tags": [],
            "needs_background": "light"
          }
        }
      ]
    },
    {
      "cell_type": "code",
      "metadata": {
        "colab": {
          "base_uri": "https://localhost:8080/",
          "height": 285
        },
        "id": "Fo1doHj-85FJ",
        "outputId": "6457b38e-6902-4c06-f3da-f9d9ed69e395"
      },
      "source": [
        "plt.imshow(x[0,:, :50, 0], cmap = 'gray')"
      ],
      "execution_count": 50,
      "outputs": [
        {
          "output_type": "execute_result",
          "data": {
            "text/plain": [
              "<matplotlib.image.AxesImage at 0x7f4382f10c50>"
            ]
          },
          "metadata": {
            "tags": []
          },
          "execution_count": 50
        },
        {
          "output_type": "display_data",
          "data": {
            "image/png": "[encoded data removed]",
            "text/plain": [
              "<Figure size 432x288 with 1 Axes>"
            ]
          },
          "metadata": {
            "tags": [],
            "needs_background": "light"
          }
        }
      ]
    },
    {
      "cell_type": "code",
      "metadata": {
        "colab": {
          "base_uri": "https://localhost:8080/"
        },
        "id": "Bc5E3OrPvIS6",
        "outputId": "6c35729d-244c-49fe-8402-a91f8b0b3044"
      },
      "source": [
        "(y_0[:66,:,:,0] - x_train_0).max()"
      ],
      "execution_count": 51,
      "outputs": [
        {
          "output_type": "execute_result",
          "data": {
            "text/plain": [
              "0.0669857189426884"
            ]
          },
          "metadata": {
            "tags": []
          },
          "execution_count": 51
        }
      ]
    },
    {
      "cell_type": "code",
      "metadata": {
        "colab": {
          "base_uri": "https://localhost:8080/"
        },
        "id": "P4FXhvojwnv3",
        "outputId": "6c5b75ba-a637-4020-ea29-4a652751faff"
      },
      "source": [
        "(y_0[:66,:,:,0] - x_train_0).min(), (y_0[:66,:,:,0] - x_train_0).mean(), (y_0[:66,:,:,0] - x_train_0).max()"
      ],
      "execution_count": 52,
      "outputs": [
        {
          "output_type": "execute_result",
          "data": {
            "text/plain": [
              "(-0.1559427395745255, -0.0139788865957183, 0.0669857189426884)"
            ]
          },
          "metadata": {
            "tags": []
          },
          "execution_count": 52
        }
      ]
    },
    {
      "cell_type": "code",
      "metadata": {
        "id": "WTbU8pe73V36"
      },
      "source": [
        "from keras.layers import BatchNormalizationV1"
      ],
      "execution_count": 53,
      "outputs": []
    },
    {
      "cell_type": "code",
      "metadata": {
        "colab": {
          "base_uri": "https://localhost:8080/"
        },
        "id": "K7j6CAWpbQAk",
        "outputId": "2b33b61e-7486-4226-e422-6fd7b0e0b370"
      },
      "source": [
        "vgg_19 = VGG19(input_shape=(110,110,3), weights='imagenet', include_top=False)\n",
        "for layer in vgg_19.layers[:10]:\n",
        "    layer.trainable = False\n",
        "input = vgg_19.layers[:5]"
      ],
      "execution_count": 54,
      "outputs": [
        {
          "output_type": "stream",
          "text": [
            "Downloading data from https://storage.googleapis.com/tensorflow/keras-applications/vgg19/vgg19_weights_tf_dim_ordering_tf_kernels_notop.h5\n",
            "80142336/80134624 [==============================] - 1s 0us/step\n",
            "80150528/80134624 [==============================] - 1s 0us/step\n"
          ],
          "name": "stdout"
        }
      ]
    },
    {
      "cell_type": "code",
      "metadata": {
        "colab": {
          "base_uri": "https://localhost:8080/"
        },
        "id": "nZYBIMCAy42x",
        "outputId": "d0720701-5fc2-4134-ef35-570c2db0dc3e"
      },
      "source": [
        "vgg_16 = VGG16(input_shape=(110,110,3), weights='imagenet', include_top=False)\n",
        "for layer in vgg_16.layers[:10]:\n",
        "    layer.trainable = False\n",
        "input_16 = vgg_16.layers[:5]\n",
        "vgg_19 = VGG19(input_shape=(110,110,3), weights='imagenet', include_top=False)\n",
        "for i,layer in enumerate(vgg_19.layers[:10]):\n",
        "    layer.trainable = False\n",
        "    layer._name = layer.name + str(i)\n",
        "input_19 = vgg_19.layers[:5]\n",
        "\n",
        "model = Sequential()\n",
        "model.add(Conv2D(filters=3, kernel_size=(3,3), padding='same', activation='relu', input_shape = (110,110,3)))    #LeakyReLU(alpha=1)\n",
        "model.add(input_16[0])\n",
        "model.add(input_16[1])\n",
        "model.add(input_16[2])\n",
        "model.add(input_19[0])\n",
        "#model.add(input_19[1])\n",
        "model.add(input_19[2])\n",
        "\n",
        "model.add(BatchNormalizationV1())\n",
        "model.add(Conv2D(filters=16, kernel_size=(3,3), padding=\"same\", activation=LeakyReLU(alpha=1)))\n",
        "\n",
        "model.add(Conv2D(filters=32, kernel_size=(3,3), padding=\"same\", activation=LeakyReLU(alpha=1)))\n",
        "#model.add(BatchNormalizationV1())\n",
        "model.add(Conv2D(filters=64, kernel_size=(3,3), padding=\"same\", activation=LeakyReLU(alpha=1)))\n",
        "\n",
        "model.add(Conv2D(filters=110, kernel_size=(1,23), padding=\"valid\", activation=LeakyReLU(alpha=1)))\n",
        "#model.add(BatchNormalization())\n",
        "model.add(Conv2D(filters=110, kernel_size=(3,3), padding=\"same\", activation=LeakyReLU(alpha=1)))\n",
        "#model.add(BatchNormalization())\n",
        "\n",
        "model.add(Conv2D(filters=110, kernel_size=(3,3), padding=\"same\", activation=LeakyReLU(alpha=1)))\n",
        "model.add(BatchNormalization())\n",
        "model.add(Conv2D(filters=110, kernel_size=(3,3), padding=\"same\", activation=LeakyReLU(alpha=1)))\n",
        "model.summary()"
      ],
      "execution_count": 86,
      "outputs": [
        {
          "output_type": "stream",
          "text": [
            "Model: \"sequential_6\"\n",
            "_________________________________________________________________\n",
            "Layer (type)                 Output Shape              Param #   \n",
            "=================================================================\n",
            "conv2d_44 (Conv2D)           (None, 110, 110, 3)       84        \n",
            "_________________________________________________________________\n",
            "input_6 (InputLayer)         multiple                  0         \n",
            "_________________________________________________________________\n",
            "block1_conv1 (Conv2D)        (None, 110, 110, 64)      1792      \n",
            "_________________________________________________________________\n",
            "block1_conv2 (Conv2D)        (None, 110, 110, 64)      36928     \n",
            "_________________________________________________________________\n",
            "input_70 (InputLayer)        multiple                  0         \n",
            "_________________________________________________________________\n",
            "block1_conv22 (Conv2D)       (None, 110, 110, 64)      36928     \n",
            "_________________________________________________________________\n",
            "batch_normalization_10 (Batc (None, 110, 110, 64)      256       \n",
            "_________________________________________________________________\n",
            "conv2d_45 (Conv2D)           (None, 110, 110, 16)      9232      \n",
            "_________________________________________________________________\n",
            "conv2d_46 (Conv2D)           (None, 110, 110, 32)      4640      \n",
            "_________________________________________________________________\n",
            "conv2d_47 (Conv2D)           (None, 110, 110, 64)      18496     \n",
            "_________________________________________________________________\n",
            "conv2d_48 (Conv2D)           (None, 110, 88, 110)      162030    \n",
            "_________________________________________________________________\n",
            "conv2d_49 (Conv2D)           (None, 110, 88, 110)      109010    \n",
            "_________________________________________________________________\n",
            "conv2d_50 (Conv2D)           (None, 110, 88, 110)      109010    \n",
            "_________________________________________________________________\n",
            "batch_normalization_11 (Batc (None, 110, 88, 110)      440       \n",
            "_________________________________________________________________\n",
            "conv2d_51 (Conv2D)           (None, 110, 88, 110)      109010    \n",
            "=================================================================\n",
            "Total params: 597,856\n",
            "Trainable params: 521,860\n",
            "Non-trainable params: 75,996\n",
            "_________________________________________________________________\n"
          ],
          "name": "stdout"
        }
      ]
    },
    {
      "cell_type": "code",
      "metadata": {
        "colab": {
          "base_uri": "https://localhost:8080/"
        },
        "id": "0bEwJNqxWNtd",
        "outputId": "8ddfdbec-66db-4f5a-c0f6-56dc04ac5e39"
      },
      "source": [
        "model.compile(optimizer= 'adam' , loss = 'mean_squared_error', metrics = ['accuracy'])                  #  Adam(learning_rate = 0.0001)\n",
        "history = model.fit(x, y, batch_size=32, validation_data=(x_test_temp, y_test_temp), epochs = 10)"
      ],
      "execution_count": 87,
      "outputs": [
        {
          "output_type": "stream",
          "text": [
            "Epoch 1/10\n",
            "3/3 [==============================] - 60s 16s/step - loss: 0.9017 - accuracy: 0.0103 - val_loss: 241.3642 - val_accuracy: 0.0061\n",
            "Epoch 2/10\n",
            "3/3 [==============================] - 58s 16s/step - loss: 0.2122 - accuracy: 0.0074 - val_loss: 647.3964 - val_accuracy: 0.0098\n",
            "Epoch 3/10\n",
            "3/3 [==============================] - 58s 16s/step - loss: 0.1076 - accuracy: 0.0077 - val_loss: 655.9484 - val_accuracy: 0.0102\n",
            "Epoch 4/10\n",
            "3/3 [==============================] - 58s 16s/step - loss: 0.0645 - accuracy: 0.0078 - val_loss: 513.9755 - val_accuracy: 0.0104\n",
            "Epoch 5/10\n",
            "3/3 [==============================] - 58s 16s/step - loss: 0.0485 - accuracy: 0.0072 - val_loss: 305.1544 - val_accuracy: 0.0071\n",
            "Epoch 6/10\n",
            "3/3 [==============================] - 58s 16s/step - loss: 0.0347 - accuracy: 0.0125 - val_loss: 224.9075 - val_accuracy: 0.0055\n",
            "Epoch 7/10\n",
            "3/3 [==============================] - 58s 16s/step - loss: 0.0251 - accuracy: 0.0144 - val_loss: 123.1312 - val_accuracy: 0.0064\n",
            "Epoch 8/10\n",
            "3/3 [==============================] - 58s 16s/step - loss: 0.0192 - accuracy: 0.0073 - val_loss: 80.1454 - val_accuracy: 0.0975\n",
            "Epoch 9/10\n",
            "3/3 [==============================] - 58s 16s/step - loss: 0.0144 - accuracy: 0.0069 - val_loss: 71.5372 - val_accuracy: 0.0105\n",
            "Epoch 10/10\n",
            "3/3 [==============================] - 58s 16s/step - loss: 0.0116 - accuracy: 0.0071 - val_loss: 48.3163 - val_accuracy: 0.0097\n"
          ],
          "name": "stdout"
        }
      ]
    },
    {
      "cell_type": "code",
      "metadata": {
        "colab": {
          "base_uri": "https://localhost:8080/",
          "height": 388
        },
        "id": "hlHBar62Z7eT",
        "outputId": "8f2bcef5-b897-43fb-a202-a65fe942c1c8"
      },
      "source": [
        "plot_learning_curve(history)"
      ],
      "execution_count": 74,
      "outputs": [
        {
          "output_type": "display_data",
          "data": {
            "image/png": "[encoded data removed]",
            "text/plain": [
              "<Figure size 1080x432 with 1 Axes>"
            ]
          },
          "metadata": {
            "tags": [],
            "needs_background": "light"
          }
        }
      ]
    },
    {
      "cell_type": "code",
      "metadata": {
        "colab": {
          "base_uri": "https://localhost:8080/",
          "height": 374
        },
        "id": "frIVcxyaaA0L",
        "outputId": "2238895e-be25-400e-9426-c88ee4c85b85"
      },
      "source": [
        "plot_accuracy_curve(history)"
      ],
      "execution_count": 75,
      "outputs": [
        {
          "output_type": "display_data",
          "data": {
            "image/png": "[encoded data removed]",
            "text/plain": [
              "<Figure size 1080x432 with 1 Axes>"
            ]
          },
          "metadata": {
            "tags": [],
            "needs_background": "light"
          }
        }
      ]
    },
    {
      "cell_type": "code",
      "metadata": {
        "colab": {
          "base_uri": "https://localhost:8080/",
          "height": 428
        },
        "id": "1ie37TrB55VZ",
        "outputId": "09ba41eb-f2dc-445b-dee6-fc2e430bef08"
      },
      "source": [
        "plot_loss_curve(history)"
      ],
      "execution_count": 76,
      "outputs": [
        {
          "output_type": "display_data",
          "data": {
            "image/png": "[encoded data removed]",
            "text/plain": [
              "<Figure size 1440x504 with 1 Axes>"
            ]
          },
          "metadata": {
            "tags": [],
            "needs_background": "light"
          }
        }
      ]
    },
    {
      "cell_type": "code",
      "metadata": {
        "id": "4S1By_OJ76R8"
      },
      "source": [
        "scaler = MinMaxScaler()\n",
        "x_temp = scaler.fit_transform(x.reshape((66*110*110*3, 1)))\n",
        "x_temp = x_temp.reshape((66, 110, 110, 3))\n",
        "x_test_temp = scaler.transform(x_test_temp.reshape((15*110*110*3, 1))).reshape(15, 110, 110, 3)"
      ],
      "execution_count": 60,
      "outputs": []
    },
    {
      "cell_type": "code",
      "metadata": {
        "id": "IGqWAPc3y46k"
      },
      "source": [
        "scaler = MinMaxScaler()\n",
        "y_temp = scaler.fit_transform(y.reshape((66*110*88*110, 1)))\n",
        "y_temp = y_temp.reshape((66, 110, 88, 110))\n",
        "y_test_temp = scaler.transform(y_test_temp.reshape((15*110*88*110, 1))).reshape(15, 110, 88, 110)"
      ],
      "execution_count": 61,
      "outputs": []
    },
    {
      "cell_type": "code",
      "metadata": {
        "colab": {
          "base_uri": "https://localhost:8080/"
        },
        "id": "vQvI5NYu4KbD",
        "outputId": "83a81603-52bc-44f1-97fd-ed1f7e35e4c4"
      },
      "source": [
        "x_test_temp.min(), y_test_temp.min()"
      ],
      "execution_count": 62,
      "outputs": [
        {
          "output_type": "execute_result",
          "data": {
            "text/plain": [
              "(0.3135016262705489, 0.0)"
            ]
          },
          "metadata": {
            "tags": []
          },
          "execution_count": 62
        }
      ]
    },
    {
      "cell_type": "code",
      "metadata": {
        "colab": {
          "base_uri": "https://localhost:8080/"
        },
        "id": "sfPsICUE4Zxq",
        "outputId": "29870fbe-0888-4dfa-b02b-ee51186c7ba5"
      },
      "source": [
        "x_temp.min()"
      ],
      "execution_count": 63,
      "outputs": [
        {
          "output_type": "execute_result",
          "data": {
            "text/plain": [
              "0.0"
            ]
          },
          "metadata": {
            "tags": []
          },
          "execution_count": 63
        }
      ]
    },
    {
      "cell_type": "code",
      "metadata": {
        "colab": {
          "base_uri": "https://localhost:8080/"
        },
        "id": "c0PyXMjVV-sr",
        "outputId": "290b99d7-2db1-409f-cb2d-6920dff7c4c7"
      },
      "source": [
        "x_test_temp.min(), y_test_temp.min()"
      ],
      "execution_count": 64,
      "outputs": [
        {
          "output_type": "execute_result",
          "data": {
            "text/plain": [
              "(0.3135016262705489, 0.0)"
            ]
          },
          "metadata": {
            "tags": []
          },
          "execution_count": 64
        }
      ]
    },
    {
      "cell_type": "code",
      "metadata": {
        "id": "XPtYL1E5WMya"
      },
      "source": [
        "x = x+0.1\n",
        "y = y+0.1\n",
        "x_test_temp = x_test_temp+0.1\n",
        "y_test_temp = y_test_temp+0.1"
      ],
      "execution_count": 65,
      "outputs": []
    },
    {
      "cell_type": "code",
      "metadata": {
        "colab": {
          "base_uri": "https://localhost:8080/"
        },
        "id": "8sH-GVJzczxo",
        "outputId": "9a1935cd-ee3c-48cc-dac4-6f3adf2a2d70"
      },
      "source": [
        "tf.keras.optimizers.Adadelta(learning_rate=0.001, rho=0.95, epsilon=1e-07, name='Adadelta')\n",
        "\n",
        "tf.keras.optimizers.Adagrad(learning_rate=0.0008, initial_accumulator_value=0.1, epsilon=1e-07, name = 'Adagrad')\n",
        "\n",
        "tf.keras.optimizers.Adam(learning_rate=0.001, beta_1=0.9, beta_2=0.999, epsilon=1e-07, amsgrad=False, name='Adam')\n",
        "\n",
        "tf.keras.optimizers.Adamax(learning_rate=0.001, beta_1=0.9, beta_2=0.999, epsilon=1e-07, name='Adamax')\n",
        "\n",
        "tf.keras.optimizers.Ftrl(learning_rate=0.001, learning_rate_power=-0.5, initial_accumulator_value=0.1,l1_regularization_strength=0.0,\n",
        "                         l2_regularization_strength=0.0, name='Ftrl', l2_shrinkage_regularization_strength=0.0, beta=0.0)\n",
        "\n",
        "tf.keras.optimizers.Nadam(learning_rate=0.001, beta_1=0.9, beta_2=0.999, epsilon=1e-07, name='Nadam')\n",
        "\n"
      ],
      "execution_count": 66,
      "outputs": [
        {
          "output_type": "execute_result",
          "data": {
            "text/plain": [
              "<tensorflow.python.keras.optimizer_v2.nadam.Nadam at 0x7f4379960490>"
            ]
          },
          "metadata": {
            "tags": []
          },
          "execution_count": 66
        }
      ]
    },
    {
      "cell_type": "code",
      "metadata": {
        "colab": {
          "base_uri": "https://localhost:8080/"
        },
        "id": "RxFJCc3WAUYd",
        "outputId": "6d866ca6-8a0e-490a-da81-b0dbcced9ed9"
      },
      "source": [
        "vgg_16 = VGG16(input_shape=(110,110,3), weights='imagenet', include_top=False)"
      ],
      "execution_count": 67,
      "outputs": [
        {
          "output_type": "stream",
          "text": [
            "Downloading data from https://storage.googleapis.com/tensorflow/keras-applications/vgg16/vgg16_weights_tf_dim_ordering_tf_kernels_notop.h5\n",
            "58892288/58889256 [==============================] - 1s 0us/step\n",
            "58900480/58889256 [==============================] - 1s 0us/step\n"
          ],
          "name": "stdout"
        }
      ]
    },
    {
      "cell_type": "code",
      "metadata": {
        "colab": {
          "base_uri": "https://localhost:8080/"
        },
        "id": "Z3InczwbqgXu",
        "outputId": "9354457c-a235-4e32-d1e4-1f1cff86b947"
      },
      "source": [
        "vgg_16 = VGG16(input_shape=(110,110,3), weights='imagenet', include_top=False)\n",
        "for layer in vgg_16.layers[:10]:\n",
        "    layer.trainable = False\n",
        "input = vgg_16.layers[:5]\n",
        "model = Sequential()\n",
        "model.add(Conv2D(filters=3, kernel_size=(3,3), padding='same', activation='relu', input_shape = (110,110,3)))    #LeakyReLU(alpha=1)\n",
        "model.add(input[0])\n",
        "model.add(input[1])\n",
        "model.add(input[2])\n",
        "\n",
        "model.add(Conv2D(filters=110, kernel_size=(1,23), padding=\"valid\", activation='relu'))\n",
        "model.add(Conv2D(filters=110, kernel_size=(3,3), padding=\"same\", activation='relu'))\n",
        "model.add(Conv2D(filters=110, kernel_size=(3,3), padding=\"same\", activation='relu'))\n",
        "\n",
        "model.summary()"
      ],
      "execution_count": 98,
      "outputs": [
        {
          "output_type": "stream",
          "text": [
            "Model: \"sequential_10\"\n",
            "_________________________________________________________________\n",
            "Layer (type)                 Output Shape              Param #   \n",
            "=================================================================\n",
            "conv2d_64 (Conv2D)           (None, 110, 110, 3)       84        \n",
            "_________________________________________________________________\n",
            "input_11 (InputLayer)        multiple                  0         \n",
            "_________________________________________________________________\n",
            "block1_conv1 (Conv2D)        (None, 110, 110, 64)      1792      \n",
            "_________________________________________________________________\n",
            "block1_conv2 (Conv2D)        (None, 110, 110, 64)      36928     \n",
            "_________________________________________________________________\n",
            "conv2d_65 (Conv2D)           (None, 110, 88, 110)      162030    \n",
            "_________________________________________________________________\n",
            "conv2d_66 (Conv2D)           (None, 110, 88, 110)      109010    \n",
            "_________________________________________________________________\n",
            "conv2d_67 (Conv2D)           (None, 110, 88, 110)      109010    \n",
            "=================================================================\n",
            "Total params: 418,854\n",
            "Trainable params: 380,134\n",
            "Non-trainable params: 38,720\n",
            "_________________________________________________________________\n"
          ],
          "name": "stdout"
        }
      ]
    },
    {
      "cell_type": "code",
      "metadata": {
        "colab": {
          "base_uri": "https://localhost:8080/"
        },
        "id": "e-wU177pqgaD",
        "outputId": "3b21b04d-5faf-4c9b-bcbf-6ec094360a59"
      },
      "source": [
        "model.compile(loss = 'mean_squared_error', optimizer= 'adam', metrics = ['accuracy'])                        # Adam(learning_rate=0.0008)\n",
        "history = model.fit(x, y, batch_size=32, validation_data=(x_test_temp, y_test_temp), epochs = 10)"
      ],
      "execution_count": 99,
      "outputs": [
        {
          "output_type": "stream",
          "text": [
            "Epoch 1/10\n",
            "3/3 [==============================] - 38s 10s/step - loss: 0.4064 - accuracy: 0.0065 - val_loss: 0.0042 - val_accuracy: 0.0088\n",
            "Epoch 2/10\n",
            "3/3 [==============================] - 37s 10s/step - loss: 0.0036 - accuracy: 0.0122 - val_loss: 0.0015 - val_accuracy: 0.1289\n",
            "Epoch 3/10\n",
            "3/3 [==============================] - 37s 10s/step - loss: 0.0015 - accuracy: 0.1313 - val_loss: 0.0015 - val_accuracy: 0.1530\n",
            "Epoch 4/10\n",
            "3/3 [==============================] - 37s 10s/step - loss: 0.0015 - accuracy: 0.1552 - val_loss: 0.0015 - val_accuracy: 0.1532\n",
            "Epoch 5/10\n",
            "3/3 [==============================] - 37s 10s/step - loss: 0.0015 - accuracy: 0.1562 - val_loss: 0.0015 - val_accuracy: 0.1532\n",
            "Epoch 6/10\n",
            "3/3 [==============================] - 37s 10s/step - loss: 0.0015 - accuracy: 0.1566 - val_loss: 0.0015 - val_accuracy: 0.1535\n",
            "Epoch 7/10\n",
            "3/3 [==============================] - 37s 10s/step - loss: 0.0015 - accuracy: 0.1595 - val_loss: 0.0015 - val_accuracy: 0.1535\n",
            "Epoch 8/10\n",
            "3/3 [==============================] - 37s 10s/step - loss: 0.0015 - accuracy: 0.1557 - val_loss: 0.0015 - val_accuracy: 0.1536\n",
            "Epoch 9/10\n",
            "3/3 [==============================] - 38s 10s/step - loss: 0.0015 - accuracy: 0.1562 - val_loss: 0.0015 - val_accuracy: 0.1536\n",
            "Epoch 10/10\n",
            "3/3 [==============================] - 37s 10s/step - loss: 0.0015 - accuracy: 0.1584 - val_loss: 0.0015 - val_accuracy: 0.1536\n"
          ],
          "name": "stdout"
        }
      ]
    },
    {
      "cell_type": "code",
      "metadata": {
        "colab": {
          "base_uri": "https://localhost:8080/",
          "height": 388
        },
        "id": "hXFz5ifsZwLl",
        "outputId": "c4da48a4-345e-4826-a2f7-3119ecbea49a"
      },
      "source": [
        "plot_learning_curve(history)"
      ],
      "execution_count": 100,
      "outputs": [
        {
          "output_type": "display_data",
          "data": {
            "image/png": "[encoded data removed]",
            "text/plain": [
              "<Figure size 1080x432 with 1 Axes>"
            ]
          },
          "metadata": {
            "tags": [],
            "needs_background": "light"
          }
        }
      ]
    },
    {
      "cell_type": "code",
      "metadata": {
        "colab": {
          "base_uri": "https://localhost:8080/",
          "height": 374
        },
        "id": "IVUsTyRsaEH5",
        "outputId": "7ba10a8f-507f-46e4-86b7-f5d744271103"
      },
      "source": [
        "plot_accuracy_curve(history)"
      ],
      "execution_count": 101,
      "outputs": [
        {
          "output_type": "display_data",
          "data": {
            "image/png": "[encoded data removed]",
            "text/plain": [
              "<Figure size 1080x432 with 1 Axes>"
            ]
          },
          "metadata": {
            "tags": [],
            "needs_background": "light"
          }
        }
      ]
    },
    {
      "cell_type": "code",
      "metadata": {
        "colab": {
          "base_uri": "https://localhost:8080/",
          "height": 428
        },
        "id": "ogz1WcGXCkvX",
        "outputId": "d1205bda-81b4-4824-f640-d6d227e7e7fb"
      },
      "source": [
        "plot_loss_curve(history)"
      ],
      "execution_count": 103,
      "outputs": [
        {
          "output_type": "display_data",
          "data": {
            "image/png": "[encoded data removed]",
            "text/plain": [
              "<Figure size 1440x504 with 1 Axes>"
            ]
          },
          "metadata": {
            "tags": [],
            "needs_background": "light"
          }
        }
      ]
    },
    {
      "cell_type": "code",
      "metadata": {
        "colab": {
          "base_uri": "https://localhost:8080/",
          "height": 128
        },
        "id": "4pJ1Cd0UClLg",
        "outputId": "7698e6f1-854a-4ae1-a275-4abeecf560f6"
      },
      "source": [
        "|"
      ],
      "execution_count": 104,
      "outputs": [
        {
          "output_type": "error",
          "ename": "SyntaxError",
          "evalue": "ignored",
          "traceback": [
            "\u001b[0;36m  File \u001b[0;32m\"<ipython-input-104-4b37ef281455>\"\u001b[0;36m, line \u001b[0;32m1\u001b[0m\n\u001b[0;31m    |\u001b[0m\n\u001b[0m    ^\u001b[0m\n\u001b[0;31mSyntaxError\u001b[0m\u001b[0;31m:\u001b[0m invalid syntax\n"
          ]
        }
      ]
    },
    {
      "cell_type": "code",
      "metadata": {
        "colab": {
          "base_uri": "https://localhost:8080/",
          "height": 265
        },
        "id": "pd4tSfTMT8iQ",
        "outputId": "6bfb2a66-107a-4f65-af6a-413d891af89d"
      },
      "source": [
        "X = y_train_0[0,0,:,:]\n",
        "Y = y_train_0[0,:,0,:]\n",
        "Z = y_train_0[0,:,:,0]\n",
        "ax = plt.axes(projection = '3d')\n",
        "ax.plot_surface(X,Y,Z, rstride = 1, cstride = 1, cmap='gray', edgecolor = 'none')"
      ],
      "execution_count": 102,
      "outputs": [
        {
          "output_type": "execute_result",
          "data": {
            "text/plain": [
              "<mpl_toolkits.mplot3d.art3d.Poly3DCollection at 0x7f436f2d6390>"
            ]
          },
          "metadata": {
            "tags": []
          },
          "execution_count": 102
        },
        {
          "output_type": "display_data",
          "data": {
            "image/png": "[encoded data removed]",
            "text/plain": [
              "<Figure size 432x288 with 1 Axes>"
            ]
          },
          "metadata": {
            "tags": [],
            "needs_background": "light"
          }
        }
      ]
    },
    {
      "cell_type": "code",
      "metadata": {
        "id": "xMIWy1djVaP0"
      },
      "source": [
        "X = np.linspace(-6,6)"
      ],
      "execution_count": null,
      "outputs": []
    },
    {
      "cell_type": "code",
      "metadata": {
        "id": "H0roRg8uJfy7"
      },
      "source": [
        "from keras.applications.resnet import ResNet"
      ],
      "execution_count": null,
      "outputs": []
    },
    {
      "cell_type": "code",
      "metadata": {
        "id": "xIPC9avuNtLz"
      },
      "source": [
        "y_train_0.shape"
      ],
      "execution_count": null,
      "outputs": []
    },
    {
      "cell_type": "code",
      "metadata": {
        "id": "sLdjHmRiOEiW"
      },
      "source": [
        "x.shape"
      ],
      "execution_count": null,
      "outputs": []
    },
    {
      "cell_type": "code",
      "metadata": {
        "id": "evCjH1LDM33p"
      },
      "source": [
        "y = np.empty((66,88,110))\n",
        "y_test_temp = np.empty((15,88,110))\n",
        "for i in range(66):\n",
        "    y = y_train[i][:,:,0].T\n",
        "for i in range(15):\n",
        "    y_test_temp = y_test[i][:,:,0].T"
      ],
      "execution_count": null,
      "outputs": []
    },
    {
      "cell_type": "code",
      "metadata": {
        "id": "IblcGzPjJbXw"
      },
      "source": [
        "model = Sequential()\n",
        "\n",
        "model.add(Conv2D(filters=3, kernel_size=(3,3), padding='same', activation=LeakyReLU(alpha=1), input_shape = (110,110,3)))    #LeakyReLU(alpha=1)\n",
        "#model.add(Conv2D(filters=110, kernel_size=(1,23), padding=\"valid\", activation=LeakyReLU(alpha=1)))\n",
        "model.add(Conv2D(filters=32, kernel_size=(3,3), padding=\"same\", activation=LeakyReLU(alpha=1)))\n",
        "model.add(Conv2D(filters=64, kernel_size=(3,3), padding=\"same\", activation=LeakyReLU(alpha=1)))\n",
        "model.add(Conv2D(filters=128, kernel_size=(3,3), padding=\"same\", activation=LeakyReLU(alpha=1)))\n",
        "model.add(Conv2D(filters=256, kernel_size=(3,3), padding=\"same\", activation=LeakyReLU(alpha=1)))\n",
        "#model.add(Conv2D(filters=512, kernel_size=(3,3), padding=\"same\", activation=LeakyReLU(alpha=1)))\n",
        "model.add(Conv2D(filters=512, kernel_size=(3,3), padding=\"same\", activation=LeakyReLU(alpha=1)))\n",
        "model.add(Conv2D(filters=256, kernel_size=(3,3), padding=\"same\", activation=LeakyReLU(alpha=1)))\n",
        "model.add(Conv2D(filters=128, kernel_size=(3,3), padding=\"same\", activation=LeakyReLU(alpha=1)))\n",
        "#model.add(Conv2D(filters=110, kernel_size=(3,3), padding=\"same\", activation=LeakyReLU(alpha=1)))\n",
        "model.add(Conv2D(filters=110, kernel_size=(1,23), padding=\"valid\", activation=LeakyReLU(alpha=1)))\n",
        "\n",
        "model.summary()"
      ],
      "execution_count": null,
      "outputs": []
    },
    {
      "cell_type": "code",
      "metadata": {
        "id": "7ckk1YqA8GhK"
      },
      "source": [
        "model = Sequential()\n",
        "\n",
        "model.add(Conv1D(filters=110, kernel_size=3, padding='same', activation=LeakyReLU(alpha=1), input_shape = (88,110)))    #LeakyReLU(alpha=1)\n",
        "#model.add(Conv2D(filters=110, kernel_size=(1,23), padding=\"valid\", activation=LeakyReLU(alpha=1)))\n",
        "model.add(Conv1D(filters=64, kernel_size=3, padding=\"same\", activation=LeakyReLU(alpha=1)))\n",
        "model.add(Conv1D(filters=32, kernel_size=3, padding=\"same\", activation=LeakyReLU(alpha=1)))\n",
        "model.add(Conv1D(filters=16, kernel_size=3, padding=\"same\", activation=LeakyReLU(alpha=1)))\n",
        "#model.add(Conv1D(filters=256, kernel_size=3, padding=\"same\", activation=LeakyReLU(alpha=1)))\n",
        "#model.add(Conv2D(filters=512, kernel_size=(3,3), padding=\"same\", activation=LeakyReLU(alpha=1)))\n",
        "model.add(Conv1D(filters=512, kernel_size=3, padding=\"same\", activation=LeakyReLU(alpha=1)))\n",
        "##model.add(Conv1D(filters=256, kernel_size=3, padding=\"same\", activation=LeakyReLU(alpha=1)))\n",
        "#model.add(Conv1D(filters=128, kernel_size=3, padding=\"same\", activation=LeakyReLU(alpha=1)))\n",
        "#model.add(Conv2D(filters=110, kernel_size=(3,3), padding=\"same\", activation=LeakyReLU(alpha=1)))\n",
        "model.add(Conv1D(filters=1, kernel_size=3, padding=\"same\", activation=LeakyReLU(alpha=1)))\n",
        "\n",
        "model.summary()"
      ],
      "execution_count": null,
      "outputs": []
    },
    {
      "cell_type": "code",
      "metadata": {
        "id": "abiHkAjqapDf"
      },
      "source": [
        "model.compile(loss = 'mean_squared_error', optimizer= Adam(learning_rate=0.0005), metrics = ['accuracy'])                        # Adam(learning_rate=0.0008)Adagrad\n",
        "history = model.fit(y, x[:,:, :1, 0], batch_size=32, validation_data=(y_test_temp, x_test_temp[:,:,:1,0]), epochs = 50)"
      ],
      "execution_count": null,
      "outputs": []
    },
    {
      "cell_type": "code",
      "metadata": {
        "id": "qA5eMx0DOT3n"
      },
      "source": [
        "x[:,:, :1, 0].shape, y.shape"
      ],
      "execution_count": null,
      "outputs": []
    },
    {
      "cell_type": "code",
      "metadata": {
        "id": "YD_7UBof94s-"
      },
      "source": [
        "plot_learning_curve(history)"
      ],
      "execution_count": null,
      "outputs": []
    },
    {
      "cell_type": "code",
      "metadata": {
        "id": "u96puxCs_aLc"
      },
      "source": [
        "plot_loss_curve(history)"
      ],
      "execution_count": null,
      "outputs": []
    },
    {
      "cell_type": "code",
      "metadata": {
        "id": "KvXw4hKLqgcy"
      },
      "source": [
        "vgg_19 = VGG19(input_shape=(110,110,3), weights='imagenet', include_top=False)\n",
        "for layer in vgg_19.layers[:10]:\n",
        "    layer.trainable = False\n",
        "input = vgg_19.layers[:5]\n",
        "model = Sequential()\n",
        "model.add(Conv2D(filters=3, kernel_size=(3,3), padding='same', activation='relu', input_shape = (110,110,3)))    #LeakyReLU(alpha=1)\n",
        "model.add(input[0])\n",
        "model.add(input[1])\n",
        "model.add(input[2])\n",
        "\n",
        "model.add(Conv2D(filters=64, kernel_size=(3,3), padding=\"same\", activation='relu'))\n",
        "model.add(Conv2D(filters=64, kernel_size=(3,3), padding=\"same\", activation='relu'))\n",
        "model.add(Conv2D(filters=96, kernel_size=(3,3), padding=\"same\", activation='relu'))\n",
        "model.add(Conv2D(filters=96, kernel_size=(3,3), padding=\"same\", activation='relu'))\n",
        "\n",
        "model.add(Conv2D(filters=110, kernel_size=(1,23), padding=\"valid\", activation='relu'))\n",
        "model.add(Conv2D(filters=110, kernel_size=(3,3), padding=\"same\", activation='relu'))\n",
        "#model.add(x[3])\n",
        "#model.add(x[4])\n",
        "#model = Model()\n",
        "model.summary()"
      ],
      "execution_count": null,
      "outputs": []
    },
    {
      "cell_type": "code",
      "metadata": {
        "id": "DfB06qsm3ICE"
      },
      "source": [
        "model.compile(loss = 'mean_squared_error', optimizer= 'adam', metrics = ['accuracy']) \n",
        "history = model.fit(x, y, batch_size=32, validation_data=(x_test_temp, y_test_temp), epochs = 20)"
      ],
      "execution_count": null,
      "outputs": []
    },
    {
      "cell_type": "code",
      "metadata": {
        "id": "p1XMVCChsCQI"
      },
      "source": [
        "plot_learning_curve(history, 20)"
      ],
      "execution_count": null,
      "outputs": []
    },
    {
      "cell_type": "code",
      "metadata": {
        "id": "X5RUy3xPsHC7"
      },
      "source": [
        "plot_accuracy_curve(history, 20)"
      ],
      "execution_count": null,
      "outputs": []
    },
    {
      "cell_type": "code",
      "metadata": {
        "id": "eKL7prJAfbGY"
      },
      "source": [
        "vgg_16 = VGG16(input_shape=(110,110,3), weights='imagenet', include_top=False)\n",
        "for layer in vgg_16.layers[:10]:\n",
        "    layer.trainable = False\n",
        "input_16 = vgg_16.layers[:5]\n",
        "vgg_19 = VGG19(input_shape=(110,110,3), weights='imagenet', include_top=False)\n",
        "for i,layer in enumerate(vgg_19.layers[:10]):\n",
        "    layer.trainable = False\n",
        "    layer._name = layer.name + str(i)\n",
        "input_19 = vgg_19.layers[:5]\n",
        "\n",
        "model = Sequential()\n",
        "model.add(Conv2D(filters=3, kernel_size=(3,3), padding='same', activation='relu', input_shape = (110,110,3)))    #LeakyReLU(alpha=1)\n",
        "model.add(input_16[0])\n",
        "model.add(input_16[1])\n",
        "model.add(input_16[2])\n",
        "model.add(input_19[0])\n",
        "#model.add(input_19[1])\n",
        "model.add(input_19[2])\n",
        "\n",
        "model.add(Conv2D(filters=110, kernel_size=(1,23), padding=\"valid\", activation='relu'))\n",
        "model.add(Conv2D(filters=110, kernel_size=(3,3), padding=\"same\", activation='relu'))\n",
        "model.add(Conv2D(filters=110, kernel_size=(3,3), padding=\"same\", activation='relu'))\n",
        "#model.add(x[3])\n",
        "#model.add(x[4])\n",
        "#model = Model()\n",
        "model.summary()"
      ],
      "execution_count": null,
      "outputs": []
    },
    {
      "cell_type": "code",
      "metadata": {
        "id": "jRnwt3Mh3cQa"
      },
      "source": [
        "from keras.applications import  efficientnet, imagenet_utils, inception_resnet_v2, inception_v3, mobilenet, mobilenet_v2, mobilenet_v3, nasnet, resnet50, resnet_v2, vgg16, vgg19, xception"
      ],
      "execution_count": null,
      "outputs": []
    },
    {
      "cell_type": "code",
      "metadata": {
        "id": "JlqYQ6VotlMn"
      },
      "source": [
        "l1 = ['densenet', 'efficientnet', 'imagenet_utils', 'inception_resnet_v2', 'inception_v3', 'mobilenet', 'mobilenet_v2', 'mobilenet_v3', 'nasnet', 'resnet50', 'resnet_v2', 'vgg16', 'vgg19', 'xception']"
      ],
      "execution_count": null,
      "outputs": []
    },
    {
      "cell_type": "code",
      "metadata": {
        "id": "uIhm5Z7jS_vj"
      },
      "source": [
        "l2 = [['DenseNet121', 'DenseNet169', 'DenseNet201'], ['EfficientNetB0', 'EfficientNetB1', 'EfficientNetB2', 'EfficientNetB3', 'EfficientNetB4', 'EfficientNetB5', 'EfficientNetB7'] , 'decode_predictions', 'InceptionResNetV2', 'InceptionV3', 'MobileNet', 'MobileNetV2', 'NASNetMobile', 'ResNet50', 'ResNet50V2', 'VGG16', 'VGG19', 'Xception']"
      ],
      "execution_count": null,
      "outputs": []
    },
    {
      "cell_type": "code",
      "metadata": {
        "id": "FbqO7WDFv0mB"
      },
      "source": [
        "l = ['EfficientNetB0', 'EfficientNetB1', 'EfficientNetB2', 'EfficientNetB3', 'EfficientNetB4', 'EfficientNetB5', 'EfficientNetB6', 'EfficientNetB7']"
      ],
      "execution_count": null,
      "outputs": []
    },
    {
      "cell_type": "code",
      "metadata": {
        "id": "C8spnPLGDjYi"
      },
      "source": [
        "def check_model(l1, l2):\n",
        "    for k,i in enumerate(l1):\n",
        "        for j in l2[k]:    \n",
        "            vgg = i[:].j(input_shape=(110,110,3), weights='imagenet', include_top=False)\n",
        "            for layer in vgg_19.layers[:10]:\n",
        "                layer.trainable = False\n",
        "            input = vgg_19.layers[:5]\n",
        "            model = Sequential()\n",
        "            model.add(Conv2D(filters=3, kernel_size=(3,3), padding='same', activation='relu', input_shape = (110,110,3)))    #LeakyReLU(alpha=1)\n",
        "            model.add(input[0])\n",
        "            model.add(input[1])\n",
        "            model.add(input[2])\n",
        "\n",
        "\n",
        "            model.add(Conv2D(filters=110, kernel_size=(1,23), padding=\"valid\", activation='relu'))\n",
        "            model.add(Conv2D(filters=110, kernel_size=(3,3), padding=\"same\", activation='relu'))\n",
        "            #model.add(x[3])\n",
        "            #model.add(x[4])\n",
        "            #model = Model()\n",
        "            model.summary()"
      ],
      "execution_count": null,
      "outputs": []
    },
    {
      "cell_type": "code",
      "metadata": {
        "id": "KLLGQfOwInuN"
      },
      "source": [
        "score = list()"
      ],
      "execution_count": null,
      "outputs": []
    },
    {
      "cell_type": "code",
      "metadata": {
        "id": "uwzJ74v8zOx9"
      },
      "source": [
        "#EfficientNetB = 'EfficientNetB' + str(i)\n",
        "efficient = efficientnet.EfficientNetB7(input_shape=(110,110,3), weights='imagenet', include_top=False)\n",
        "for layer in efficient.layers[:10]:\n",
        "    layer.trainable = False\n",
        "input = vgg_19.layers[:5]\n",
        "model = Sequential()\n",
        "model.add(Conv2D(filters=3, kernel_size=(3,3), padding='same', activation='relu', input_shape = (110,110,3)))    #LeakyReLU(alpha=1)\n",
        "model.add(input[0])\n",
        "model.add(input[1])\n",
        "model.add(input[2])\n",
        "\n",
        "\n",
        "model.add(Conv2D(filters=110, kernel_size=(1,23), padding=\"valid\", activation='relu'))\n",
        "model.add(Conv2D(filters=110, kernel_size=(3,3), padding=\"same\", activation='relu'))\n",
        "    #model.add(x[3])\n",
        "    #model.add(x[4])\n",
        "    #model = Model()\n",
        "model.summary()\n",
        "\n",
        "model.compile(loss = 'mean_squared_error', optimizer= 'adam', metrics = ['accuracy']) \n",
        "history = model.fit(x, y, batch_size=32, epochs = 10)\n",
        "score.append(history.history['accuracy'])"
      ],
      "execution_count": null,
      "outputs": []
    },
    {
      "cell_type": "code",
      "metadata": {
        "id": "REm1Rqu-B4ui"
      },
      "source": [
        "score"
      ],
      "execution_count": null,
      "outputs": []
    },
    {
      "cell_type": "code",
      "metadata": {
        "id": "Z_eDDRKvKxbv"
      },
      "source": [
        "plt.figure(figsize=(22,8))\n",
        "color = ['red', 'orange', 'yellow', 'green', 'blue', 'indigo', 'violet', 'cyan']\n",
        "for i in range(8):\n",
        "    plt.plot(np.arange(0, 10), score[i], color = color[i], label = color[i] + '_' + str(i))\n",
        "    plt.legend()\n",
        "    plt.grid()"
      ],
      "execution_count": null,
      "outputs": []
    },
    {
      "cell_type": "code",
      "metadata": {
        "id": "EPkhpdCNRF2v"
      },
      "source": [
        "efficient = efficientnet.EfficientNetB7(input_shape=(110,110,3), weights='imagenet', include_top=False)\n",
        "for layer in efficient.layers[:10]:\n",
        "    layer.trainable = False\n",
        "input = vgg_19.layers[:5]\n",
        "model = Sequential()\n",
        "model.add(Conv2D(filters=3, kernel_size=(3,3), padding='same', activation='relu', input_shape = (110,110,3)))    #LeakyReLU(alpha=1)\n",
        "model.add(input[0])\n",
        "model.add(Conv2D(filters=3, kernel_size=(3,3), padding=\"same\", activation='relu'))\n",
        "#model.add(input[1])\n",
        "model.add(Conv2D(filters=3, kernel_size=(3,3), padding=\"same\", activation='relu'))\n",
        "#model.add(input[2])\n",
        "\n",
        "model.add(Conv2D(filters=110, kernel_size=(3,3), padding=\"same\", activation='relu'))\n",
        "model.add(Conv2D(filters=110, kernel_size=(3,3), padding=\"same\", activation='relu'))\n",
        "model.add(Conv2D(filters=110, kernel_size=(3,3), padding=\"same\", activation='relu'))\n",
        "\n",
        "model.add(Conv2D(filters=110, kernel_size=(1,23), padding=\"valid\", activation='relu'))\n",
        "model.add(Conv2D(filters=110, kernel_size=(3,3), padding=\"same\", activation='relu'))\n",
        "    #model.add(x[3])\n",
        "    #model.add(x[4])\n",
        "    #model = Model()\n",
        "model.summary()\n",
        "\n",
        "model.compile(loss = 'mean_squared_error', optimizer= Adam(learning_rate=0.0005), metrics = ['accuracy']) \n",
        "history = model.fit(x, y, batch_size=32, validation_data=(x_test_temp, y_test_temp), validation_batch_size=32, epochs = 20)"
      ],
      "execution_count": null,
      "outputs": []
    },
    {
      "cell_type": "code",
      "metadata": {
        "id": "Hu_ITMQkRyJA"
      },
      "source": [
        "plot_learning_curve(history, 20)"
      ],
      "execution_count": null,
      "outputs": []
    },
    {
      "cell_type": "code",
      "metadata": {
        "id": "hEthug-zV07k"
      },
      "source": [
        "pd.read_csv('/content/Response EXP1 - AI_instances.csv')"
      ],
      "execution_count": null,
      "outputs": []
    },
    {
      "cell_type": "code",
      "metadata": {
        "id": "HZlaS1d-2nzK"
      },
      "source": [
        "pd.read_csv('/content/Response EXP1 - AI_patients.csv')"
      ],
      "execution_count": null,
      "outputs": []
    },
    {
      "cell_type": "code",
      "metadata": {
        "id": "lLn6FTH22wK6"
      },
      "source": [
        "pd.read_csv('/content/Response EXP1 - Reviewer 1_instances.csv')"
      ],
      "execution_count": null,
      "outputs": []
    },
    {
      "cell_type": "code",
      "metadata": {
        "id": "fKYfY4rH3ZX8"
      },
      "source": [
        "pd.read_csv('/content/Response EXP2 - Reviewer 1_instances.csv')"
      ],
      "execution_count": null,
      "outputs": []
    },
    {
      "cell_type": "code",
      "metadata": {
        "id": "oAqznDtG3je-"
      },
      "source": [
        "pd.read_csv('/content/labels_exp1.csv')"
      ],
      "execution_count": null,
      "outputs": []
    },
    {
      "cell_type": "code",
      "metadata": {
        "id": "jAlLOnCI3yCq"
      },
      "source": [
        "plt.imshow(x_train_0[0], cmap = 'gray')"
      ],
      "execution_count": null,
      "outputs": []
    },
    {
      "cell_type": "code",
      "metadata": {
        "id": "BuJLv26p6pAs"
      },
      "source": [
        "plt.imshow(np.flipud(x_train_0[0])[:, :], cmap = 'gray')"
      ],
      "execution_count": null,
      "outputs": []
    },
    {
      "cell_type": "code",
      "metadata": {
        "id": "rnaO6Zicbkay"
      },
      "source": [
        "plt.imshow(y_0[0, :, :,100], cmap = 'gray')"
      ],
      "execution_count": null,
      "outputs": []
    },
    {
      "cell_type": "code",
      "metadata": {
        "id": "KhDWiK9nbzAL"
      },
      "source": [
        ""
      ],
      "execution_count": null,
      "outputs": []
    }
  ]
}