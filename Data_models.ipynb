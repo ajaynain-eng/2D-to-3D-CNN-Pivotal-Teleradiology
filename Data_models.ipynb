{
  "nbformat": 4,
  "nbformat_minor": 0,
  "metadata": {
    "colab": {
      "name": "Data models.ipynb",
      "provenance": [],
      "mount_file_id": "1ueVq76g8A-LjWI6_vDfv61v5WrnYVrZQ",
      "authorship_tag": "ABX9TyObVhmeFzsXrp9sawchJplJ",
      "include_colab_link": true
    },
    "kernelspec": {
      "name": "python3",
      "display_name": "Python 3"
    },
    "language_info": {
      "name": "python"
    },
    "accelerator": "TPU"
  },
  "cells": [
    {
      "cell_type": "markdown",
      "metadata": {
        "id": "view-in-github",
        "colab_type": "text"
      },
      "source": [
        "<a href=\"https://colab.research.google.com/github/ajaynain-eng/2D-to-3D-CNN-Pivotal-Teleradiology/blob/main/Data_models.ipynb\" target=\"_parent\"><img src=\"https://colab.research.google.com/assets/colab-badge.svg\" alt=\"Open In Colab\"/></a>"
      ]
    },
    {
      "cell_type": "code",
      "metadata": {
        "id": "58ae56o6qOyI"
      },
      "source": [
        " import os\n",
        " os.environ['KAGGLE_CONFIG_DIR'] = '/content'"
      ],
      "execution_count": 12,
      "outputs": []
    },
    {
      "cell_type": "code",
      "metadata": {
        "colab": {
          "base_uri": "https://localhost:8080/"
        },
        "id": "BxO4Nm_Kqfc0",
        "outputId": "bb18faf0-d4e3-43ee-f213-658daba0d0d2"
      },
      "source": [
        "!kaggle datasets download -d ymirsky/medical-deepfakes-lung-cancer "
      ],
      "execution_count": 13,
      "outputs": [
        {
          "output_type": "stream",
          "text": [
            "Warning: Your Kaggle API key is readable by other users on this system! To fix this, you can run 'chmod 600 /content/kaggle.json'\n",
            "Downloading medical-deepfakes-lung-cancer.zip to /content\n",
            "100% 5.98G/5.99G [01:27<00:00, 74.9MB/s]\n",
            "100% 5.99G/5.99G [01:27<00:00, 73.5MB/s]\n"
          ],
          "name": "stdout"
        }
      ]
    },
    {
      "cell_type": "code",
      "metadata": {
        "id": "7dXtk3mSqfhR"
      },
      "source": [
        "!unzip \\*.zip && rm *.zip"
      ],
      "execution_count": null,
      "outputs": []
    },
    {
      "cell_type": "code",
      "metadata": {
        "colab": {
          "base_uri": "https://localhost:8080/"
        },
        "id": "pxZ_hAO-qfkd",
        "outputId": "ba623908-a64c-476f-8e02-d0dd272368de"
      },
      "source": [
        "!pip install pydicom"
      ],
      "execution_count": 16,
      "outputs": [
        {
          "output_type": "stream",
          "text": [
            "Requirement already satisfied: pydicom in /usr/local/lib/python3.7/dist-packages (2.1.2)\n"
          ],
          "name": "stdout"
        }
      ]
    },
    {
      "cell_type": "code",
      "metadata": {
        "id": "W6804paPqfnN"
      },
      "source": [
        "# importing supporting libraries\n",
        "import pandas as pd                    # to create and read data frame and series\n",
        "import numpy as np                     # to work with array\n",
        "from matplotlib import pyplot as plt   # to plot figures\n",
        "import seaborn as sns                  # to plot interactive metric plot and heatmaps\n",
        "import cv2                             # to read and show image\n",
        "from skimage.transform import resize   # as we need to resize the image to reduce model complexity and get optimum accuracy\n",
        "\n",
        "from sklearn.neighbors import KNeighborsRegressor\n",
        "from sklearn.ensemble import RandomForestRegressor\n",
        "from sklearn.linear_model import LinearRegression, Lasso\n",
        "from sklearn.neighbors import KNeighborsRegressor\n",
        "from sklearn.ensemble import RandomForestRegressor\n",
        "from sklearn.linear_model import LinearRegression, Lasso\n",
        "from sklearn.neighbors import KNeighborsRegressor\n",
        "from sklearn.model_selection import cross_val_score\n",
        "\n",
        "import os\n",
        "import warnings\n",
        "import pydicom as dicom\n",
        "import glob\n",
        "import scipy.ndimage\n",
        "from skimage import measure, morphology\n",
        "from mpl_toolkits.mplot3d.art3d import Poly3DCollection\n",
        "\n",
        "\n",
        "# importing required CNN algorithms, optimizers and activation function\n",
        "import tensorflow as tf\n",
        "from tensorflow import keras\n",
        "#from keras.applications import VGG16\n",
        "from keras import Sequential\n",
        "from keras.layers import Conv1D, Conv2D, Conv3D, MaxPool3D, ZeroPadding3D, Dropout, BatchNormalization\n",
        "from keras.layers import Flatten, Dense, Input\n",
        "from keras.layers import LeakyReLU\n",
        "from keras.preprocessing.image import ImageDataGenerator\n",
        "from keras.optimizers import Adam, SGD\n",
        "from keras.models import Model\n",
        "from keras import callbacks\n",
        "# importing pretrained model VGG16 and VGG19\n",
        "from keras.applications.vgg16 import VGG16\n",
        "from keras.applications.vgg19 import VGG19\n",
        "\n",
        "\n",
        "from skimage import measure\n",
        "from skimage.transform import resize\n",
        "from matplotlib.projections import Axes3D\n",
        "from plotly.figure_factory import create_trisurf\n",
        "from mpl_toolkits import mplot3d"
      ],
      "execution_count": 17,
      "outputs": []
    },
    {
      "cell_type": "code",
      "metadata": {
        "id": "yUI9p0-hqfqL"
      },
      "source": [
        "def transform_to_hu(medical_image, image):\n",
        "    intercept = medical_image.RescaleIntercept\n",
        "    slope = medical_image.RescaleSlope\n",
        "    hu_image = image * slope + intercept\n",
        "    return hu_image\n",
        "\n",
        "def window_image(image, window_center, window_width):\n",
        "    img_min = window_center - window_width // 2\n",
        "    img_max = window_center + window_width // 2\n",
        "    window_image = image.copy()\n",
        "    window_image[window_image < img_min] = img_min\n",
        "    window_image[window_image > img_max] = img_max\n",
        "    return window_image\n",
        "\n",
        "def crop_image(image, display=False):\n",
        "# Create a mask with the background pixels\n",
        "    mask = image == 0\n",
        "# Find the lung area\n",
        "    coords = np.array(np.nonzero(~mask))\n",
        "    top_left = np.min(coords, axis=1)\n",
        "    bottom_right = np.max(coords, axis=1)\n",
        "# Remove the background\n",
        "    croped_image = image[top_left[0]:bottom_right[0],\n",
        "                         top_left[1]:bottom_right[1]]\n",
        "    return croped_image\n",
        "\n",
        "def no_crop(medical_img):         # changes the medical image in pixel array and returns the original image\n",
        "    return medical_img.pixel_array\n",
        "\n",
        "def crop_the_image_1(medical_img):     # crop the image corresponding to HU range for lungs\n",
        "    temp_medical_img = medical_img\n",
        "    temp_img = temp_medical_img.pixel_array\n",
        "    hu_image = transform_to_hu(temp_medical_img,temp_img)\n",
        "    lung_image = window_image(hu_image, -500, 1500)\n",
        "    croped_img = crop_image(lung_image, display=False)\n",
        "    return croped_img"
      ],
      "execution_count": 18,
      "outputs": []
    },
    {
      "cell_type": "code",
      "metadata": {
        "id": "f5QJbtwzqftV"
      },
      "source": [
        "def get_data(pid, crop_function):         #  Selects and crops 110 slices and give 3D and 2D image data\n",
        "    files = glob.glob(\"/content/CT_Scans/EXP1_blind/\"+ pid +\"/*.dcm\")\n",
        "    slices = [dicom.read_file(i) for i in files]\n",
        "    slices = sorted(slices, key=lambda s: s.SliceLocation)\n",
        "    s = 0\n",
        "    views = np.empty([110,110,110])\n",
        "    x = (len(slices)-4)/109      # Select 110 slices\n",
        "    for i in range(110):\n",
        "        t = int(4+(x*i))\n",
        "        try:\n",
        "            t_img = crop_function(slices[t])\n",
        "            t_img = resize(t_img, (110,110))\n",
        "        except:\n",
        "            t_img = crop_function(slices[t-1])\n",
        "            t_img = resize(t_img, (110,110))\n",
        "            s = s + 1\n",
        "        views[:,:,i] = t_img          # 3D image array\n",
        "        i += 1\n",
        "    img_2d = views[55,:,:].T\n",
        "    img_2d = img_2d[::-1]           # 2D image array\n",
        "    print(s)     \n",
        "    return views, img_2d"
      ],
      "execution_count": 19,
      "outputs": []
    },
    {
      "cell_type": "code",
      "metadata": {
        "id": "B1FiHIjusskG"
      },
      "source": [
        "def get_correlation(data, threshold):\n",
        "    corr_col = set()\n",
        "    corr = data.corr()\n",
        "    for i in range(len(corr.columns)):\n",
        "        for j in range(i):\n",
        "            if abs(corr.iloc[i,j]) > threshold:  #if abs(corr.iloc[i,j]) > threshold:\n",
        "                corr_col.add(corr.columns[i])\n",
        "    return corr_col\n",
        "\n",
        "def get_uncorr_data(train_data, test_data, threshold):\n",
        "\n",
        "    corr_columns = get_correlation(pd.DataFrame(train_data), threshold)\n",
        "\n",
        "\n",
        "    corrmat = pd.DataFrame(train_data).corr()\n",
        "\n",
        "    corrdata = corrmat.stack().sort_values(ascending = False)  #corrdata = corrmat.abs().stack().sort_values(ascending = False)\n",
        "\n",
        "    corrdata = corrdata[corrdata > threshold]\n",
        "    corrdata = corrdata[corrdata < 1]\n",
        "    corrdata = pd.DataFrame(corrdata).reset_index()\n",
        "    corrdata.columns = ['feature1','feature2', 'value']\n",
        "\n",
        "    grouped_column_list = []\n",
        "    correlated_group_list = []\n",
        "    for column in corrdata['feature1']:\n",
        "        if column not in grouped_column_list:\n",
        "            correlated_block = corrdata[corrdata.feature1 == column]\n",
        "            grouped_column_list = grouped_column_list + list(correlated_block.feature2.unique()) + [column]\n",
        "            correlated_group_list.append(correlated_block)\n",
        "\n",
        "    important_columns = []\n",
        "    for data in correlated_group_list:\n",
        "        columns = list(data.feature1.unique()) + list(data.feature2.unique())\n",
        "        important_columns.append(columns[0])\n",
        "\n",
        "    new_to_drop = list(corr_columns - set(important_columns))\n",
        "\n",
        "    l = new_to_drop\n",
        "\n",
        "    columns_to_drop = list()\n",
        "    for i in l:\n",
        "        if i not in [0,1,108,109]:\n",
        "            if (i-1 not in columns_to_drop and i+1 not in columns_to_drop):     ####\n",
        "                if (i-2 not in columns_to_drop and i+2 not in columns_to_drop):\n",
        "                    columns_to_drop.append(int(i))\n",
        "\n",
        "    col_to_drop_df = pd.concat([corrdata, pd.Series(columns_to_drop, name = 'column_to_drop')], axis = 1)\n",
        "    \n",
        "    return col_to_drop_df"
      ],
      "execution_count": 20,
      "outputs": []
    },
    {
      "cell_type": "code",
      "metadata": {
        "id": "F1upQkBdtOgZ"
      },
      "source": [
        "def get_cross_val_score(col_to_drop, imp_col, y_0):    \n",
        "    rf_score_mean = list()      # diff_1 = droped_col[i] - droped_col[i-1]                             \n",
        "    knn_score_mean = list()     # diff_2 = droped_col[i+1] - droped_col[i] - 1\n",
        "    knn_neighbors = list()      # training_col = imp_col[diff_1:-diff_2]\n",
        "    neighbors = 2\n",
        "    estimators = 60\n",
        "    for i, j in enumerate(col_to_drop):\n",
        "        rf = RandomForestRegressor(n_estimators=40, random_state=0)\n",
        "        rf_score_mean.append(np.array(cross_val_score(rf, pd.DataFrame(y_0[0])[imp_col[i]] + y_0[0][:,j:j+1], pd.DataFrame(y_0[0])[j])).mean()*100)\n",
        "        knn_val_score = cross_val_score(KNeighborsRegressor(n_neighbors=neighbors), pd.DataFrame(y_0[0])[imp_col[i]] + y_0[0][:,j:j+1], pd.DataFrame(y_0[0])[j])\n",
        "        mean = knn_val_score.mean()*100\n",
        "        m = list()\n",
        "        n = list()\n",
        "        p = list()\n",
        "        if mean < 0.95:\n",
        "            for k, o in enumerate([4, 6, 8, 10,12, 24]):\n",
        "                scr = cross_val_score(KNeighborsRegressor(n_neighbors=o), pd.DataFrame(y_0[0])[imp_col[i]] + y_0[0][:, j:j+1], pd.DataFrame(y_0[0])[j])\n",
        "                m.append(o)\n",
        "                n.append(scr.mean())\n",
        "                p.append(scr)\n",
        "            max_arg = np.array(n).argmax()\n",
        "            knn_neighbors.append(m[max_arg])\n",
        "            mean = n[max_arg]*100\n",
        "        else:\n",
        "            knn_neighbors.append(2)\n",
        "        knn_score_mean.append(mean)\n",
        "    return  rf_score_mean, knn_score_mean, knn_neighbors"
      ],
      "execution_count": 21,
      "outputs": []
    },
    {
      "cell_type": "code",
      "metadata": {
        "id": "XmS_227xvsvc"
      },
      "source": [
        "def get_model_to_predict_col(y_train_0, y_test_0, y0):      # here y0 = y_train_0 + y_test_0   (i.e complete data)\n",
        "    all_slices_knn_score = list()\n",
        "    all_slices_rf_score = list()\n",
        "    len_sel_col = list()           \n",
        "    len_droped_col = list()\n",
        "    y_train = np.empty((len(y_train_0),110,88,110))\n",
        "    y_test = np.empty((len(y_test_0),110,88,110))\n",
        "    for s in range(0,110):\n",
        "        y_0 = y_train_0[:,:,:,s]\n",
        "        y_test0 = y_test_0[:,:,:,s]\n",
        "        col_to_drop_df = get_uncorr_data(y_0[5], y_test0[5], 0.96)\n",
        "        col_to_drop = list(col_to_drop_df.dropna().sort_values(by = 'value', ascending=False)['column_to_drop'])\n",
        "        col_to_drop = [int(i) for i in col_to_drop]\n",
        "        col_to_drop.sort()\n",
        "        len_sel_col.append(len(col_to_drop))\n",
        "\n",
        "        imp_col = list()\n",
        "        for i in np.arange(2,108):\n",
        "            if i in col_to_drop:\n",
        "                imp_col.append([i-2,i-1,i+1,i+2])\n",
        "        rf_score_mean, knn_score_mean, knn_neighbors = get_cross_val_score(col_to_drop, imp_col, y0[:,:,:,s])\n",
        "        score_df = pd.DataFrame({'col_to_drop' : col_to_drop, 'rf_score_mean' : rf_score_mean, 'knn_score_mean' : knn_score_mean})\n",
        "        droped_col = list(score_df.sort_values(by='knn_score_mean', ascending=False)['col_to_drop'])[:22]\n",
        "        droped_col.sort()\n",
        "        print(len(droped_col))\n",
        "        all_slices_knn_score.append(np.mean(knn_score_mean))\n",
        "        all_slices_rf_score.append(np.mean(rf_score_mean))\n",
        "\n",
        "        #y_train[:,:,:s] = pd.DataFrame(y_0).drop(droped_col, axis = 1)\n",
        "        #y_test[:,:,:s] = pd.DataFrame(y_test0).drop(droped_col, axis = 1)\n",
        "        for z in range(len(y_train_0)):\n",
        "            y_train[z,:,:,s] = np.array(pd.DataFrame(y_0[z]).drop(droped_col, axis = 1)).reshape(110,88)\n",
        "        for z in range(len(y_test0)):\n",
        "            y_test[z,:,:,s] = np.array(pd.DataFrame(y_test0[z]).drop(droped_col, axis = 1)).reshape(110,88)\n",
        "\n",
        "    return y_train, y_test, all_slices_knn_score, all_slices_rf_score"
      ],
      "execution_count": 23,
      "outputs": []
    },
    {
      "cell_type": "code",
      "metadata": {
        "id": "wcoooPwPvtA9"
      },
      "source": [
        "def plot_learning_curve(model, epochs):   \n",
        "    plt.figure(figsize=(15,6))\n",
        "    plt.plot(np.arange(0,epochs), model.history['accuracy'], color = 'green', label = 'train_accuracy')\n",
        "    plt.plot(np.arange(0,epochs), model.history['loss'], color = 'red', label = 'train_loss')\n",
        "    plt.plot(np.arange(0,epochs), model.history['val_accuracy'], color = 'blue', label = 'test_accuracy')\n",
        "    plt.plot(np.arange(0,epochs), model.history['val_loss'], color = 'black', label = 'test_loss')\n",
        "    plt.grid()\n",
        "    plt.xlabel('no. of epochs')\n",
        "    plt.ylabel('accuracy and loss')\n",
        "    plt.legend(loc = 'lower right')\n",
        "\n",
        "def plot_accuracy_curve(model, epochs):    \n",
        "    plt.figure(figsize=(15,6))\n",
        "    plt.plot(np.arange(0,epochs), model.history['accuracy'], color = 'green', label='accuracy')\n",
        "    plt.plot(np.arange(0,epochs), model.history['val_accuracy'], color = 'red', label = 'test accuracy')\n",
        "    plt.grid()\n",
        "    plt.legend(loc = 'lower right')"
      ],
      "execution_count": 24,
      "outputs": []
    },
    {
      "cell_type": "code",
      "metadata": {
        "id": "0RFPw3coqfwN"
      },
      "source": [
        "patients_id = os.listdir('/content/CT_Scans/EXP1_blind')"
      ],
      "execution_count": 25,
      "outputs": []
    },
    {
      "cell_type": "code",
      "metadata": {
        "id": "rUnyU7Lvqfyo",
        "colab": {
          "base_uri": "https://localhost:8080/"
        },
        "outputId": "9f6d8bcc-3e10-4bc1-ec16-afd0d2475f04"
      },
      "source": [
        "f = patients_id.copy()\n",
        "g2d_0 = np.zeros((80,110,110))\n",
        "views_0 = np.zeros((80,110,110,110))\n",
        "fcount_0 = []\n",
        "for i,j in enumerate(f):\n",
        "    print(i)\n",
        "    img_3d, img_2d = get_data(j, no_crop)\n",
        "    g2d_0[i] = img_2d\n",
        "    views_0[i] = img_3d\n",
        "    #views_0[i] = selected_slices(j, no_crop)\n",
        "x_0 = g2d_0\n",
        "y_0 = views_0\n",
        "np.save('Data_out_0.npy', views_0)              # Temprory storing the data in drive\n",
        "np.save('Data_in_0.npy', g2d_0)"
      ],
      "execution_count": 28,
      "outputs": [
        {
          "output_type": "stream",
          "text": [
            "0\n",
            "1\n",
            "1\n",
            "1\n",
            "2\n",
            "1\n",
            "3\n",
            "1\n",
            "4\n",
            "0\n",
            "5\n",
            "1\n",
            "6\n",
            "1\n",
            "7\n",
            "1\n",
            "8\n",
            "1\n",
            "9\n",
            "1\n",
            "10\n",
            "1\n",
            "11\n",
            "1\n",
            "12\n",
            "1\n",
            "13\n",
            "1\n",
            "14\n",
            "1\n",
            "15\n",
            "1\n",
            "16\n",
            "1\n",
            "17\n",
            "1\n",
            "18\n",
            "1\n",
            "19\n",
            "1\n",
            "20\n",
            "1\n",
            "21\n",
            "1\n",
            "22\n",
            "1\n",
            "23\n",
            "1\n",
            "24\n",
            "1\n",
            "25\n",
            "1\n",
            "26\n",
            "1\n",
            "27\n",
            "1\n",
            "28\n",
            "1\n",
            "29\n",
            "1\n",
            "30\n",
            "1\n",
            "31\n",
            "1\n",
            "32\n",
            "1\n",
            "33\n",
            "1\n",
            "34\n",
            "1\n",
            "35\n",
            "1\n",
            "36\n",
            "1\n",
            "37\n",
            "1\n",
            "38\n",
            "1\n",
            "39\n",
            "1\n",
            "40\n",
            "1\n",
            "41\n",
            "1\n",
            "42\n",
            "1\n",
            "43\n",
            "1\n",
            "44\n",
            "0\n",
            "45\n",
            "1\n",
            "46\n",
            "0\n",
            "47\n",
            "1\n",
            "48\n",
            "1\n",
            "49\n",
            "1\n",
            "50\n",
            "1\n",
            "51\n",
            "1\n",
            "52\n",
            "0\n",
            "53\n",
            "1\n",
            "54\n",
            "1\n",
            "55\n",
            "1\n",
            "56\n",
            "1\n",
            "57\n",
            "1\n",
            "58\n",
            "1\n",
            "59\n",
            "0\n",
            "60\n",
            "1\n",
            "61\n",
            "1\n",
            "62\n",
            "1\n",
            "63\n",
            "1\n",
            "64\n",
            "1\n",
            "65\n",
            "1\n",
            "66\n",
            "1\n",
            "67\n",
            "1\n",
            "68\n",
            "1\n",
            "69\n",
            "1\n",
            "70\n",
            "1\n",
            "71\n",
            "1\n",
            "72\n",
            "1\n",
            "73\n",
            "1\n",
            "74\n",
            "1\n",
            "75\n",
            "1\n",
            "76\n",
            "0\n",
            "77\n",
            "1\n",
            "78\n",
            "1\n",
            "79\n",
            "1\n"
          ],
          "name": "stdout"
        }
      ]
    },
    {
      "cell_type": "code",
      "metadata": {
        "id": "d1RjxgoMqf1C",
        "colab": {
          "base_uri": "https://localhost:8080/"
        },
        "outputId": "22abee76-32f6-44d8-b678-53fc800b4774"
      },
      "source": [
        "f = patients_id.copy()\n",
        "g2d_1 = np.zeros((80,110,110))\n",
        "views_1 = np.zeros((80,110,110,110))\n",
        "for i,j in enumerate(f):\n",
        "    print(i)\n",
        "    img_3d, img_2d = get_data(j, crop_the_image_1)\n",
        "    g2d_1[i] = img_2d\n",
        "    views_1[i] = img_3d\n",
        "    #views_0[i] = selected_slices(j, no_crop)\n",
        "x_1 = g2d_1\n",
        "y_1 = views_1\n",
        "np.save('Data_out_1.npy', views_1)\n",
        "np.save('Data_in_1.npy', g2d_1)"
      ],
      "execution_count": 29,
      "outputs": [
        {
          "output_type": "stream",
          "text": [
            "0\n",
            "1\n",
            "1\n",
            "1\n",
            "2\n",
            "1\n",
            "3\n",
            "1\n",
            "4\n",
            "0\n",
            "5\n",
            "1\n",
            "6\n",
            "1\n",
            "7\n",
            "1\n",
            "8\n",
            "1\n",
            "9\n",
            "1\n",
            "10\n",
            "1\n",
            "11\n",
            "1\n",
            "12\n",
            "1\n",
            "13\n",
            "1\n",
            "14\n",
            "1\n",
            "15\n",
            "1\n",
            "16\n",
            "1\n",
            "17\n",
            "1\n",
            "18\n",
            "1\n",
            "19\n",
            "1\n",
            "20\n",
            "1\n",
            "21\n",
            "1\n",
            "22\n",
            "1\n",
            "23\n",
            "1\n",
            "24\n",
            "1\n",
            "25\n",
            "1\n",
            "26\n",
            "1\n",
            "27\n",
            "1\n",
            "28\n",
            "1\n",
            "29\n",
            "1\n",
            "30\n",
            "1\n",
            "31\n",
            "1\n",
            "32\n",
            "1\n",
            "33\n",
            "1\n",
            "34\n",
            "1\n",
            "35\n",
            "1\n",
            "36\n",
            "1\n",
            "37\n",
            "1\n",
            "38\n",
            "1\n",
            "39\n",
            "1\n",
            "40\n",
            "1\n",
            "41\n",
            "1\n",
            "42\n",
            "1\n",
            "43\n",
            "1\n",
            "44\n",
            "0\n",
            "45\n",
            "1\n",
            "46\n",
            "0\n",
            "47\n",
            "1\n",
            "48\n",
            "1\n",
            "49\n",
            "1\n",
            "50\n",
            "1\n",
            "51\n",
            "1\n",
            "52\n",
            "0\n",
            "53\n",
            "1\n",
            "54\n",
            "1\n",
            "55\n",
            "1\n",
            "56\n",
            "1\n",
            "57\n",
            "1\n",
            "58\n",
            "1\n",
            "59\n",
            "0\n",
            "60\n",
            "1\n",
            "61\n",
            "1\n",
            "62\n",
            "1\n",
            "63\n",
            "1\n",
            "64\n",
            "1\n",
            "65\n",
            "1\n",
            "66\n",
            "1\n",
            "67\n",
            "1\n",
            "68\n",
            "1\n",
            "69\n",
            "1\n",
            "70\n",
            "1\n",
            "71\n",
            "1\n",
            "72\n",
            "1\n",
            "73\n",
            "1\n",
            "74\n",
            "1\n",
            "75\n",
            "1\n",
            "76\n",
            "0\n",
            "77\n",
            "1\n",
            "78\n",
            "1\n",
            "79\n",
            "1\n"
          ],
          "name": "stdout"
        }
      ]
    },
    {
      "cell_type": "code",
      "metadata": {
        "id": "uiiOTEC3qf3_"
      },
      "source": [
        "x_0 = np.load('/content/Data_in_0.npy')\n",
        "y_0 = np.load('/content/Data_out_0.npy')\n",
        "x_1 = np.load('/content/Data_in_1.npy')\n",
        "y_1 = np.load('/content/Data_out_1.npy')"
      ],
      "execution_count": 30,
      "outputs": []
    },
    {
      "cell_type": "code",
      "metadata": {
        "id": "V0f_bCgfqf9Q"
      },
      "source": [
        "x_train_0 = x_0[:66]\n",
        "x_test_0 = x_0[65:]\n",
        "y_train_0 = y_0[:66]\n",
        "y_test_0 = y_0[65:]\n",
        "\n",
        "x0 = x_train_0[:,1,:]\n",
        "y0 = y_train_0[:,:,:,1]          # temp_x = x_0[:][:,1,:], temp_y = y_0[:][:,:,:,1]\n",
        "x_test0 = x_test_0[:,1,:]\n",
        "y_test0 = y_test_0[:,:,:,1]\n",
        "x_train_1 = x_1[:66]\n",
        "x_test_1 = x_1[65:]\n",
        "y_train_1 = y_1[:66]\n",
        "y_test_1 = y_1[65:]\n",
        "\n",
        "x1 = x_train_1[:,1,:]\n",
        "y1 = y_train_1[:,:,:,1]\n",
        "x_test1 = x_test_1[:,1,:]\n",
        "y_test1 = y_test_1[:,:,:,1]"
      ],
      "execution_count": 31,
      "outputs": []
    },
    {
      "cell_type": "code",
      "metadata": {
        "id": "QsZcHepwqf_T",
        "colab": {
          "base_uri": "https://localhost:8080/"
        },
        "outputId": "43971fc1-e359-43b9-ca0c-5f14471b522b"
      },
      "source": [
        "x_test0 = x_test0.reshape(15,110,1)\n",
        "x0 = x0.reshape(66,110,1)\n",
        "\n",
        "x_test1 = x_test1.reshape(15,110,1)\n",
        "x1 = x1.reshape(66,110,1)\n",
        "\n",
        "x0.shape, y0.shape"
      ],
      "execution_count": 32,
      "outputs": [
        {
          "output_type": "execute_result",
          "data": {
            "text/plain": [
              "((66, 110, 1), (66, 110, 110))"
            ]
          },
          "metadata": {
            "tags": []
          },
          "execution_count": 32
        }
      ]
    },
    {
      "cell_type": "code",
      "metadata": {
        "id": "oFOpdaDb92a1",
        "colab": {
          "base_uri": "https://localhost:8080/"
        },
        "outputId": "2220c86b-2671-48d2-bde5-e00b91f1242a"
      },
      "source": [
        "x_train_0.shape"
      ],
      "execution_count": 33,
      "outputs": [
        {
          "output_type": "execute_result",
          "data": {
            "text/plain": [
              "(66, 110, 110)"
            ]
          },
          "metadata": {
            "tags": []
          },
          "execution_count": 33
        }
      ]
    },
    {
      "cell_type": "code",
      "metadata": {
        "id": "IltXYHxdqgVv",
        "colab": {
          "base_uri": "https://localhost:8080/"
        },
        "outputId": "153698e5-0fe9-4770-e0f4-9216eaed302b"
      },
      "source": [
        "y_train.shape, y_test.shape"
      ],
      "execution_count": 35,
      "outputs": [
        {
          "output_type": "execute_result",
          "data": {
            "text/plain": [
              "((66, 110, 88, 110), (15, 110, 88, 110))"
            ]
          },
          "metadata": {
            "tags": []
          },
          "execution_count": 35
        }
      ]
    },
    {
      "cell_type": "code",
      "metadata": {
        "id": "y1_ygCq18yrP",
        "colab": {
          "base_uri": "https://localhost:8080/"
        },
        "outputId": "476bb2b3-0613-4212-b860-e8cf2f73b54c"
      },
      "source": [
        "x = np.empty((66,110,110,3))\n",
        "for i in range(3):\n",
        "    x[:,:,:,i] = x_train_0\n",
        "\n",
        "\n",
        "y = y_train\n",
        "x.shape, y.shape"
      ],
      "execution_count": 36,
      "outputs": [
        {
          "output_type": "execute_result",
          "data": {
            "text/plain": [
              "((66, 110, 110, 3), (66, 110, 88, 110))"
            ]
          },
          "metadata": {
            "tags": []
          },
          "execution_count": 36
        }
      ]
    },
    {
      "cell_type": "code",
      "metadata": {
        "id": "RxFJCc3WAUYd",
        "colab": {
          "base_uri": "https://localhost:8080/"
        },
        "outputId": "2123b170-aced-46e9-e580-bbfa2d86c20a"
      },
      "source": [
        "vgg_16 = VGG16(input_shape=(110,110,3), weights='imagenet', include_top=False)\n",
        "vgg_16.summary()"
      ],
      "execution_count": 38,
      "outputs": [
        {
          "output_type": "stream",
          "text": [
            "Downloading data from https://storage.googleapis.com/tensorflow/keras-applications/vgg16/vgg16_weights_tf_dim_ordering_tf_kernels_notop.h5\n",
            "58892288/58889256 [==============================] - 1s 0us/step\n",
            "58900480/58889256 [==============================] - 1s 0us/step\n",
            "Model: \"vgg16\"\n",
            "_________________________________________________________________\n",
            "Layer (type)                 Output Shape              Param #   \n",
            "=================================================================\n",
            "input_1 (InputLayer)         [(None, 110, 110, 3)]     0         \n",
            "_________________________________________________________________\n",
            "block1_conv1 (Conv2D)        (None, 110, 110, 64)      1792      \n",
            "_________________________________________________________________\n",
            "block1_conv2 (Conv2D)        (None, 110, 110, 64)      36928     \n",
            "_________________________________________________________________\n",
            "block1_pool (MaxPooling2D)   (None, 55, 55, 64)        0         \n",
            "_________________________________________________________________\n",
            "block2_conv1 (Conv2D)        (None, 55, 55, 128)       73856     \n",
            "_________________________________________________________________\n",
            "block2_conv2 (Conv2D)        (None, 55, 55, 128)       147584    \n",
            "_________________________________________________________________\n",
            "block2_pool (MaxPooling2D)   (None, 27, 27, 128)       0         \n",
            "_________________________________________________________________\n",
            "block3_conv1 (Conv2D)        (None, 27, 27, 256)       295168    \n",
            "_________________________________________________________________\n",
            "block3_conv2 (Conv2D)        (None, 27, 27, 256)       590080    \n",
            "_________________________________________________________________\n",
            "block3_conv3 (Conv2D)        (None, 27, 27, 256)       590080    \n",
            "_________________________________________________________________\n",
            "block3_pool (MaxPooling2D)   (None, 13, 13, 256)       0         \n",
            "_________________________________________________________________\n",
            "block4_conv1 (Conv2D)        (None, 13, 13, 512)       1180160   \n",
            "_________________________________________________________________\n",
            "block4_conv2 (Conv2D)        (None, 13, 13, 512)       2359808   \n",
            "_________________________________________________________________\n",
            "block4_conv3 (Conv2D)        (None, 13, 13, 512)       2359808   \n",
            "_________________________________________________________________\n",
            "block4_pool (MaxPooling2D)   (None, 6, 6, 512)         0         \n",
            "_________________________________________________________________\n",
            "block5_conv1 (Conv2D)        (None, 6, 6, 512)         2359808   \n",
            "_________________________________________________________________\n",
            "block5_conv2 (Conv2D)        (None, 6, 6, 512)         2359808   \n",
            "_________________________________________________________________\n",
            "block5_conv3 (Conv2D)        (None, 6, 6, 512)         2359808   \n",
            "_________________________________________________________________\n",
            "block5_pool (MaxPooling2D)   (None, 3, 3, 512)         0         \n",
            "=================================================================\n",
            "Total params: 14,714,688\n",
            "Trainable params: 14,714,688\n",
            "Non-trainable params: 0\n",
            "_________________________________________________________________\n"
          ],
          "name": "stdout"
        }
      ]
    },
    {
      "cell_type": "code",
      "metadata": {
        "id": "Z3InczwbqgXu",
        "colab": {
          "base_uri": "https://localhost:8080/"
        },
        "outputId": "5918cc15-277f-4d9f-8eef-bc42510542be"
      },
      "source": [
        "vgg_16 = VGG16(input_shape=(110,110,3), weights='imagenet', include_top=False)\n",
        "for layer in vgg_16.layers[:10]:\n",
        "    layer.trainable = False\n",
        "input = vgg_16.layers[:5]\n",
        "model = Sequential()\n",
        "model.add(Conv2D(filters=3, kernel_size=(3,3), padding='same', activation='relu', input_shape = (110,110,3)))    #LeakyReLU(alpha=1)\n",
        "model.add(input[0])\n",
        "model.add(input[1])\n",
        "model.add(input[2])\n",
        "\n",
        "\n",
        "model.add(Conv2D(filters=110, kernel_size=(1,23), padding=\"valid\", activation='relu'))\n",
        "model.add(Conv2D(filters=110, kernel_size=(3,3), padding=\"same\", activation='relu'))\n",
        "#model.add(x[3])\n",
        "#model.add(x[4])\n",
        "#model = Model()\n",
        "model.summary()"
      ],
      "execution_count": 39,
      "outputs": [
        {
          "output_type": "stream",
          "text": [
            "Model: \"sequential\"\n",
            "_________________________________________________________________\n",
            "Layer (type)                 Output Shape              Param #   \n",
            "=================================================================\n",
            "conv2d (Conv2D)              (None, 110, 110, 3)       84        \n",
            "_________________________________________________________________\n",
            "input_2 (InputLayer)         multiple                  0         \n",
            "_________________________________________________________________\n",
            "block1_conv1 (Conv2D)        (None, 110, 110, 64)      1792      \n",
            "_________________________________________________________________\n",
            "block1_conv2 (Conv2D)        (None, 110, 110, 64)      36928     \n",
            "_________________________________________________________________\n",
            "conv2d_1 (Conv2D)            (None, 110, 88, 110)      162030    \n",
            "_________________________________________________________________\n",
            "conv2d_2 (Conv2D)            (None, 110, 88, 110)      109010    \n",
            "=================================================================\n",
            "Total params: 309,844\n",
            "Trainable params: 271,124\n",
            "Non-trainable params: 38,720\n",
            "_________________________________________________________________\n"
          ],
          "name": "stdout"
        }
      ]
    },
    {
      "cell_type": "code",
      "metadata": {
        "id": "e-wU177pqgaD",
        "colab": {
          "base_uri": "https://localhost:8080/"
        },
        "outputId": "f0f66b62-c526-427a-c362-5293d26fecd5"
      },
      "source": [
        "model.compile(loss = 'mean_squared_error', optimizer= 'adam', metrics = ['accuracy']) \n",
        "history = model.fit(x, y, batch_size=32, epochs = 20)"
      ],
      "execution_count": 40,
      "outputs": [
        {
          "output_type": "stream",
          "text": [
            "Epoch 1/20\n",
            "3/3 [==============================] - 42s 7s/step - loss: 0.8144 - accuracy: 0.0057\n",
            "Epoch 2/20\n",
            "3/3 [==============================] - 26s 7s/step - loss: 0.0413 - accuracy: 0.0057\n",
            "Epoch 3/20\n",
            "3/3 [==============================] - 26s 7s/step - loss: 0.0047 - accuracy: 0.0062\n",
            "Epoch 4/20\n",
            "3/3 [==============================] - 30s 8s/step - loss: 0.0021 - accuracy: 0.1401\n",
            "Epoch 5/20\n",
            "3/3 [==============================] - 26s 7s/step - loss: 0.0019 - accuracy: 0.1497\n",
            "Epoch 6/20\n",
            "3/3 [==============================] - 26s 7s/step - loss: 0.0019 - accuracy: 0.1549\n",
            "Epoch 7/20\n",
            "3/3 [==============================] - 26s 7s/step - loss: 0.0018 - accuracy: 0.1586\n",
            "Epoch 8/20\n",
            "3/3 [==============================] - 26s 7s/step - loss: 0.0018 - accuracy: 0.1602\n",
            "Epoch 9/20\n",
            "3/3 [==============================] - 26s 7s/step - loss: 0.0017 - accuracy: 0.1649\n",
            "Epoch 10/20\n",
            "3/3 [==============================] - 26s 7s/step - loss: 0.0017 - accuracy: 0.1618\n",
            "Epoch 11/20\n",
            "3/3 [==============================] - 26s 7s/step - loss: 0.0017 - accuracy: 0.1665\n",
            "Epoch 12/20\n",
            "3/3 [==============================] - 26s 7s/step - loss: 0.0017 - accuracy: 0.1620\n",
            "Epoch 13/20\n",
            "3/3 [==============================] - 26s 7s/step - loss: 0.0017 - accuracy: 0.1654\n",
            "Epoch 14/20\n",
            "3/3 [==============================] - 26s 7s/step - loss: 0.0016 - accuracy: 0.1624\n",
            "Epoch 15/20\n",
            "3/3 [==============================] - 26s 7s/step - loss: 0.0017 - accuracy: 0.1647\n",
            "Epoch 16/20\n",
            "3/3 [==============================] - 26s 7s/step - loss: 0.0017 - accuracy: 0.1674\n",
            "Epoch 17/20\n",
            "3/3 [==============================] - 26s 7s/step - loss: 0.0017 - accuracy: 0.1616\n",
            "Epoch 18/20\n",
            "3/3 [==============================] - 26s 7s/step - loss: 0.0017 - accuracy: 0.1701\n",
            "Epoch 19/20\n",
            "3/3 [==============================] - 26s 7s/step - loss: 0.0017 - accuracy: 0.1715\n",
            "Epoch 20/20\n",
            "3/3 [==============================] - 26s 7s/step - loss: 0.0017 - accuracy: 0.1712\n"
          ],
          "name": "stdout"
        }
      ]
    },
    {
      "cell_type": "code",
      "metadata": {
        "id": "KvXw4hKLqgcy"
      },
      "source": [
        ""
      ],
      "execution_count": 40,
      "outputs": []
    }
  ]
}